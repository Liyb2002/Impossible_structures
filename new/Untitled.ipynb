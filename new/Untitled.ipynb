{
 "cells": [
  {
   "cell_type": "code",
   "execution_count": 1,
   "id": "011fa518",
   "metadata": {},
   "outputs": [
    {
     "name": "stdout",
     "output_type": "stream",
     "text": [
      "[Taichi] version 1.1.3, llvm 10.0.0, commit 1262a70a, osx, python 3.9.12\n",
      "[I 11/08/22 21:17:44.324 10956830] [shell.py:_shell_pop_print@33] Graphical python shell detected, using wrapped sys.stdout\n",
      "[Taichi] Starting on arch=metal\n"
     ]
    }
   ],
   "source": [
    "import generate"
   ]
  },
  {
   "cell_type": "code",
   "execution_count": 81,
   "id": "53b79ed1",
   "metadata": {},
   "outputs": [],
   "source": [
    "class Camera:\n",
    "    def __init__(self, fov=60, aspect_ratio=1.0):\n",
    "        # Camera parameters\n",
    "        self.lookfrom = np.array((0.4, 0.5, 2.0))\n",
    "        self.lookat = np.array([0.0, 0.0, 0.0])\n",
    "        self.vup = np.array([0.0, 1.0, 0.0])\n",
    "        self.fov = fov\n",
    "        self.aspect_ratio = aspect_ratio\n",
    "        \n",
    "        theta = self.fov * (PI / 180.0)\n",
    "        half_height = ti.tan(theta / 2.0)\n",
    "        half_width = self.aspect_ratio * half_height\n",
    "        \n",
    "        self.cam_origin = self.lookfrom\n",
    "        \n",
    "        w = self.lookfrom - self.lookat\n",
    "        w = w / np.linalg.norm(w)\n",
    "\n",
    "        u = np.cross(self.vup, w)\n",
    "        u = u / np.linalg.norm(u)\n",
    "        \n",
    "        v = np.cross(w, u)\n",
    "        \n",
    "        self.cam_lower_left_corner = self.cam_origin - half_width * u - half_height * v - w\n",
    "        self.cam_horizontal = 2 * half_width * u\n",
    "        self.cam_vertical = 2 * half_height * v\n",
    "    \n",
    "    def test(self):\n",
    "        print(\"test\")\n",
    "    \n",
    "    def get_direction(self, u, v):\n",
    "        \n",
    "        u = (u) / 800\n",
    "        v = (v) / 800\n",
    "\n",
    "        direction = self.cam_lower_left_corner + u * self.cam_horizontal + v * self.cam_vertical - self.cam_origin\n",
    "        #direction = direction / np.linalg.norm(direction)\n",
    "        \n",
    "        print(\"self.cam_lower_left_corner[None]\", self.cam_lower_left_corner)\n",
    "        print(\"u\", u)\n",
    "        print(\"self.cam_horizontal[None]\", u * self.cam_horizontal)\n",
    "        print(\"self.cam_vertical[None]\", v * self.cam_vertical)\n",
    "        print(\"self.cam_origin[None]\", self.cam_origin)\n",
    "        \n",
    "        return direction\n",
    "    \n",
    "    def get_impossible_intersection(self,index,u,v):\n",
    "        direction = self.get_direction(u,v)\n",
    "        return self.lookfrom + index*direction"
   ]
  },
  {
   "cell_type": "code",
   "execution_count": 85,
   "id": "1452cff7",
   "metadata": {},
   "outputs": [
    {
     "name": "stdout",
     "output_type": "stream",
     "text": [
      "self.cam_lower_left_corner[None] [-0.32965573 -0.29884196  1.29564164]\n",
      "u 0.5\n",
      "self.cam_horizontal[None] [ 0.56613852  0.         -0.1132277 ]\n",
      "self.cam_vertical[None] [-0.03369872  0.7009334  -0.16849361]\n",
      "self.cam_origin[None] [0.4 0.5 2. ]\n"
     ]
    },
    {
     "data": {
      "text/plain": [
       "array([-0.1916478 ,  0.20627433, -0.95823902])"
      ]
     },
     "execution_count": 85,
     "metadata": {},
     "output_type": "execute_result"
    }
   ],
   "source": [
    "a = Camera()\n",
    "\n",
    "a.get_impossible_intersection(3,400, 500)"
   ]
  },
  {
   "cell_type": "code",
   "execution_count": 88,
   "id": "c4a7b9eb",
   "metadata": {},
   "outputs": [
    {
     "name": "stdout",
     "output_type": "stream",
     "text": [
      "self.cam_lower_left_corner[None] [-0.32965573 -0.29884196  1.29564164]\n",
      "u 0.5\n",
      "self.cam_horizontal[None] [ 0.56613852  0.         -0.1132277 ]\n",
      "self.cam_vertical[None] [-0.03369872  0.7009334  -0.16849361]\n",
      "self.cam_origin[None] [0.4 0.5 2. ]\n"
     ]
    },
    {
     "data": {
      "text/plain": [
       "array([-0.38886374,  0.10836577, -1.94431869])"
      ]
     },
     "execution_count": 88,
     "metadata": {},
     "output_type": "execute_result"
    }
   ],
   "source": [
    "a.get_impossible_intersection(4,400, 500)"
   ]
  },
  {
   "cell_type": "code",
   "execution_count": 84,
   "id": "269cb992",
   "metadata": {},
   "outputs": [
    {
     "name": "stdout",
     "output_type": "stream",
     "text": [
      "self.cam_lower_left_corner[None] [-0.32965573 -0.29884196  1.29564164]\n",
      "u 0.5\n",
      "self.cam_horizontal[None] [ 0.56613852  0.         -0.1132277 ]\n",
      "self.cam_vertical[None] [-0.03369872  0.7009334  -0.16849361]\n",
      "self.cam_origin[None] [0.4 0.5 2. ]\n"
     ]
    },
    {
     "data": {
      "text/plain": [
       "array([-0.19721593, -0.09790856, -0.98607967])"
      ]
     },
     "execution_count": 84,
     "metadata": {},
     "output_type": "execute_result"
    }
   ],
   "source": [
    "a.get_direction(400, 500)"
   ]
  },
  {
   "cell_type": "code",
   "execution_count": null,
   "id": "9f8c1f9b",
   "metadata": {},
   "outputs": [],
   "source": []
  }
 ],
 "metadata": {
  "kernelspec": {
   "display_name": "Python 3 (ipykernel)",
   "language": "python",
   "name": "python3"
  },
  "language_info": {
   "codemirror_mode": {
    "name": "ipython",
    "version": 3
   },
   "file_extension": ".py",
   "mimetype": "text/x-python",
   "name": "python",
   "nbconvert_exporter": "python",
   "pygments_lexer": "ipython3",
   "version": "3.9.12"
  }
 },
 "nbformat": 4,
 "nbformat_minor": 5
}
