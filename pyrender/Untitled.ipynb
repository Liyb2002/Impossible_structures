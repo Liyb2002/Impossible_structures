{
 "cells": [
  {
   "cell_type": "code",
   "execution_count": 2,
   "id": "280740ef",
   "metadata": {},
   "outputs": [],
   "source": [
    "import pyglet\n",
    "pyglet.options['shadow_window'] = False\n",
    "import os\n",
    "import numpy as np\n",
    "import trimesh\n",
    "import math\n",
    "\n",
    "from pyrender import PerspectiveCamera,\\\n",
    "                     DirectionalLight, SpotLight, PointLight,\\\n",
    "                     MetallicRoughnessMaterial,\\\n",
    "                     Primitive, Mesh, Node, Scene,\\\n",
    "                     Viewer, OffscreenRenderer, RenderFlags\n"
   ]
  },
  {
   "cell_type": "code",
   "execution_count": null,
   "id": "ce02256a",
   "metadata": {},
   "outputs": [
    {
     "name": "stderr",
     "output_type": "stream",
     "text": [
      "2022-12-07 18:23:11.154 python[6860:407356] Warning: Expected min height of view: (<NSPopoverTouchBarItemButton: 0x7fa720ca0b00>) to be less than or equal to 30 but got a height of 32.000000. This error will be logged once per view in violation.\n",
      "2022-12-07 18:23:11.155 python[6860:407356] Warning: Expected min height of view: (<NSButton: 0x7fa6e19afd40>) to be less than or equal to 30 but got a height of 32.000000. This error will be logged once per view in violation.\n",
      "2022-12-07 18:23:11.157 python[6860:407356] Warning: Expected min height of view: (<NSPopoverTouchBarItemButton: 0x7fa6e19b1c70>) to be less than or equal to 30 but got a height of 32.000000. This error will be logged once per view in violation.\n",
      "2022-12-07 18:23:11.159 python[6860:407356] Warning: Expected min height of view: (<NSPopoverTouchBarItemButton: 0x7fa6e19bb270>) to be less than or equal to 30 but got a height of 32.000000. This error will be logged once per view in violation.\n"
     ]
    }
   ],
   "source": [
    "\n",
    "#------------------------------------------------------------------------------\n",
    "# Creating meshes with per-face colors\n",
    "#------------------------------------------------------------------------------\n",
    "boxf_trimesh = trimesh.creation.box(extents=0.01*np.ones(3))\n",
    "boxf_face_colors = (0.3,0.5,0.2,1)\n",
    "boxf_trimesh.visual.face_colors = boxf_face_colors\n",
    "boxf_mesh = Mesh.from_trimesh(boxf_trimesh, smooth=False)\n",
    "\n",
    "#==============================================================================\n",
    "# Light creation\n",
    "#==============================================================================\n",
    "\n",
    "direc_l = DirectionalLight(color=np.ones(3), intensity=1.0)\n",
    "\n",
    "#==============================================================================\n",
    "# Camera creation\n",
    "#==============================================================================\n",
    "\n",
    "cam = PerspectiveCamera(yfov=np.pi / 3.0, aspectRatio=1.0)\n",
    "\n",
    "cam_pose = np.array([\n",
    "    [0.0,  -np.sqrt(2)/2, np.sqrt(2)/2, 0.5],\n",
    "    [1.0, 0.0,           0.0,           0.0],\n",
    "    [0.0,  np.sqrt(2)/2,  np.sqrt(2)/2, 0.4],\n",
    "    [0.0,  0.0,           0.0,          1.0]\n",
    "])\n",
    "\n",
    "#==============================================================================\n",
    "# Scene creation\n",
    "#==============================================================================\n",
    "\n",
    "scene = Scene(ambient_light=np.array([0.02, 0.02, 0.02, 1.0]))\n",
    "\n",
    "#==============================================================================\n",
    "# Adding objects to the scene\n",
    "#==============================================================================\n",
    "\n",
    "#------------------------------------------------------------------------------\n",
    "# By manually creating nodes\n",
    "#------------------------------------------------------------------------------\n",
    "boxf_node = Node(mesh=boxf_mesh, translation=np.array([0, 0, 0]))\n",
    "boxf_node2 = Node(mesh=boxf_mesh, translation=np.array([0.1, 0, 0]))\n",
    "boxf_node3 = Node(mesh=boxf_mesh, translation=np.array([0, 0.1, 0]))\n",
    "\n",
    "scene.add_node(boxf_node)\n",
    "scene.add_node(boxf_node2)\n",
    "scene.add_node(boxf_node3)\n",
    "\n",
    "\n",
    "#------------------------------------------------------------------------------\n",
    "# By using the add() utility function\n",
    "#------------------------------------------------------------------------------\n",
    "\n",
    "#==============================================================================\n",
    "# Using the viewer with a default camera\n",
    "#==============================================================================\n",
    "\n",
    "v = Viewer(scene, shadows=True)\n",
    "\n",
    "#==============================================================================\n",
    "# Using the viewer with a pre-specified camera\n",
    "#==============================================================================\n",
    "cam_node = scene.add(cam, pose=np.eye(4))\n",
    "v = Viewer(scene, central_node=boxf_node)\n",
    "\n",
    "#==============================================================================\n",
    "# Rendering offscreen from that camera\n",
    "#==============================================================================\n",
    "\n",
    "r = OffscreenRenderer(viewport_width=640*2, viewport_height=480*2)\n",
    "color, depth = r.render(scene)\n"
   ]
  },
  {
   "cell_type": "code",
   "execution_count": 12,
   "id": "6db461db",
   "metadata": {},
   "outputs": [
    {
     "ename": "ValueError",
     "evalue": "Node must already be in scene",
     "output_type": "error",
     "traceback": [
      "\u001b[0;31m---------------------------------------------------------------------------\u001b[0m",
      "\u001b[0;31mValueError\u001b[0m                                Traceback (most recent call last)",
      "Input \u001b[0;32mIn [12]\u001b[0m, in \u001b[0;36m<cell line: 1>\u001b[0;34m()\u001b[0m\n\u001b[0;32m----> 1\u001b[0m tf \u001b[38;5;241m=\u001b[39m \u001b[43mscene\u001b[49m\u001b[38;5;241;43m.\u001b[39;49m\u001b[43mget_pose\u001b[49m\u001b[43m(\u001b[49m\u001b[43mcam\u001b[49m\u001b[43m)\u001b[49m\n\u001b[1;32m      2\u001b[0m \u001b[38;5;28mprint\u001b[39m(tf)\n",
      "File \u001b[0;32m~/opt/anaconda3/lib/python3.9/site-packages/pyrender/scene.py:451\u001b[0m, in \u001b[0;36mScene.get_pose\u001b[0;34m(self, node)\u001b[0m\n\u001b[1;32m    438\u001b[0m \u001b[38;5;124;03m\"\"\"Get the world-frame pose of a node in the scene.\u001b[39;00m\n\u001b[1;32m    439\u001b[0m \n\u001b[1;32m    440\u001b[0m \u001b[38;5;124;03mParameters\u001b[39;00m\n\u001b[0;32m   (...)\u001b[0m\n\u001b[1;32m    448\u001b[0m \u001b[38;5;124;03m    The transform matrix for this node.\u001b[39;00m\n\u001b[1;32m    449\u001b[0m \u001b[38;5;124;03m\"\"\"\u001b[39;00m\n\u001b[1;32m    450\u001b[0m \u001b[38;5;28;01mif\u001b[39;00m node \u001b[38;5;129;01mnot\u001b[39;00m \u001b[38;5;129;01min\u001b[39;00m \u001b[38;5;28mself\u001b[39m\u001b[38;5;241m.\u001b[39mnodes:\n\u001b[0;32m--> 451\u001b[0m     \u001b[38;5;28;01mraise\u001b[39;00m \u001b[38;5;167;01mValueError\u001b[39;00m(\u001b[38;5;124m'\u001b[39m\u001b[38;5;124mNode must already be in scene\u001b[39m\u001b[38;5;124m'\u001b[39m)\n\u001b[1;32m    452\u001b[0m \u001b[38;5;28;01mif\u001b[39;00m node \u001b[38;5;129;01min\u001b[39;00m \u001b[38;5;28mself\u001b[39m\u001b[38;5;241m.\u001b[39m_path_cache:\n\u001b[1;32m    453\u001b[0m     path \u001b[38;5;241m=\u001b[39m \u001b[38;5;28mself\u001b[39m\u001b[38;5;241m.\u001b[39m_path_cache[node]\n",
      "\u001b[0;31mValueError\u001b[0m: Node must already be in scene"
     ]
    }
   ],
   "source": [
    "tf = scene.get_pose(cam)\n",
    "print(tf)"
   ]
  },
  {
   "cell_type": "code",
   "execution_count": null,
   "id": "0f552b69",
   "metadata": {},
   "outputs": [],
   "source": []
  }
 ],
 "metadata": {
  "kernelspec": {
   "display_name": "Python 3 (ipykernel)",
   "language": "python",
   "name": "python3"
  },
  "language_info": {
   "codemirror_mode": {
    "name": "ipython",
    "version": 3
   },
   "file_extension": ".py",
   "mimetype": "text/x-python",
   "name": "python",
   "nbconvert_exporter": "python",
   "pygments_lexer": "ipython3",
   "version": "3.9.12"
  }
 },
 "nbformat": 4,
 "nbformat_minor": 5
}
