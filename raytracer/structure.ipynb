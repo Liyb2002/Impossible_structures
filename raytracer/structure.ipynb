{
 "cells": [
  {
   "cell_type": "code",
   "execution_count": 1,
   "id": "1207fa99",
   "metadata": {},
   "outputs": [],
   "source": [
    "import numpy as np\n",
    "import random\n",
    "\n",
    "class Structure:\n",
    "    def __init__(self, seed, seed_next_possible, portion, destination):\n",
    "        self.history = None\n",
    "        self.data = None\n",
    "        self.rect = []\n",
    "        self.next_possibles = None\n",
    "        \n",
    "        self.portion = portion\n",
    "        self.seed = seed\n",
    "        self.seed_next_possible = seed_next_possible\n",
    "        \n",
    "        self.cleanUp()\n",
    "        self.destination = destination\n",
    "        self.preprocess()\n",
    "\n",
    "        #print(\"initialized data: \\n\", self.data)\n",
    "    \n",
    "    def preprocess(self):\n",
    "        start = self.seed_next_possible[0]\n",
    "        direction = start[-1]\n",
    "        new_vertex_clean = np.array([start[0], start[1], start[2]])\n",
    "        self.add_vertex(new_vertex_clean)\n",
    "        \n",
    "        span = 4 + int(random.random() * 6 % 6)\n",
    "        for i in range(span):\n",
    "            new_vertex_clean = self.get_vertex_forward(new_vertex_clean, direction)\n",
    "            self.add_vertex(new_vertex_clean)\n",
    "        \n",
    "        self.remove_possible(0)\n",
    "        self.history = np.append(self.history, self.data[1:], axis=0)\n",
    "        self.rect.append(block_to_rect(self.data, self.portion))\n",
    "        self.data = np.array([[0,0,0]])\n",
    "        \n",
    "        self.to_dest(new_vertex_clean)\n",
    "\n",
    "\n",
    "    def to_dest(self, new_vertex_clean):\n",
    "        x_dist = abs(self.destination[0] - new_vertex_clean[0])\n",
    "        x_start = min(self.destination[0], new_vertex_clean[0])\n",
    "        startPos = np.array([x_start, new_vertex_clean[1], new_vertex_clean[2]])\n",
    "        scale = np.array([x_dist+0.07*self.portion, 0.07*self.portion, 0.07*self.portion])\n",
    "        rect1 = rect(startPos, scale)\n",
    "        \n",
    "        y_dist = abs(self.destination[1] - new_vertex_clean[1])\n",
    "        y_start = min(self.destination[1], new_vertex_clean[1])\n",
    "        startPos2 = np.array([self.destination[0], y_start, new_vertex_clean[2]])\n",
    "        scale2 = np.array([0.07,y_dist+0.07*self.portion, 0.07*self.portion])\n",
    "        rect2 = rect(startPos2, scale2)\n",
    "        \n",
    "        self.rect.append(rect1)\n",
    "        self.rect.append(rect2)\n",
    "        \n",
    "        \n",
    "    def cleanUp(self):\n",
    "        self.history = self.seed\n",
    "        self.data = np.array([[0.0,0.0,0.0]])\n",
    "        self.data = np.append(self.data, self.seed, axis = 0)\n",
    "        self.rect = []\n",
    "        self.rect.append(block_to_rect(self.data, self.portion))\n",
    "        self.data = np.array([[0.0,0.0,0.0]])\n",
    "        self.next_possibles = self.seed_next_possible\n",
    "\n",
    "  \n",
    "    def cost_func(self, pos):\n",
    "        return random.random()\n",
    "  \n",
    "    def add_vertex(self, next_vertex):\n",
    "        x = next_vertex[0]\n",
    "        y = next_vertex[1]\n",
    "        z = next_vertex[2]\n",
    "\n",
    "        self.data = np.vstack([self.data, np.array([x,y,z])])\n",
    "\n",
    "    def remove_possible(self, next_index):\n",
    "        self.next_possibles = np.delete(self.next_possibles, next_index, axis=0)\n",
    "  \n",
    "  #define direction:\n",
    "  #x=-1 -> 0, x=1 -> 1, y=-1 -> 2, y=1 -> 3, z=-1 -> 4, z=1 -> 5,\n",
    "    def get_next_possible(self, available_contact, direction):\n",
    "        result = np.array([0,0,0,0])\n",
    "\n",
    "        available_contact = np.append(available_contact, 0)\n",
    "        if direction == 0 or direction == 1:\n",
    "            result = np.vstack([result, available_contact + np.array([0.0,0.07,0.0,3])])\n",
    "            result = np.vstack([result, available_contact + np.array([0.0,-0.07,0.0,2])])\n",
    "            result = np.delete(result, 0, axis =0)\n",
    "            return result\n",
    "\n",
    "        if direction == 2 or direction == 3:\n",
    "            result = np.vstack([result, available_contact + np.array([0.07,0.0,0.0,1])])\n",
    "            result = np.vstack([result, available_contact + np.array([-0.07,0.0,0.0,1])])\n",
    "            result = np.delete(result, 0, axis =0)\n",
    "            return result\n",
    "\n",
    "    \n",
    "    def get_last_direction(self,direction):\n",
    "        count =direction[1]*1 + direction[2]*2\n",
    "        return count\n",
    "  \n",
    "    def get_vertex_forward(self, new_vertex_clean, direction):\n",
    "        if direction == 0:\n",
    "            return new_vertex_clean + np.array([-0.07,0.0,0.0])\n",
    "\n",
    "        if direction == 1:\n",
    "            return new_vertex_clean + np.array([0.07,0.0,0.0])\n",
    "\n",
    "        if direction == 2:\n",
    "            return new_vertex_clean + np.array([0.0,-0.07,0.0])\n",
    "\n",
    "        if direction == 3:\n",
    "            return new_vertex_clean + np.array([0.0,0.07,0.0])\n",
    "    \n",
    "    def generate(self, steps):\n",
    "        for i in range(steps):\n",
    "            #print(\"step \", i+1)\n",
    "            self.process()\n",
    "            self.history = np.append(self.history, self.data[1:], axis=0)\n",
    "            self.rect.append(block_to_rect(self.data, self.portion))\n",
    "            self.data = np.array([[0,0,0]])\n",
    "\n",
    "\n",
    "\n",
    "    def process(self):\n",
    "        #step 1: for all available contacts, assume they will make a turn  \n",
    "        #print(\"next_possibles\", self.next_possibles)\n",
    "\n",
    "        #step2: create a 1d array that stores cost for each possible point\n",
    "        costs = np.array([])\n",
    "        for next_possible in self.next_possibles:\n",
    "            costs = np.append(costs, self.cost_func(next_possible))\n",
    "\n",
    "        #print(\"costs\", costs)\n",
    "\n",
    "        #step3 find the next_vertex with smallest cost\n",
    "        next_index = np.argpartition(costs, -1)[-1:]\n",
    "        next_vertex = self.next_possibles[next_index] \n",
    "\n",
    "        #print(\"next_vertex\", next_vertex)\n",
    "\n",
    "        #step4 add next_vertex to data\n",
    "        new_direction = next_vertex[0][3]\n",
    "        #print(\"new_direction\", new_direction)\n",
    "        new_vertex_clean = np.array([next_vertex[0][0], next_vertex[0][1], next_vertex[0][2]])\n",
    "        #print(\"new_vertex_clean\", new_vertex_clean)\n",
    "        self.add_vertex(new_vertex_clean)\n",
    "        \n",
    "        span = 3 + int(random.random() * 6 % 6)\n",
    "        for i in range(span):\n",
    "            new_vertex_clean = self.get_vertex_forward(new_vertex_clean, new_direction)\n",
    "            self.add_vertex(new_vertex_clean)\n",
    "\n",
    "        #print(\"data: \\n\", self.data)\n",
    "\n",
    "        #step5 update next_possible\n",
    "        self.remove_possible(next_index)\n",
    "        #print(\"next_possibles, removed old\", self.next_possibles)\n",
    "        #print(\"next_vertex\", new_vertex_clean)\n",
    "        #print(\"new_direction\", new_direction)\n",
    "        new_next_possibles = self.get_next_possible(new_vertex_clean, new_direction)\n",
    "        self.next_possibles = np.append(self.next_possibles,new_next_possibles, axis=0)\n",
    "        #print(\"next_possibles, add new\", self.next_possibles)\n"
   ]
  },
  {
   "cell_type": "code",
   "execution_count": 2,
   "id": "e7b3a1c7",
   "metadata": {},
   "outputs": [],
   "source": [
    "def block_to_rect(buffer, portion):\n",
    "    start = buffer[1]\n",
    "    end = buffer[-1]\n",
    "    x_start = min(start[0],end[0])\n",
    "    y_start = min(start[1],end[1])    \n",
    "    z_start = min(start[2],end[2])\n",
    "    \n",
    "    x_scale = max(abs(start[0] - end[0]), 0.05 * portion)\n",
    "    y_scale = max(abs(start[1] - end[1]), 0.05 * portion)\n",
    "    z_scale = max(abs(start[2] - end[2]), 0.05 * portion)\n",
    "    \n",
    "    if(x_scale > 0.05 * portion):\n",
    "        x_scale += 0.05 * portion\n",
    "        \n",
    "    if(y_scale > 0.05 * portion):\n",
    "        y_scale += 0.05 * portion\n",
    "        \n",
    "    if(z_scale > 0.05 * portion):\n",
    "        z_scale += 0.05 * portion\n",
    "\n",
    "    startPos = np.array([x_start,y_start,z_start])\n",
    "    scale = np.array([x_scale,y_scale,z_scale])\n",
    "    \n",
    "    tempt = rect(startPos, scale)\n",
    "    return tempt\n"
   ]
  },
  {
   "cell_type": "code",
   "execution_count": 3,
   "id": "157a827f",
   "metadata": {},
   "outputs": [],
   "source": [
    "seed = np.array([[0.0,0.0,0.0], [0.0,0.1,0.0],[0.0,0.2,0.0],[0.0,0.3,0.0], [0.0,0.4,0.0]])\n",
    "seed_next_possible = np.array([[-0.1,0.4,0.0,0],[0.1,0.4,0.0,1]])\n"
   ]
  },
  {
   "cell_type": "code",
   "execution_count": 4,
   "id": "1f908bd4",
   "metadata": {},
   "outputs": [],
   "source": [
    "class rect:\n",
    "    def __init__(self, startPos, scale): \n",
    "        self.start_x = round(startPos[0],2)\n",
    "        self.start_y = round(startPos[1],2)\n",
    "        self.start_z = round(startPos[2],2)\n",
    "        \n",
    "        self.scale_x = round(scale[0],2)\n",
    "        self.scale_y = round(scale[1],2)\n",
    "        self.scale_z = round(scale[2],2)\n",
    "    \n",
    "    def info(self):\n",
    "        print(\"start_x:\",self.start_x,\"start_y:\",self.start_y,\"start_z:\",self.start_z)\n",
    "        print(\"scale_x:\",self.scale_x,\"scale_y:\",self.scale_y,\"scale_z:\",self.scale_z)\n",
    "        print(\" \")\n"
   ]
  },
  {
   "cell_type": "code",
   "execution_count": 5,
   "id": "d14b4684",
   "metadata": {
    "scrolled": true
   },
   "outputs": [],
   "source": [
    "sa = Structure(seed, seed_next_possible, 0.5, np.array([0.4,0.9]))\n",
    "\n",
    "sa.generate(5)"
   ]
  },
  {
   "cell_type": "code",
   "execution_count": 6,
   "id": "6062d121",
   "metadata": {
    "scrolled": true
   },
   "outputs": [
    {
     "data": {
      "text/plain": [
       "array([[ 0.  ,  0.  ,  0.  ],\n",
       "       [ 0.  ,  0.1 ,  0.  ],\n",
       "       [ 0.  ,  0.2 ,  0.  ],\n",
       "       [ 0.  ,  0.3 ,  0.  ],\n",
       "       [ 0.  ,  0.4 ,  0.  ],\n",
       "       [-0.1 ,  0.4 ,  0.  ],\n",
       "       [-0.17,  0.4 ,  0.  ],\n",
       "       [-0.24,  0.4 ,  0.  ],\n",
       "       [-0.31,  0.4 ,  0.  ],\n",
       "       [-0.38,  0.4 ,  0.  ],\n",
       "       [-0.45,  0.4 ,  0.  ],\n",
       "       [-0.52,  0.4 ,  0.  ],\n",
       "       [-0.59,  0.4 ,  0.  ],\n",
       "       [-0.66,  0.4 ,  0.  ],\n",
       "       [-0.73,  0.4 ,  0.  ],\n",
       "       [ 0.1 ,  0.4 ,  0.  ],\n",
       "       [ 0.17,  0.4 ,  0.  ],\n",
       "       [ 0.24,  0.4 ,  0.  ],\n",
       "       [ 0.31,  0.4 ,  0.  ],\n",
       "       [ 0.31,  0.47,  0.  ],\n",
       "       [ 0.31,  0.54,  0.  ],\n",
       "       [ 0.31,  0.61,  0.  ],\n",
       "       [ 0.31,  0.68,  0.  ],\n",
       "       [ 0.31,  0.75,  0.  ],\n",
       "       [ 0.31,  0.82,  0.  ],\n",
       "       [ 0.31,  0.89,  0.  ],\n",
       "       [ 0.31,  0.96,  0.  ],\n",
       "       [ 0.24,  0.96,  0.  ],\n",
       "       [ 0.31,  0.96,  0.  ],\n",
       "       [ 0.38,  0.96,  0.  ],\n",
       "       [ 0.45,  0.96,  0.  ],\n",
       "       [ 0.52,  0.96,  0.  ],\n",
       "       [ 0.59,  0.96,  0.  ],\n",
       "       [ 0.66,  0.96,  0.  ],\n",
       "       [ 0.31,  0.33,  0.  ],\n",
       "       [ 0.31,  0.26,  0.  ],\n",
       "       [ 0.31,  0.19,  0.  ],\n",
       "       [ 0.31,  0.12,  0.  ],\n",
       "       [ 0.31,  0.05,  0.  ],\n",
       "       [ 0.31, -0.02,  0.  ],\n",
       "       [ 0.31, -0.09,  0.  ],\n",
       "       [ 0.24, -0.09,  0.  ],\n",
       "       [ 0.31, -0.09,  0.  ],\n",
       "       [ 0.38, -0.09,  0.  ],\n",
       "       [ 0.45, -0.09,  0.  ],\n",
       "       [ 0.52, -0.09,  0.  ],\n",
       "       [ 0.59, -0.09,  0.  ],\n",
       "       [ 0.66, -0.09,  0.  ],\n",
       "       [ 0.73, -0.09,  0.  ]])"
      ]
     },
     "execution_count": 6,
     "metadata": {},
     "output_type": "execute_result"
    }
   ],
   "source": [
    "sa.history"
   ]
  },
  {
   "cell_type": "code",
   "execution_count": 7,
   "id": "4bb5b534",
   "metadata": {},
   "outputs": [],
   "source": [
    "seed2 = np.array([[0.0,0.0,0.0], [0.1,0.0,0.0],[0.2,0.0,0.0],[0.3,0.0,0.0], [0.4,0.0,0.0]])\n",
    "seed2_next_possible = np.array([[0.4,0.1,0.0,3],[0.4,-0.1,0.0,2]])\n",
    "sa2 = Structure(seed2, seed2_next_possible, 0.5,np.array([0.4,0.9]))\n",
    "\n",
    "sa2.generate(5)"
   ]
  },
  {
   "cell_type": "code",
   "execution_count": 8,
   "id": "b17f5dff",
   "metadata": {},
   "outputs": [],
   "source": [
    "sa.history = np.round(sa.history, 1)"
   ]
  },
  {
   "cell_type": "code",
   "execution_count": 9,
   "id": "40d888e8",
   "metadata": {
    "scrolled": true
   },
   "outputs": [
    {
     "name": "stdout",
     "output_type": "stream",
     "text": [
      "start_x: 0.0 start_y: 0.0 start_z: 0.0\n",
      "scale_x: 0.02 scale_y: 0.43 scale_z: 0.02\n",
      " \n",
      "start_x: -0.73 start_y: 0.4 start_z: 0.0\n",
      "scale_x: 0.66 scale_y: 0.02 scale_z: 0.02\n",
      " \n",
      "start_x: -0.73 start_y: 0.4 start_z: 0.0\n",
      "scale_x: 1.17 scale_y: 0.04 scale_z: 0.04\n",
      " \n",
      "start_x: 0.4 start_y: 0.4 start_z: 0.0\n",
      "scale_x: 0.07 scale_y: 0.54 scale_z: 0.04\n",
      " \n",
      "start_x: 0.1 start_y: 0.4 start_z: 0.0\n",
      "scale_x: 0.24 scale_y: 0.02 scale_z: 0.02\n",
      " \n",
      "start_x: 0.31 start_y: 0.47 start_z: 0.0\n",
      "scale_x: 0.02 scale_y: 0.52 scale_z: 0.02\n",
      " \n",
      "start_x: 0.24 start_y: 0.96 start_z: 0.0\n",
      "scale_x: 0.45 scale_y: 0.02 scale_z: 0.02\n",
      " \n",
      "start_x: 0.31 start_y: -0.09 start_z: 0.0\n",
      "scale_x: 0.02 scale_y: 0.45 scale_z: 0.02\n",
      " \n",
      "start_x: 0.24 start_y: -0.09 start_z: 0.0\n",
      "scale_x: 0.52 scale_y: 0.02 scale_z: 0.02\n",
      " \n"
     ]
    }
   ],
   "source": [
    "for i in sa.rect:\n",
    "    i.info()"
   ]
  },
  {
   "cell_type": "code",
   "execution_count": 13,
   "id": "ac1f9535",
   "metadata": {},
   "outputs": [
    {
     "data": {
      "text/plain": [
       "7.38905609893065"
      ]
     },
     "execution_count": 13,
     "metadata": {},
     "output_type": "execute_result"
    }
   ],
   "source": [
    "import math\n",
    "\n",
    "math.exp( 2)\n"
   ]
  },
  {
   "cell_type": "code",
   "execution_count": 11,
   "id": "1a544ba8",
   "metadata": {},
   "outputs": [],
   "source": [
    "import math\n",
    "\n",
    "camera_pos = np.array([5,5,5])\n",
    "lookAt = np.array([0,0,0])\n",
    "up = np.array([0,1,0])\n",
    "look_vec = lookAt - camera_pos\n",
    "\n",
    "w = 800\n",
    "h = 800\n",
    "near = 0.1\n",
    "far = 100\n",
    "\n",
    "theta_w = 45\n",
    "theta_w = math.radians(theta_w)\n",
    "\n",
    "theta_h = 45\n",
    "theta_h = math.radians(theta_h)\n",
    "c = - near / far\n"
   ]
  },
  {
   "cell_type": "code",
   "execution_count": 127,
   "id": "a8912217",
   "metadata": {},
   "outputs": [],
   "source": [
    "foreground = np.array([[3.84529972,3.84529901,3.84529877, 1]])\n",
    "background = np.array([[3.26794982,3.26794863,3.26794839, 1]])"
   ]
  },
  {
   "cell_type": "code",
   "execution_count": 191,
   "id": "aeb407b1",
   "metadata": {},
   "outputs": [],
   "source": [
    "def get_m_view():\n",
    "    look_vec = lookAt - camera_pos\n",
    "    w = -look_vec / np.linalg.norm(look_vec)\n",
    "    v = up - np.dot(up, w)*w\n",
    "    v = v / np.linalg.norm(v)\n",
    "    u = np.cross(v, w)\n",
    "\n",
    "    m_rotate = np.array([[u[0], u[1], u[2], 0], \n",
    "                    [v[0], v[1], v[2], 0],\n",
    "                    [w[0], w[1], w[2], 0],\n",
    "                    [0, 0, 0, 1]])\n",
    "\n",
    "    m_view = np.array([\n",
    "        [m_rotate[0][0], m_rotate[0][1], m_rotate[0][2],  camera_pos[0]],\n",
    "        [m_rotate[1][0], m_rotate[1][1], m_rotate[1][2], camera_pos[1]],\n",
    "        [m_rotate[2][0], m_rotate[2][1], m_rotate[2][2], camera_pos[2]],\n",
    "        [0, 0, 0, 1]\n",
    "    ])\n",
    "\n",
    "    return np.around(m_view,2)"
   ]
  },
  {
   "cell_type": "code",
   "execution_count": 192,
   "id": "3c86fbbb",
   "metadata": {},
   "outputs": [],
   "source": [
    "def get_m_proj():\n",
    "    Sxyz = np.array([[1/(far * math.tan(theta_w/2)), 0, 0, 0], \n",
    "                    [0, 1/(far * math.tan(theta_h/2)), 0, 0],\n",
    "                    [0, 0, 1/far, 0],\n",
    "                    [0, 0, 0, 1]])\n",
    "\n",
    "    Mpp = np.array([[1, 0, 0, 0], \n",
    "                    [0, 1, 0, 0],\n",
    "                    [0, 0, 1/(1+c),  -c/(1+c)],\n",
    "                    [0, 0, -1, 0]])\n",
    "\n",
    "    remapping = np.array([[1, 0, 0, 0], \n",
    "                    [0, 1, 0, 0],\n",
    "                    [0, 0, -2,  -1],\n",
    "                    [0, 0, 0, 1]])\n",
    "\n",
    "    m_perspective = np.matmul(remapping,np.matmul(Mpp,Sxyz))\n",
    "    return m_perspective\n"
   ]
  },
  {
   "cell_type": "code",
   "execution_count": 193,
   "id": "184a71ba",
   "metadata": {},
   "outputs": [],
   "source": [
    "mat = get_m_view()\n",
    "inv = np.linalg.inv(mat)"
   ]
  },
  {
   "cell_type": "code",
   "execution_count": 217,
   "id": "9584a059",
   "metadata": {},
   "outputs": [],
   "source": [
    "m_view = get_m_view()\n",
    "m_proj = get_m_proj()"
   ]
  },
  {
   "cell_type": "code",
   "execution_count": 226,
   "id": "f5f757b0",
   "metadata": {},
   "outputs": [
    {
     "data": {
      "text/plain": [
       "array([[ 0.02414214,  0.        ,  0.        ,  0.        ],\n",
       "       [ 0.        ,  0.02414214,  0.        ,  0.        ],\n",
       "       [ 0.        ,  0.        , -0.01002002, -0.002002  ],\n",
       "       [ 0.        ,  0.        , -0.01      ,  0.        ]])"
      ]
     },
     "execution_count": 226,
     "metadata": {},
     "output_type": "execute_result"
    }
   ],
   "source": [
    "m_proj"
   ]
  },
  {
   "cell_type": "code",
   "execution_count": 219,
   "id": "e797e457",
   "metadata": {},
   "outputs": [
    {
     "data": {
      "text/plain": [
       "array([[3.26794982, 3.26794863, 3.26794839, 1.        ]])"
      ]
     },
     "execution_count": 219,
     "metadata": {},
     "output_type": "execute_result"
    }
   ],
   "source": [
    "background"
   ]
  },
  {
   "cell_type": "code",
   "execution_count": 228,
   "id": "e9f2c14a",
   "metadata": {
    "scrolled": true
   },
   "outputs": [
    {
     "data": {
      "text/plain": [
       "array([[ 0.12],\n",
       "       [ 0.12],\n",
       "       [-0.11],\n",
       "       [-0.11]])"
      ]
     },
     "execution_count": 228,
     "metadata": {},
     "output_type": "execute_result"
    }
   ],
   "source": [
    "background_mat = np.matmul(m_view, background.T)\n",
    "background_mat = np.matmul(m_proj, background_mat)\n",
    "np.around(background_mat, 2)"
   ]
  },
  {
   "cell_type": "code",
   "execution_count": 229,
   "id": "68ebd71a",
   "metadata": {},
   "outputs": [
    {
     "data": {
      "text/plain": [
       "array([[ 0.12],\n",
       "       [ 0.12],\n",
       "       [-0.12],\n",
       "       [-0.12]])"
      ]
     },
     "execution_count": 229,
     "metadata": {},
     "output_type": "execute_result"
    }
   ],
   "source": [
    "foreground_mat = np.matmul(m_view, foreground.T)\n",
    "foreground_mat = np.matmul(m_proj, foreground_mat)\n",
    "np.around(foreground_mat, 2)"
   ]
  },
  {
   "cell_type": "code",
   "execution_count": 13,
   "id": "4b6bbdf1",
   "metadata": {},
   "outputs": [],
   "source": [
    "camera_pos = np.array([-0.2,0,-0.2])\n",
    "lookAt = np.array([0,0,0])\n",
    "up = np.array([0,0,1])\n",
    "look_vec = lookAt - camera_pos\n"
   ]
  },
  {
   "cell_type": "code",
   "execution_count": 14,
   "id": "6bb6bc6c",
   "metadata": {},
   "outputs": [
    {
     "data": {
      "text/plain": [
       "array([0.70710678, 0.        , 0.70710678])"
      ]
     },
     "execution_count": 14,
     "metadata": {},
     "output_type": "execute_result"
    }
   ],
   "source": [
    "look_vec = lookAt - camera_pos\n",
    "w = look_vec / np.linalg.norm(look_vec)\n",
    "w"
   ]
  },
  {
   "cell_type": "code",
   "execution_count": 15,
   "id": "5c200e37",
   "metadata": {},
   "outputs": [
    {
     "data": {
      "text/plain": [
       "array([-0.70710678,  0.        ,  0.70710678])"
      ]
     },
     "execution_count": 15,
     "metadata": {},
     "output_type": "execute_result"
    }
   ],
   "source": [
    "v = up - np.dot(up, w)*w\n",
    "v = v / np.linalg.norm(v)\n",
    "v"
   ]
  },
  {
   "cell_type": "code",
   "execution_count": 16,
   "id": "78488daf",
   "metadata": {},
   "outputs": [
    {
     "data": {
      "text/plain": [
       "array([ 0.,  1., -0.])"
      ]
     },
     "execution_count": 16,
     "metadata": {},
     "output_type": "execute_result"
    }
   ],
   "source": [
    "u = np.cross(v, w)\n",
    "u"
   ]
  },
  {
   "cell_type": "code",
   "execution_count": 17,
   "id": "0860a5f8",
   "metadata": {},
   "outputs": [
    {
     "data": {
      "text/plain": [
       "array([[-0.        , -1.        ,  0.        , -0.        ],\n",
       "       [ 0.70710678, -0.        , -0.70710678, -0.        ],\n",
       "       [-0.70710678, -0.        , -0.70710678, -0.        ],\n",
       "       [-0.        , -0.        , -0.        , -1.        ]])"
      ]
     },
     "execution_count": 17,
     "metadata": {},
     "output_type": "execute_result"
    }
   ],
   "source": [
    "m_rotate = np.array([[u[0], u[1], u[2], 0], \n",
    "                    [v[0], v[1], v[2], 0],\n",
    "                    [w[0], w[1], w[2], 0],\n",
    "                    [0, 0, 0, 1]])\n",
    "-m_rotate"
   ]
  },
  {
   "cell_type": "code",
   "execution_count": 18,
   "id": "1823caf5",
   "metadata": {},
   "outputs": [
    {
     "data": {
      "text/plain": [
       "array([[ 0.        , -0.70710678,  0.70710678,  0.        ],\n",
       "       [ 1.        ,  0.        ,  0.        ,  0.        ],\n",
       "       [-0.        ,  0.70710678,  0.70710678,  0.        ],\n",
       "       [ 0.        ,  0.        ,  0.        ,  1.        ]])"
      ]
     },
     "execution_count": 18,
     "metadata": {},
     "output_type": "execute_result"
    }
   ],
   "source": [
    "np.transpose(m_rotate)"
   ]
  },
  {
   "cell_type": "code",
   "execution_count": 19,
   "id": "09f20d44",
   "metadata": {},
   "outputs": [
    {
     "data": {
      "text/plain": [
       "array([1.11022302e-16, 0.00000000e+00, 1.69705627e+00, 1.00000000e+00])"
      ]
     },
     "execution_count": 19,
     "metadata": {},
     "output_type": "execute_result"
    }
   ],
   "source": [
    "np.dot(np.transpose(m_rotate), np.array([0, 1.2, 1.2, 1]))"
   ]
  },
  {
   "cell_type": "code",
   "execution_count": 20,
   "id": "efa4a039",
   "metadata": {},
   "outputs": [],
   "source": [
    "m_Translate = np.array([[1, 0, 0, -camera_pos[0]], \n",
    "                    [0, 1, 0, -camera_pos[1]],\n",
    "                    [0, 0, 1, -camera_pos[2]],\n",
    "                    [0, 0, 0, 1]])"
   ]
  },
  {
   "cell_type": "code",
   "execution_count": 21,
   "id": "84a9ee3a",
   "metadata": {},
   "outputs": [],
   "source": [
    "m_view = np.around(np.matmul(m_rotate, m_Translate), 3)"
   ]
  },
  {
   "cell_type": "code",
   "execution_count": 22,
   "id": "f8a578d0",
   "metadata": {
    "scrolled": false
   },
   "outputs": [
    {
     "data": {
      "text/plain": [
       "array([[ 0.   ,  1.   ,  0.   ,  0.   ],\n",
       "       [-0.707,  0.   ,  0.707,  0.   ],\n",
       "       [ 0.707,  0.   ,  0.707,  0.283],\n",
       "       [ 0.   ,  0.   ,  0.   ,  1.   ]])"
      ]
     },
     "execution_count": 22,
     "metadata": {},
     "output_type": "execute_result"
    }
   ],
   "source": [
    "m_view"
   ]
  },
  {
   "cell_type": "code",
   "execution_count": 23,
   "id": "c096f22d",
   "metadata": {
    "scrolled": true
   },
   "outputs": [
    {
     "data": {
      "text/plain": [
       "array([[-0.        , -0.70721358,  0.70721358, -0.20014144],\n",
       "       [ 1.        ,  0.        ,  0.        ,  0.        ],\n",
       "       [ 0.        ,  0.70721358,  0.70721358, -0.20014144],\n",
       "       [ 0.        ,  0.        ,  0.        ,  1.        ]])"
      ]
     },
     "execution_count": 23,
     "metadata": {},
     "output_type": "execute_result"
    }
   ],
   "source": [
    "inv = np.linalg.inv(m_view)\n",
    "inv"
   ]
  },
  {
   "cell_type": "code",
   "execution_count": 27,
   "id": "c1c327de",
   "metadata": {},
   "outputs": [
    {
     "data": {
      "text/plain": [
       "2.302585092994046"
      ]
     },
     "execution_count": 27,
     "metadata": {},
     "output_type": "execute_result"
    }
   ],
   "source": [
    "np.log(10)"
   ]
  },
  {
   "cell_type": "code",
   "execution_count": 24,
   "id": "11f0fa79",
   "metadata": {},
   "outputs": [
    {
     "data": {
      "text/plain": [
       "array([ 1.        , -0.70721358,  0.70721358,  0.79985856])"
      ]
     },
     "execution_count": 24,
     "metadata": {},
     "output_type": "execute_result"
    }
   ],
   "source": [
    "cam_pos = np.array([1,1,0,1])\n",
    "cam_pos.dot(inv)"
   ]
  },
  {
   "cell_type": "code",
   "execution_count": 56,
   "id": "81f2ff37",
   "metadata": {},
   "outputs": [
    {
     "data": {
      "text/plain": [
       "array([[ 0.024,  0.   ,  0.   ,  0.   ],\n",
       "       [ 0.   ,  0.024,  0.   ,  0.   ],\n",
       "       [ 0.   ,  0.   , -0.01 , -0.002],\n",
       "       [ 0.   ,  0.   , -0.01 ,  0.   ]])"
      ]
     },
     "execution_count": 56,
     "metadata": {},
     "output_type": "execute_result"
    }
   ],
   "source": [
    "import math \n",
    "\n",
    "w = 800\n",
    "h = 800\n",
    "near = 0.1\n",
    "far = 100\n",
    "\n",
    "theta_w = 45\n",
    "theta_w = math.radians(theta_w)\n",
    "\n",
    "theta_h = 45\n",
    "theta_h = math.radians(theta_h)\n",
    "\n",
    "c = - near / far\n",
    "\n",
    "Sxyz = np.array([[1/(far * math.tan(theta_w/2)), 0, 0, 0], \n",
    "                    [0, 1/(far * math.tan(theta_h/2)), 0, 0],\n",
    "                    [0, 0, 1/far, 0],\n",
    "                    [0, 0, 0, 1]])\n",
    "\n",
    "Mpp = np.array([[1, 0, 0, 0], \n",
    "                    [0, 1, 0, 0],\n",
    "                    [0, 0, 1/(1+c),  -c/(1+c)],\n",
    "                    [0, 0, -1, 0]])\n",
    "\n",
    "remapping = np.array([[1, 0, 0, 0], \n",
    "                    [0, 1, 0, 0],\n",
    "                    [0, 0, -2,  -1],\n",
    "                    [0, 0, 0, 1]])\n",
    "\n",
    "m_perspective = np.matmul(remapping,np.matmul(Mpp,Sxyz))\n",
    "m_perspective = np.around(m_perspective, 3)\n",
    "m_perspective"
   ]
  },
  {
   "cell_type": "code",
   "execution_count": 57,
   "id": "e6583f89",
   "metadata": {
    "scrolled": true
   },
   "outputs": [],
   "source": [
    "pos = np.array([3.8, 4.3, 3.7, 1])\n",
    "new_p = pos.dot(m_view).dot(m_perspective)"
   ]
  },
  {
   "cell_type": "code",
   "execution_count": 124,
   "id": "e7acb38f",
   "metadata": {},
   "outputs": [
    {
     "data": {
      "text/plain": [
       "array([-0.1578216,  0.0329736, -0.318393 ,  0.0024054])"
      ]
     },
     "execution_count": 124,
     "metadata": {},
     "output_type": "execute_result"
    }
   ],
   "source": [
    "new_p"
   ]
  },
  {
   "cell_type": "code",
   "execution_count": 109,
   "id": "ac4845a7",
   "metadata": {},
   "outputs": [
    {
     "data": {
      "text/plain": [
       "array([[ 0.024,  0.   ,  0.   ,  0.   ],\n",
       "       [ 0.   ,  0.024,  0.   ,  0.   ],\n",
       "       [ 0.   ,  0.   , -0.01 , -0.002],\n",
       "       [ 0.   ,  0.   , -0.01 ,  0.   ]])"
      ]
     },
     "execution_count": 109,
     "metadata": {},
     "output_type": "execute_result"
    }
   ],
   "source": [
    "m_perspective"
   ]
  },
  {
   "cell_type": "code",
   "execution_count": 119,
   "id": "c7db18a8",
   "metadata": {},
   "outputs": [],
   "source": [
    "inv_perspective = np.linalg.inv(m_perspective)\n",
    "inv_view = np.linalg.inv(m_view)"
   ]
  },
  {
   "cell_type": "code",
   "execution_count": 120,
   "id": "e8fff229",
   "metadata": {},
   "outputs": [
    {
     "data": {
      "text/plain": [
       "array([3.8, 4.3, 3.7, 1. ])"
      ]
     },
     "execution_count": 120,
     "metadata": {},
     "output_type": "execute_result"
    }
   ],
   "source": [
    "new_p.dot (inv_perspective).dot(inv_view)"
   ]
  },
  {
   "cell_type": "code",
   "execution_count": 96,
   "id": "4715e555",
   "metadata": {},
   "outputs": [],
   "source": [
    "x = 10.2"
   ]
  },
  {
   "cell_type": "code",
   "execution_count": 1,
   "id": "00d043ce",
   "metadata": {},
   "outputs": [],
   "source": [
    "from sympy import *\n",
    "x, y, z = symbols('x y z')"
   ]
  },
  {
   "cell_type": "code",
   "execution_count": 2,
   "id": "1a6a85ed",
   "metadata": {},
   "outputs": [],
   "source": [
    "front_x = 0.2\n",
    "front_y = 0.4\n",
    "\n",
    "center_x = 0.21\n",
    "center_y = 0.41"
   ]
  },
  {
   "cell_type": "code",
   "execution_count": 7,
   "id": "6fe7a972",
   "metadata": {},
   "outputs": [],
   "source": [
    "a = integrate(exp(-x), (x, 0, oo))\n"
   ]
  },
  {
   "cell_type": "code",
   "execution_count": 9,
   "id": "b0fa9876",
   "metadata": {},
   "outputs": [
    {
     "data": {
      "text/latex": [
       "$\\displaystyle 1.2$"
      ],
      "text/plain": [
       "1.20000000000000"
      ]
     },
     "execution_count": 9,
     "metadata": {},
     "output_type": "execute_result"
    }
   ],
   "source": [
    "a + 0.2"
   ]
  },
  {
   "cell_type": "code",
   "execution_count": 11,
   "id": "3b4902a3",
   "metadata": {},
   "outputs": [
    {
     "data": {
      "text/plain": [
       "sympy.core.numbers.Float"
      ]
     },
     "execution_count": 11,
     "metadata": {},
     "output_type": "execute_result"
    }
   ],
   "source": [
    "type(a+0.2)"
   ]
  },
  {
   "cell_type": "code",
   "execution_count": 6,
   "id": "40450cc8",
   "metadata": {},
   "outputs": [
    {
     "data": {
      "text/latex": [
       "$\\displaystyle 1.23639513938013 \\left(\\int\\limits_{0.2}^{0.25} e^{- 0.42 x} e^{x^{2}}\\, dx\\right) \\int\\limits_{0.4}^{0.45} e^{- 0.82 y} e^{y^{2}}\\, dy$"
      ],
      "text/plain": [
       "1.23639513938013*Integral(exp(-0.42*x)*exp(x**2), (x, 0.2, 0.25))*Integral(exp(-0.82*y)*exp(y**2), (y, 0.4, 0.45))"
      ]
     },
     "execution_count": 6,
     "metadata": {},
     "output_type": "execute_result"
    }
   ],
   "source": [
    "integrate(exp((x-center_x)**2+(y-center_y)**2), (x, front_x, front_x+0.05), (y, front_y, front_y+0.05))"
   ]
  },
  {
   "cell_type": "code",
   "execution_count": 90,
   "id": "ab583acd",
   "metadata": {},
   "outputs": [],
   "source": [
    "graph = np.zeros((800,800))"
   ]
  },
  {
   "cell_type": "code",
   "execution_count": 106,
   "id": "920b0a2f",
   "metadata": {},
   "outputs": [],
   "source": [
    "import perspective"
   ]
  },
  {
   "cell_type": "code",
   "execution_count": 107,
   "id": "82cada82",
   "metadata": {},
   "outputs": [
    {
     "data": {
      "text/plain": [
       "array([[-0.70710678,  0.        ,  0.70710678],\n",
       "       [-0.40824829,  0.81649658, -0.40824829],\n",
       "       [-0.57735027, -0.57735027, -0.57735027]])"
      ]
     },
     "execution_count": 107,
     "metadata": {},
     "output_type": "execute_result"
    }
   ],
   "source": [
    "a = perspective.get_m_view()\n",
    "a"
   ]
  },
  {
   "cell_type": "code",
   "execution_count": 108,
   "id": "81ec6c22",
   "metadata": {},
   "outputs": [
    {
     "ename": "SyntaxError",
     "evalue": "invalid syntax (3966108316.py, line 1)",
     "output_type": "error",
     "traceback": [
      "\u001b[0;36m  Input \u001b[0;32mIn [108]\u001b[0;36m\u001b[0m\n\u001b[0;31m    m_view = np.array([[ a  a12  a13  0 ]\u001b[0m\n\u001b[0m                            ^\u001b[0m\n\u001b[0;31mSyntaxError\u001b[0m\u001b[0;31m:\u001b[0m invalid syntax\n"
     ]
    }
   ],
   "source": [
    "m_view = np.array([[ a  a12  a13  0 ]\n",
    "[ a21  a22  a23  0 ]\n",
    "[ a31  a32  a33  0 ]\n",
    "[   0    0    0  1 ]\n",
    "])"
   ]
  },
  {
   "cell_type": "code",
   "execution_count": 134,
   "id": "3b1529f2",
   "metadata": {},
   "outputs": [],
   "source": [
    "import math\n",
    "PI = 3.14\n",
    "class Camera:\n",
    "    def __init__(self, fov=60, aspect_ratio=1.0):\n",
    "        # Camera parameters\n",
    "        self.lookfrom = np.array([5.0, 5.0, 5.0])\n",
    "        self.lookat = np.array([0.0, 0.0, 0.0])\n",
    "        self.vup = np.array([0.0, 1.0, 0.0])\n",
    "        self.fov = fov\n",
    "        self.aspect_ratio = aspect_ratio\n",
    "        \n",
    "        theta = self.fov * (PI / 180.0)\n",
    "        half_height = math.tan(theta / 2.0)\n",
    "        half_width = self.aspect_ratio * half_height\n",
    "        self.cam_origin = self.lookfrom\n",
    "        \n",
    "        w = self.lookfrom - self.lookat\n",
    "        w = w / np.linalg.norm(w)\n",
    "        u = np.cross(self.vup,w)\n",
    "        u = u / np.linalg.norm(u)\n",
    "        v = np.cross(w,u)\n",
    "        \n",
    "        self.cam_lower_left_corner = self.cam_origin - half_width * u - half_height * v - w\n",
    "        self.cam_horizontal = 2 * half_width * u\n",
    "        self.cam_vertical = 2 * half_height * v\n",
    "\n",
    "\n",
    "    def get_ray(self, u, v):\n",
    "        r = self.cam_lower_left_corner + u * self.cam_horizontal + v * self.cam_vertical - self.cam_origin\n",
    "        return r\n",
    "    \n",
    "    def get_camera_origin(self):\n",
    "        return self.cam_origin"
   ]
  },
  {
   "cell_type": "code",
   "execution_count": 135,
   "id": "06cd8281",
   "metadata": {},
   "outputs": [],
   "source": [
    "my_cam = Camera()"
   ]
  },
  {
   "cell_type": "code",
   "execution_count": 137,
   "id": "c23ee4b7",
   "metadata": {},
   "outputs": [
    {
     "data": {
      "text/plain": [
       "array([-0.82214911, -0.57735027, -0.33255143])"
      ]
     },
     "execution_count": 137,
     "metadata": {},
     "output_type": "execute_result"
    }
   ],
   "source": [
    "my_cam.get_ray(0.2, 0.5)"
   ]
  },
  {
   "cell_type": "code",
   "execution_count": 38,
   "id": "c7566314",
   "metadata": {
    "scrolled": true
   },
   "outputs": [
    {
     "data": {
      "text/plain": [
       "array([[ 0.  ,  0.  ,  0.  ],\n",
       "       [ 0.  ,  0.1 ,  0.  ],\n",
       "       [ 0.  ,  0.2 ,  0.  ],\n",
       "       [ 0.  ,  0.3 ,  0.  ],\n",
       "       [ 0.  ,  0.4 ,  0.  ],\n",
       "       [-0.1 ,  0.4 ,  0.  ],\n",
       "       [-0.17,  0.4 ,  0.  ],\n",
       "       [-0.24,  0.4 ,  0.  ],\n",
       "       [-0.31,  0.4 ,  0.  ],\n",
       "       [-0.38,  0.4 ,  0.  ],\n",
       "       [-0.45,  0.4 ,  0.  ],\n",
       "       [-0.52,  0.4 ,  0.  ],\n",
       "       [-0.59,  0.4 ,  0.  ],\n",
       "       [-0.66,  0.4 ,  0.  ],\n",
       "       [-0.73,  0.4 ,  0.  ],\n",
       "       [ 0.1 ,  0.4 ,  0.  ],\n",
       "       [ 0.17,  0.4 ,  0.  ],\n",
       "       [ 0.24,  0.4 ,  0.  ],\n",
       "       [ 0.31,  0.4 ,  0.  ],\n",
       "       [ 0.38,  0.4 ,  0.  ],\n",
       "       [ 0.45,  0.4 ,  0.  ],\n",
       "       [ 0.45,  0.47,  0.  ],\n",
       "       [ 0.45,  0.54,  0.  ],\n",
       "       [ 0.45,  0.61,  0.  ],\n",
       "       [ 0.45,  0.68,  0.  ],\n",
       "       [ 0.45,  0.33,  0.  ],\n",
       "       [ 0.45,  0.26,  0.  ],\n",
       "       [ 0.45,  0.19,  0.  ],\n",
       "       [ 0.45,  0.12,  0.  ],\n",
       "       [ 0.45,  0.05,  0.  ],\n",
       "       [ 0.45, -0.02,  0.  ],\n",
       "       [ 0.45, -0.09,  0.  ],\n",
       "       [ 0.45, -0.16,  0.  ],\n",
       "       [ 0.45, -0.23,  0.  ],\n",
       "       [ 0.38,  0.68,  0.  ],\n",
       "       [ 0.45,  0.68,  0.  ],\n",
       "       [ 0.52,  0.68,  0.  ],\n",
       "       [ 0.59,  0.68,  0.  ],\n",
       "       [ 0.66,  0.68,  0.  ],\n",
       "       [ 0.66,  0.61,  0.  ],\n",
       "       [ 0.66,  0.54,  0.  ],\n",
       "       [ 0.66,  0.47,  0.  ],\n",
       "       [ 0.66,  0.4 ,  0.  ],\n",
       "       [ 0.66,  0.33,  0.  ],\n",
       "       [ 0.66,  0.26,  0.  ],\n",
       "       [ 0.66,  0.19,  0.  ]])"
      ]
     },
     "execution_count": 38,
     "metadata": {},
     "output_type": "execute_result"
    }
   ],
   "source": [
    "sa.history"
   ]
  },
  {
   "cell_type": "code",
   "execution_count": 82,
   "id": "fc176e21",
   "metadata": {},
   "outputs": [
    {
     "data": {
      "text/plain": [
       "array([[ 0.  ,  0.  ,  0.  ],\n",
       "       [ 0.1 ,  0.  ,  0.  ],\n",
       "       [ 0.2 ,  0.  ,  0.  ],\n",
       "       [ 0.3 ,  0.  ,  0.  ],\n",
       "       [ 0.4 ,  0.  ,  0.  ],\n",
       "       [ 0.4 ,  0.1 ,  0.  ],\n",
       "       [ 0.4 ,  0.17,  0.  ],\n",
       "       [ 0.4 ,  0.24,  0.  ],\n",
       "       [ 0.4 ,  0.31,  0.  ],\n",
       "       [ 0.4 ,  0.38,  0.  ],\n",
       "       [ 0.4 ,  0.45,  0.  ],\n",
       "       [ 0.4 ,  0.52,  0.  ],\n",
       "       [ 0.4 ,  0.59,  0.  ],\n",
       "       [ 0.4 ,  0.66,  0.  ],\n",
       "       [ 0.4 , -0.1 ,  0.  ],\n",
       "       [ 0.4 , -0.17,  0.  ],\n",
       "       [ 0.4 , -0.24,  0.  ],\n",
       "       [ 0.4 , -0.31,  0.  ],\n",
       "       [ 0.4 , -0.38,  0.  ],\n",
       "       [ 0.4 , -0.45,  0.  ],\n",
       "       [ 0.4 , -0.52,  0.  ],\n",
       "       [ 0.47, -0.52,  0.  ],\n",
       "       [ 0.54, -0.52,  0.  ],\n",
       "       [ 0.61, -0.52,  0.  ],\n",
       "       [ 0.68, -0.52,  0.  ],\n",
       "       [ 0.75, -0.52,  0.  ],\n",
       "       [ 0.75, -0.59,  0.  ],\n",
       "       [ 0.75, -0.66,  0.  ],\n",
       "       [ 0.75, -0.73,  0.  ],\n",
       "       [ 0.75, -0.8 ,  0.  ],\n",
       "       [ 0.75, -0.87,  0.  ],\n",
       "       [ 0.75, -0.94,  0.  ],\n",
       "       [ 0.75, -1.01,  0.  ],\n",
       "       [ 0.82, -1.01,  0.  ],\n",
       "       [ 0.89, -1.01,  0.  ],\n",
       "       [ 0.96, -1.01,  0.  ],\n",
       "       [ 1.03, -1.01,  0.  ],\n",
       "       [ 0.33, -0.52,  0.  ],\n",
       "       [ 0.4 , -0.52,  0.  ],\n",
       "       [ 0.47, -0.52,  0.  ],\n",
       "       [ 0.54, -0.52,  0.  ],\n",
       "       [ 0.61, -0.52,  0.  ],\n",
       "       [ 0.68, -0.52,  0.  ],\n",
       "       [ 0.75, -0.52,  0.  ]])"
      ]
     },
     "execution_count": 82,
     "metadata": {},
     "output_type": "execute_result"
    }
   ],
   "source": [
    "sa2.history"
   ]
  },
  {
   "cell_type": "code",
   "execution_count": 83,
   "id": "d093d20d",
   "metadata": {},
   "outputs": [],
   "source": [
    "def offscreen(structure, max_coordinate, min_coordinate):\n",
    "    max_x = max_coordinate[0]\n",
    "    max_y = max_coordinate[1]\n",
    "    min_x = min_coordinate[0]\n",
    "    min_y = min_coordinate[1]\n",
    "    \n",
    "    for i in structure.rect:\n",
    "        if(i.start_x < min_x or i.start_y < min_y):\n",
    "            return True\n",
    "        if(i.start_x+i.scale_x > max_x or i.start_y+i.scale_y > max_y):\n",
    "            return True\n",
    "    \n",
    "    return False"
   ]
  },
  {
   "cell_type": "code",
   "execution_count": 84,
   "id": "35866b0f",
   "metadata": {},
   "outputs": [
    {
     "data": {
      "text/plain": [
       "False"
      ]
     },
     "execution_count": 84,
     "metadata": {},
     "output_type": "execute_result"
    }
   ],
   "source": [
    "max_coordinate = np.array([1.0, 1.0])\n",
    "min_coordinate = np.array([-1.0, -1.0])\n",
    "offscreen(sa, max_coordinate, min_coordinate)"
   ]
  },
  {
   "cell_type": "code",
   "execution_count": 85,
   "id": "277f5e96",
   "metadata": {},
   "outputs": [],
   "source": [
    "kk = []"
   ]
  },
  {
   "cell_type": "code",
   "execution_count": 86,
   "id": "f1d6491d",
   "metadata": {},
   "outputs": [],
   "source": [
    "kk.append(sa)"
   ]
  },
  {
   "cell_type": "code",
   "execution_count": 87,
   "id": "23a1d94b",
   "metadata": {},
   "outputs": [
    {
     "data": {
      "text/plain": [
       "[<__main__.rect at 0x7f84e0cb4fa0>,\n",
       " <__main__.rect at 0x7f85005883a0>,\n",
       " <__main__.rect at 0x7f850053be80>,\n",
       " <__main__.rect at 0x7f850046c070>,\n",
       " <__main__.rect at 0x7f84d05bab20>,\n",
       " <__main__.rect at 0x7f84e09e8a30>,\n",
       " <__main__.rect at 0x7f84e09ddb50>,\n",
       " <__main__.rect at 0x7f84e0cb4f40>,\n",
       " <__main__.rect at 0x7f84e0cb4cd0>]"
      ]
     },
     "execution_count": 87,
     "metadata": {},
     "output_type": "execute_result"
    }
   ],
   "source": [
    "kk[0].rect"
   ]
  },
  {
   "cell_type": "code",
   "execution_count": 116,
   "id": "9c6dd4c7",
   "metadata": {
    "scrolled": true
   },
   "outputs": [
    {
     "name": "stdout",
     "output_type": "stream",
     "text": [
      "start_x: 0.0 start_y: 0.0 start_z: 0.0\n",
      "scale_x: 0.05 scale_y: 0.45 scale_z: 0.05\n",
      " \n",
      "0.0\n",
      "start_x: -0.66 start_y: 0.4 start_z: 0.0\n",
      "scale_x: 0.61 scale_y: 0.05 scale_z: 0.05\n",
      " \n",
      "-0.66\n",
      "start_x: -0.66 start_y: 0.4 start_z: 0.0\n",
      "scale_x: 1.1 scale_y: 0.04 scale_z: 0.04\n",
      " \n",
      "-0.66\n",
      "start_x: 0.4 start_y: 0.4 start_z: 0.0\n",
      "scale_x: 0.07 scale_y: 0.54 scale_z: 0.04\n",
      " \n",
      "0.4\n",
      "start_x: 0.1 start_y: 0.4 start_z: 0.0\n",
      "scale_x: 0.47 scale_y: 0.05 scale_z: 0.05\n",
      " \n",
      "0.1\n",
      "start_x: 0.52 start_y: 0.47 start_z: 0.0\n",
      "scale_x: 0.05 scale_y: 0.47 scale_z: 0.05\n",
      " \n",
      "0.52\n",
      "start_x: 0.52 start_y: 0.05 start_z: 0.0\n",
      "scale_x: 0.05 scale_y: 0.33 scale_z: 0.05\n",
      " \n",
      "0.52\n",
      "start_x: 0.45 start_y: 0.05 start_z: 0.0\n",
      "scale_x: 0.47 scale_y: 0.05 scale_z: 0.05\n",
      " \n",
      "0.45\n",
      "start_x: 0.59 start_y: 0.05 start_z: 0.0\n",
      "scale_x: 0.4 scale_y: 0.05 scale_z: 0.05\n",
      " \n",
      "0.59\n"
     ]
    }
   ],
   "source": [
    "for i in sa.rect:\n",
    "    i.info()\n",
    "    print(i.start_x)"
   ]
  },
  {
   "cell_type": "code",
   "execution_count": 120,
   "id": "9f792fce",
   "metadata": {},
   "outputs": [
    {
     "data": {
      "text/plain": [
       "2"
      ]
     },
     "execution_count": 120,
     "metadata": {},
     "output_type": "execute_result"
    }
   ],
   "source": [
    "a = 0.1\n",
    "b = 0.2\n",
    "c = 0.5\n",
    "\n",
    "x = np.array([a,b,c])\n",
    "np.argmax(x)"
   ]
  },
  {
   "cell_type": "code",
   "execution_count": 89,
   "id": "629598a5",
   "metadata": {},
   "outputs": [],
   "source": [
    "def parallel_score(history_a, history_b):\n",
    "    score = 0\n",
    "    parallel_pts = []\n",
    "    \n",
    "    for i in history_a:\n",
    "        for j in history_b:\n",
    "            if(i[0] == j[0] and i[1] == j[1]):\n",
    "                parallel_pts.append((i[0],i[1]))\n",
    "                score += 5\n",
    "            elif(i[0] == j[0] or i[1] == j[1]):\n",
    "                score += 1\n",
    "    return score, parallel_pts"
   ]
  },
  {
   "cell_type": "code",
   "execution_count": 90,
   "id": "23cbf21d",
   "metadata": {},
   "outputs": [],
   "source": [
    "def check_close(struct_a):\n",
    "    for i in struct_a.history:\n",
    "        print(i)"
   ]
  },
  {
   "cell_type": "code",
   "execution_count": 91,
   "id": "dcc6c543",
   "metadata": {},
   "outputs": [],
   "source": [
    "def occlude(front_structure,position, eye):\n",
    "    ray = eye - position\n",
    "    ray = ray / np.linalg.norm(ray)\n",
    "#     print(\"ray\", ray)\n",
    "\n",
    "    z_depth = front_structure.history[0][-1]\n",
    "    t = (eye[-1] - z_depth) / ray[-1]\n",
    "#     print(\"t\", t)\n",
    "\n",
    "    x = eye[0] + t*ray[0]\n",
    "    y = eye[1] + t*ray[1]\n",
    "    \n",
    "    for i in front_structure.history:\n",
    "        if x== i[0] and y == i[1]:\n",
    "            return True\n",
    "    \n",
    "    return False"
   ]
  },
  {
   "cell_type": "code",
   "execution_count": 92,
   "id": "e99da759",
   "metadata": {},
   "outputs": [],
   "source": [
    "def occlusion_score(front_structure, points, eye):\n",
    "    \n",
    "    count = 0\n",
    "    for i in points:\n",
    "        if (occlude(front_structure, i, eye)):\n",
    "            count += 1\n",
    "    \n",
    "    return count\n",
    "        \n",
    "    "
   ]
  },
  {
   "cell_type": "code",
   "execution_count": 93,
   "id": "ef3e114c",
   "metadata": {},
   "outputs": [
    {
     "data": {
      "text/plain": [
       "0.01"
      ]
     },
     "execution_count": 93,
     "metadata": {},
     "output_type": "execute_result"
    }
   ],
   "source": [
    "round(random.uniform(1, 6)/100,2)"
   ]
  },
  {
   "cell_type": "code",
   "execution_count": 94,
   "id": "f2911f4e",
   "metadata": {},
   "outputs": [],
   "source": [
    "eye = np.array([5.0,5.0,5.0])"
   ]
  },
  {
   "cell_type": "code",
   "execution_count": 95,
   "id": "fd234fa4",
   "metadata": {},
   "outputs": [],
   "source": [
    "position = np.array([0.3,0.4,-0.25])"
   ]
  },
  {
   "cell_type": "code",
   "execution_count": 96,
   "id": "09c549a2",
   "metadata": {
    "scrolled": true
   },
   "outputs": [
    {
     "data": {
      "text/plain": [
       "False"
      ]
     },
     "execution_count": 96,
     "metadata": {},
     "output_type": "execute_result"
    }
   ],
   "source": [
    "occlude(sa, position, eye)"
   ]
  },
  {
   "cell_type": "code",
   "execution_count": 97,
   "id": "602cf73a",
   "metadata": {},
   "outputs": [],
   "source": [
    "class connecting_structure:\n",
    "    def __init__(self, x, y, foreground_z, background_z):\n",
    "        self.x = x\n",
    "        self.y = y\n",
    "        self.foreground_z = foreground_z\n",
    "        self.background_z = background_z\n",
    "    \n",
    "    def get_object():\n",
    "        z_start = min(self.foreground_z, self.background_z)\n",
    "        z_scale = abs(self.foreground_z - self.background_z )\n",
    "        \n",
    "        startPos = np.array([x,y,z_start])\n",
    "        scale = np.array([0.07, 0.07, z_scale])\n",
    "        \n",
    "        tempt = rect(startPos, scale)\n",
    "        \n",
    "        return tempt\n",
    "    \n",
    "    def get_center():\n",
    "        z_start = min(self.foreground_z, self.background_z)\n",
    "        z_scale = abs(self.foreground_z - self.background_z )\n",
    "        \n",
    "        center = np.array([self.x+0.035, self.y+0.035, z_start + 0.5*z_scale])\n",
    "        \n",
    "        return center"
   ]
  },
  {
   "cell_type": "code",
   "execution_count": 98,
   "id": "b85c78c3",
   "metadata": {},
   "outputs": [
    {
     "data": {
      "text/plain": [
       "0.0"
      ]
     },
     "execution_count": 98,
     "metadata": {},
     "output_type": "execute_result"
    }
   ],
   "source": [
    "sa.history[0][-1]"
   ]
  },
  {
   "cell_type": "code",
   "execution_count": 99,
   "id": "e9eaf4dd",
   "metadata": {},
   "outputs": [],
   "source": [
    "a = round(int(random.random() * 5 % 5) * 0.1 + 0.2, 1)"
   ]
  },
  {
   "cell_type": "code",
   "execution_count": 100,
   "id": "338954c9",
   "metadata": {},
   "outputs": [],
   "source": [
    "b = random.random()"
   ]
  },
  {
   "cell_type": "code",
   "execution_count": 101,
   "id": "d4b4fbe7",
   "metadata": {},
   "outputs": [
    {
     "ename": "SyntaxError",
     "evalue": "invalid syntax (202455723.py, line 1)",
     "output_type": "error",
     "traceback": [
      "\u001b[0;36m  Input \u001b[0;32mIn [101]\u001b[0;36m\u001b[0m\n\u001b[0;31m    b>0.5 ? -1 : 1\u001b[0m\n\u001b[0m          ^\u001b[0m\n\u001b[0;31mSyntaxError\u001b[0m\u001b[0;31m:\u001b[0m invalid syntax\n"
     ]
    }
   ],
   "source": [
    "b>0.5 ? -1 : 1"
   ]
  },
  {
   "cell_type": "code",
   "execution_count": 102,
   "id": "11fe39aa",
   "metadata": {},
   "outputs": [
    {
     "name": "stdout",
     "output_type": "stream",
     "text": [
      "[0. 0. 0.]\n",
      "[0.1 0.  0. ]\n",
      "[0.2 0.  0. ]\n",
      "[0.3 0.  0. ]\n",
      "[0.4 0.  0. ]\n",
      "[0.4 0.1 0. ]\n",
      "[0.4  0.17 0.  ]\n",
      "[0.4  0.24 0.  ]\n",
      "[0.4  0.31 0.  ]\n",
      "[0.4  0.38 0.  ]\n",
      "[0.4  0.45 0.  ]\n",
      "[0.4  0.52 0.  ]\n",
      "[0.4  0.59 0.  ]\n",
      "[0.4  0.66 0.  ]\n",
      "[ 0.4 -0.1  0. ]\n",
      "[ 0.4  -0.17  0.  ]\n",
      "[ 0.4  -0.24  0.  ]\n",
      "[ 0.4  -0.31  0.  ]\n",
      "[ 0.4  -0.38  0.  ]\n",
      "[ 0.4  -0.45  0.  ]\n",
      "[ 0.4  -0.52  0.  ]\n",
      "[ 0.47 -0.52  0.  ]\n",
      "[ 0.54 -0.52  0.  ]\n",
      "[ 0.61 -0.52  0.  ]\n",
      "[ 0.68 -0.52  0.  ]\n",
      "[ 0.75 -0.52  0.  ]\n",
      "[ 0.75 -0.59  0.  ]\n",
      "[ 0.75 -0.66  0.  ]\n",
      "[ 0.75 -0.73  0.  ]\n",
      "[ 0.75 -0.8   0.  ]\n",
      "[ 0.75 -0.87  0.  ]\n",
      "[ 0.75 -0.94  0.  ]\n",
      "[ 0.75 -1.01  0.  ]\n",
      "[ 0.82 -1.01  0.  ]\n",
      "[ 0.89 -1.01  0.  ]\n",
      "[ 0.96 -1.01  0.  ]\n",
      "[ 1.03 -1.01  0.  ]\n",
      "[ 0.33 -0.52  0.  ]\n",
      "[ 0.4  -0.52  0.  ]\n",
      "[ 0.47 -0.52  0.  ]\n",
      "[ 0.54 -0.52  0.  ]\n",
      "[ 0.61 -0.52  0.  ]\n",
      "[ 0.68 -0.52  0.  ]\n",
      "[ 0.75 -0.52  0.  ]\n"
     ]
    }
   ],
   "source": [
    "check_close(sa2)"
   ]
  },
  {
   "cell_type": "code",
   "execution_count": 103,
   "id": "b444ad22",
   "metadata": {},
   "outputs": [
    {
     "data": {
      "text/plain": [
       "128"
      ]
     },
     "execution_count": 103,
     "metadata": {},
     "output_type": "execute_result"
    }
   ],
   "source": [
    "(score, parallel_pts)= parallel_score(sa2.history, sa.history)\n",
    "score"
   ]
  },
  {
   "cell_type": "code",
   "execution_count": 104,
   "id": "c255ff82",
   "metadata": {},
   "outputs": [
    {
     "data": {
      "text/plain": [
       "2"
      ]
     },
     "execution_count": 104,
     "metadata": {},
     "output_type": "execute_result"
    }
   ],
   "source": [
    "len(parallel_pts)"
   ]
  },
  {
   "cell_type": "code",
   "execution_count": 105,
   "id": "0b3ef1f4",
   "metadata": {},
   "outputs": [],
   "source": [
    "def block_to_rect(buffer, portion):\n",
    "    start = buffer[1]\n",
    "    end = buffer[-1]\n",
    "    x_start = min(start[0],end[0])\n",
    "    y_start = min(start[1],end[1])    \n",
    "    z_start = min(start[2],end[2])\n",
    "    \n",
    "    x_scale = max(abs(start[0] - end[0]), 0.1 * portion)\n",
    "    y_scale = max(abs(start[1] - end[1]), 0.1 * portion)\n",
    "    z_scale = max(abs(start[2] - end[2]), 0.1 * portion)\n",
    "    \n",
    "    if(x_scale > 0.1 * portion):\n",
    "        x_scale += 0.1 * portion\n",
    "        \n",
    "    if(y_scale > 0.1 * portion):\n",
    "        y_scale += 0.1 * portion\n",
    "        \n",
    "    if(z_scale > 0.1 * portion):\n",
    "        z_scale += 0.1 * portion\n",
    "\n",
    "    startPos = np.array([x_start,y_start,z_start])\n",
    "    scale = np.array([x_scale,y_scale,z_scale])\n",
    "    \n",
    "    tempt = rect(startPos, scale)\n",
    "    return tempt\n"
   ]
  },
  {
   "cell_type": "code",
   "execution_count": 106,
   "id": "9fd0dc7f",
   "metadata": {},
   "outputs": [],
   "source": [
    "class rect:\n",
    "    def __init__(self, startPos, scale): \n",
    "        self.start_x = round(startPos[0],2);\n",
    "        self.start_y = round(startPos[1],2);\n",
    "        self.start_z = round(startPos[2],2);\n",
    "        \n",
    "        self.scale_x = round(scale[0],2);\n",
    "        self.scale_y = round(scale[1],2);\n",
    "        self.scale_z = round(scale[2],2);\n",
    "    \n",
    "    def info(self):\n",
    "        print(\"start_x:\",self.start_x,\"start_y:\",self.start_y,\"start_z:\",self.start_z)\n",
    "        print(\"scale_x:\",self.scale_x,\"scale_y:\",self.scale_y,\"scale_z:\",self.scale_z)\n",
    "        print(\" \")\n",
    "    \n",
    "    def center_x(self):\n",
    "        return round(self.start_x + 0.5 * self.scale_x, 1)\n",
    "    \n",
    "    def center_y(self):\n",
    "        return round(self.start_y + 0.5 * self.scale_y,1)"
   ]
  },
  {
   "cell_type": "code",
   "execution_count": 107,
   "id": "329732eb",
   "metadata": {},
   "outputs": [],
   "source": [
    "b1 = np.array([[0,0,0], [0,1,0],[0,2,0],[0,3,0], [0,4,0]])\n",
    "b2 = np.array([[0,0,1], [0,1,1],[0,2,1],[0,3,1], [0,4,1]])"
   ]
  },
  {
   "cell_type": "code",
   "execution_count": 108,
   "id": "ffaf0422",
   "metadata": {},
   "outputs": [
    {
     "data": {
      "text/plain": [
       "array([[0, 0, 0],\n",
       "       [0, 1, 0],\n",
       "       [0, 2, 0],\n",
       "       [0, 3, 0],\n",
       "       [0, 4, 0],\n",
       "       [0, 0, 1],\n",
       "       [0, 1, 1],\n",
       "       [0, 2, 1],\n",
       "       [0, 3, 1],\n",
       "       [0, 4, 1]])"
      ]
     },
     "execution_count": 108,
     "metadata": {},
     "output_type": "execute_result"
    }
   ],
   "source": [
    "c = np.append(b1, b2, axis=0)\n",
    "c"
   ]
  },
  {
   "cell_type": "code",
   "execution_count": 109,
   "id": "dfe9e4f6",
   "metadata": {},
   "outputs": [],
   "source": [
    "rect_list = []"
   ]
  },
  {
   "cell_type": "code",
   "execution_count": 110,
   "id": "61b5f7aa",
   "metadata": {},
   "outputs": [
    {
     "ename": "TypeError",
     "evalue": "block_to_rect() missing 1 required positional argument: 'portion'",
     "output_type": "error",
     "traceback": [
      "\u001b[0;31m---------------------------------------------------------------------------\u001b[0m",
      "\u001b[0;31mTypeError\u001b[0m                                 Traceback (most recent call last)",
      "Input \u001b[0;32mIn [110]\u001b[0m, in \u001b[0;36m<cell line: 1>\u001b[0;34m()\u001b[0m\n\u001b[0;32m----> 1\u001b[0m rect_list\u001b[38;5;241m.\u001b[39mappend(\u001b[43mblock_to_rect\u001b[49m\u001b[43m(\u001b[49m\u001b[43mb1\u001b[49m\u001b[43m)\u001b[49m)\n\u001b[1;32m      2\u001b[0m rect_list\u001b[38;5;241m.\u001b[39mappend(block_to_rect(b2))\n\u001b[1;32m      3\u001b[0m rect_list\n",
      "\u001b[0;31mTypeError\u001b[0m: block_to_rect() missing 1 required positional argument: 'portion'"
     ]
    }
   ],
   "source": [
    "rect_list.append(block_to_rect(b1))\n",
    "rect_list.append(block_to_rect(b2))\n",
    "rect_list"
   ]
  },
  {
   "cell_type": "code",
   "execution_count": 111,
   "id": "0568c045",
   "metadata": {
    "scrolled": true
   },
   "outputs": [
    {
     "data": {
      "text/plain": [
       "array([[0., 0., 0.]])"
      ]
     },
     "execution_count": 111,
     "metadata": {},
     "output_type": "execute_result"
    }
   ],
   "source": [
    "pos = np.array([2.0,2.0,4.0])\n",
    "np.array([[0.0,0.0,0.0]])"
   ]
  },
  {
   "cell_type": "code",
   "execution_count": 112,
   "id": "f2ca7da1",
   "metadata": {},
   "outputs": [
    {
     "data": {
      "text/plain": [
       "6"
      ]
     },
     "execution_count": 112,
     "metadata": {},
     "output_type": "execute_result"
    }
   ],
   "source": [
    "len(sa.next_possibles)"
   ]
  },
  {
   "cell_type": "code",
   "execution_count": 113,
   "id": "fa9001cc",
   "metadata": {},
   "outputs": [],
   "source": [
    "import random\n",
    "def rand_index(input_array):\n",
    "    return int(random.random()* len(input_array) % len(input_array))"
   ]
  },
  {
   "cell_type": "code",
   "execution_count": 114,
   "id": "1354e29c",
   "metadata": {
    "scrolled": true
   },
   "outputs": [
    {
     "name": "stdout",
     "output_type": "stream",
     "text": [
      "3\n",
      "1\n",
      "4\n",
      "2\n",
      "0\n",
      "4\n",
      "0\n",
      "4\n",
      "1\n",
      "3\n",
      "2\n",
      "2\n",
      "5\n",
      "1\n",
      "4\n",
      "1\n",
      "4\n",
      "2\n",
      "0\n",
      "2\n"
     ]
    }
   ],
   "source": [
    "for i in range(20):\n",
    "    print(rand_index(sa.next_possibles))"
   ]
  },
  {
   "cell_type": "code",
   "execution_count": 38,
   "id": "bd63d1ed",
   "metadata": {},
   "outputs": [
    {
     "data": {
      "text/plain": [
       "2.0"
      ]
     },
     "execution_count": 38,
     "metadata": {},
     "output_type": "execute_result"
    }
   ],
   "source": [
    "pos[0]"
   ]
  },
  {
   "cell_type": "code",
   "execution_count": 45,
   "id": "5377b50a",
   "metadata": {},
   "outputs": [],
   "source": [
    "def gen_seed(pos):\n",
    "    seed = pos\n",
    "    for i in range(1,5):\n",
    "        tempt = np.array([pos[0]+0.1*i,pos[1],pos[2]])\n",
    "        seed = np.vstack([seed, tempt])\n",
    "    return seed"
   ]
  },
  {
   "cell_type": "code",
   "execution_count": 46,
   "id": "f4f95f12",
   "metadata": {},
   "outputs": [],
   "source": [
    "a=gen_seed(pos)"
   ]
  },
  {
   "cell_type": "code",
   "execution_count": 56,
   "id": "eb1dd30b",
   "metadata": {},
   "outputs": [
    {
     "data": {
      "text/plain": [
       "2.4"
      ]
     },
     "execution_count": 56,
     "metadata": {},
     "output_type": "execute_result"
    }
   ],
   "source": [
    "a[-1][0]"
   ]
  },
  {
   "cell_type": "code",
   "execution_count": 51,
   "id": "b652e3be",
   "metadata": {},
   "outputs": [],
   "source": [
    "def get_next_possible(pos):\n",
    "    tempt1 = np.array([pos[0],pos[1]+0.1,pos[2],4])\n",
    "    tempt2 = np.array([pos[0],pos[1]-0.1,pos[2],3])\n",
    "    \n",
    "    return np.vstack([tempt1, tempt2])"
   ]
  },
  {
   "cell_type": "code",
   "execution_count": 52,
   "id": "fb9e5454",
   "metadata": {},
   "outputs": [],
   "source": [
    "pos_b = a[-1]"
   ]
  },
  {
   "cell_type": "code",
   "execution_count": 53,
   "id": "c080837d",
   "metadata": {},
   "outputs": [
    {
     "data": {
      "text/plain": [
       "array([[2.4, 2.1, 4. , 4. ],\n",
       "       [2.4, 1.9, 4. , 3. ]])"
      ]
     },
     "execution_count": 53,
     "metadata": {},
     "output_type": "execute_result"
    }
   ],
   "source": [
    "x = get_next_possible(pos_b)\n",
    "x"
   ]
  },
  {
   "cell_type": "code",
   "execution_count": 218,
   "id": "9909d4a2",
   "metadata": {},
   "outputs": [],
   "source": [
    "def too_close(structure):\n",
    "    horizontal = []\n",
    "    vertical = []\n",
    "\n",
    "    for i in structure.rect:\n",
    "        if(i.scale_x > i.scale_y):\n",
    "            horizontal.append(i)\n",
    "        else:\n",
    "            vertical.append(i)\n",
    "    \n",
    "    for i in horizontal:\n",
    "        for j in horizontal:\n",
    "            if(i.start_y != j.start_y and abs(i.start_y - j.start_y)<0.2):\n",
    "                return True\n",
    "    \n",
    "    for i in vertical:\n",
    "        for j in vertical:\n",
    "            if(i.start_x != j.start_x and abs(i.start_x - j.start_x)<0.2):\n",
    "                return True\n",
    "    \n",
    "    return False"
   ]
  },
  {
   "cell_type": "code",
   "execution_count": 219,
   "id": "dab7be77",
   "metadata": {
    "scrolled": true
   },
   "outputs": [
    {
     "data": {
      "text/plain": [
       "True"
      ]
     },
     "execution_count": 219,
     "metadata": {},
     "output_type": "execute_result"
    }
   ],
   "source": [
    "too_close(sa)"
   ]
  },
  {
   "cell_type": "code",
   "execution_count": 210,
   "id": "767e2896",
   "metadata": {},
   "outputs": [
    {
     "data": {
      "text/plain": [
       "[<__main__.rect at 0x7f87402e1e20>,\n",
       " <__main__.rect at 0x7f87402e1c40>,\n",
       " <__main__.rect at 0x7f87402e1790>,\n",
       " <__main__.rect at 0x7f87402e1af0>,\n",
       " <__main__.rect at 0x7f86f10b6f10>,\n",
       " <__main__.rect at 0x7f86f0b8fdc0>,\n",
       " <__main__.rect at 0x7f86d0493e80>,\n",
       " <__main__.rect at 0x7f86e06a9e80>,\n",
       " <__main__.rect at 0x7f86f0c50880>]"
      ]
     },
     "execution_count": 210,
     "metadata": {},
     "output_type": "execute_result"
    }
   ],
   "source": [
    "sa.rect"
   ]
  },
  {
   "cell_type": "code",
   "execution_count": 223,
   "id": "af394fba",
   "metadata": {},
   "outputs": [
    {
     "ename": "AuthenticationError",
     "evalue": "No API key provided. You can set your API key in code using 'openai.api_key = <API-KEY>', or you can set the environment variable OPENAI_API_KEY=<API-KEY>). If your API key is stored in a file, you can point the openai module at it with 'openai.api_key_path = <PATH>'. You can generate API keys in the OpenAI web interface. See https://onboard.openai.com for details, or email support@openai.com if you have any questions.",
     "output_type": "error",
     "traceback": [
      "\u001b[0;31m---------------------------------------------------------------------------\u001b[0m",
      "\u001b[0;31mAuthenticationError\u001b[0m                       Traceback (most recent call last)",
      "Input \u001b[0;32mIn [223]\u001b[0m, in \u001b[0;36m<cell line: 3>\u001b[0;34m()\u001b[0m\n\u001b[1;32m      1\u001b[0m \u001b[38;5;28;01mimport\u001b[39;00m \u001b[38;5;21;01mopenai\u001b[39;00m\n\u001b[0;32m----> 3\u001b[0m response \u001b[38;5;241m=\u001b[39m \u001b[43mopenai\u001b[49m\u001b[38;5;241;43m.\u001b[39;49m\u001b[43mImage\u001b[49m\u001b[38;5;241;43m.\u001b[39;49m\u001b[43mcreate\u001b[49m\u001b[43m(\u001b[49m\n\u001b[1;32m      4\u001b[0m \u001b[43m  \u001b[49m\u001b[43mprompt\u001b[49m\u001b[38;5;241;43m=\u001b[39;49m\u001b[38;5;124;43m\"\u001b[39;49m\u001b[38;5;124;43ma white siamese cat\u001b[39;49m\u001b[38;5;124;43m\"\u001b[39;49m\u001b[43m,\u001b[49m\n\u001b[1;32m      5\u001b[0m \u001b[43m  \u001b[49m\u001b[43mn\u001b[49m\u001b[38;5;241;43m=\u001b[39;49m\u001b[38;5;241;43m1\u001b[39;49m\u001b[43m,\u001b[49m\n\u001b[1;32m      6\u001b[0m \u001b[43m  \u001b[49m\u001b[43msize\u001b[49m\u001b[38;5;241;43m=\u001b[39;49m\u001b[38;5;124;43m\"\u001b[39;49m\u001b[38;5;124;43m1024x1024\u001b[39;49m\u001b[38;5;124;43m\"\u001b[39;49m\n\u001b[1;32m      7\u001b[0m \u001b[43m)\u001b[49m\n\u001b[1;32m      8\u001b[0m image_url \u001b[38;5;241m=\u001b[39m response[\u001b[38;5;124m'\u001b[39m\u001b[38;5;124mdata\u001b[39m\u001b[38;5;124m'\u001b[39m][\u001b[38;5;241m0\u001b[39m][\u001b[38;5;124m'\u001b[39m\u001b[38;5;124murl\u001b[39m\u001b[38;5;124m'\u001b[39m]\n",
      "File \u001b[0;32m~/opt/anaconda3/lib/python3.9/site-packages/openai/api_resources/image.py:22\u001b[0m, in \u001b[0;36mImage.create\u001b[0;34m(cls, **params)\u001b[0m\n\u001b[1;32m     16\u001b[0m \u001b[38;5;129m@classmethod\u001b[39m\n\u001b[1;32m     17\u001b[0m \u001b[38;5;28;01mdef\u001b[39;00m \u001b[38;5;21mcreate\u001b[39m(\n\u001b[1;32m     18\u001b[0m     \u001b[38;5;28mcls\u001b[39m,\n\u001b[1;32m     19\u001b[0m     \u001b[38;5;241m*\u001b[39m\u001b[38;5;241m*\u001b[39mparams,\n\u001b[1;32m     20\u001b[0m ):\n\u001b[1;32m     21\u001b[0m     instance \u001b[38;5;241m=\u001b[39m \u001b[38;5;28mcls\u001b[39m()\n\u001b[0;32m---> 22\u001b[0m     \u001b[38;5;28;01mreturn\u001b[39;00m \u001b[43minstance\u001b[49m\u001b[38;5;241;43m.\u001b[39;49m\u001b[43mrequest\u001b[49m\u001b[43m(\u001b[49m\u001b[38;5;124;43m\"\u001b[39;49m\u001b[38;5;124;43mpost\u001b[39;49m\u001b[38;5;124;43m\"\u001b[39;49m\u001b[43m,\u001b[49m\u001b[43m \u001b[49m\u001b[38;5;28;43mcls\u001b[39;49m\u001b[38;5;241;43m.\u001b[39;49m\u001b[43m_get_url\u001b[49m\u001b[43m(\u001b[49m\u001b[38;5;124;43m\"\u001b[39;49m\u001b[38;5;124;43mgenerations\u001b[39;49m\u001b[38;5;124;43m\"\u001b[39;49m\u001b[43m)\u001b[49m\u001b[43m,\u001b[49m\u001b[43m \u001b[49m\u001b[43mparams\u001b[49m\u001b[43m)\u001b[49m\n",
      "File \u001b[0;32m~/opt/anaconda3/lib/python3.9/site-packages/openai/openai_object.py:172\u001b[0m, in \u001b[0;36mOpenAIObject.request\u001b[0;34m(self, method, url, params, headers, stream, plain_old_data, request_id, request_timeout)\u001b[0m\n\u001b[1;32m    170\u001b[0m \u001b[38;5;28;01mif\u001b[39;00m params \u001b[38;5;129;01mis\u001b[39;00m \u001b[38;5;28;01mNone\u001b[39;00m:\n\u001b[1;32m    171\u001b[0m     params \u001b[38;5;241m=\u001b[39m \u001b[38;5;28mself\u001b[39m\u001b[38;5;241m.\u001b[39m_retrieve_params\n\u001b[0;32m--> 172\u001b[0m requestor \u001b[38;5;241m=\u001b[39m \u001b[43mapi_requestor\u001b[49m\u001b[38;5;241;43m.\u001b[39;49m\u001b[43mAPIRequestor\u001b[49m\u001b[43m(\u001b[49m\n\u001b[1;32m    173\u001b[0m \u001b[43m    \u001b[49m\u001b[43mkey\u001b[49m\u001b[38;5;241;43m=\u001b[39;49m\u001b[38;5;28;43mself\u001b[39;49m\u001b[38;5;241;43m.\u001b[39;49m\u001b[43mapi_key\u001b[49m\u001b[43m,\u001b[49m\n\u001b[1;32m    174\u001b[0m \u001b[43m    \u001b[49m\u001b[43mapi_base\u001b[49m\u001b[38;5;241;43m=\u001b[39;49m\u001b[38;5;28;43mself\u001b[39;49m\u001b[38;5;241;43m.\u001b[39;49m\u001b[43mapi_base_override\u001b[49m\u001b[43m \u001b[49m\u001b[38;5;129;43;01mor\u001b[39;49;00m\u001b[43m \u001b[49m\u001b[38;5;28;43mself\u001b[39;49m\u001b[38;5;241;43m.\u001b[39;49m\u001b[43mapi_base\u001b[49m\u001b[43m(\u001b[49m\u001b[43m)\u001b[49m\u001b[43m,\u001b[49m\n\u001b[1;32m    175\u001b[0m \u001b[43m    \u001b[49m\u001b[43mapi_type\u001b[49m\u001b[38;5;241;43m=\u001b[39;49m\u001b[38;5;28;43mself\u001b[39;49m\u001b[38;5;241;43m.\u001b[39;49m\u001b[43mapi_type\u001b[49m\u001b[43m,\u001b[49m\n\u001b[1;32m    176\u001b[0m \u001b[43m    \u001b[49m\u001b[43mapi_version\u001b[49m\u001b[38;5;241;43m=\u001b[39;49m\u001b[38;5;28;43mself\u001b[39;49m\u001b[38;5;241;43m.\u001b[39;49m\u001b[43mapi_version\u001b[49m\u001b[43m,\u001b[49m\n\u001b[1;32m    177\u001b[0m \u001b[43m    \u001b[49m\u001b[43morganization\u001b[49m\u001b[38;5;241;43m=\u001b[39;49m\u001b[38;5;28;43mself\u001b[39;49m\u001b[38;5;241;43m.\u001b[39;49m\u001b[43morganization\u001b[49m\u001b[43m,\u001b[49m\n\u001b[1;32m    178\u001b[0m \u001b[43m\u001b[49m\u001b[43m)\u001b[49m\n\u001b[1;32m    179\u001b[0m response, stream, api_key \u001b[38;5;241m=\u001b[39m requestor\u001b[38;5;241m.\u001b[39mrequest(\n\u001b[1;32m    180\u001b[0m     method,\n\u001b[1;32m    181\u001b[0m     url,\n\u001b[0;32m   (...)\u001b[0m\n\u001b[1;32m    186\u001b[0m     request_timeout\u001b[38;5;241m=\u001b[39mrequest_timeout,\n\u001b[1;32m    187\u001b[0m )\n\u001b[1;32m    189\u001b[0m \u001b[38;5;28;01mif\u001b[39;00m stream:\n",
      "File \u001b[0;32m~/opt/anaconda3/lib/python3.9/site-packages/openai/api_requestor.py:85\u001b[0m, in \u001b[0;36mAPIRequestor.__init__\u001b[0;34m(self, key, api_base, api_type, api_version, organization)\u001b[0m\n\u001b[1;32m     76\u001b[0m \u001b[38;5;28;01mdef\u001b[39;00m \u001b[38;5;21m__init__\u001b[39m(\n\u001b[1;32m     77\u001b[0m     \u001b[38;5;28mself\u001b[39m,\n\u001b[1;32m     78\u001b[0m     key\u001b[38;5;241m=\u001b[39m\u001b[38;5;28;01mNone\u001b[39;00m,\n\u001b[0;32m   (...)\u001b[0m\n\u001b[1;32m     82\u001b[0m     organization\u001b[38;5;241m=\u001b[39m\u001b[38;5;28;01mNone\u001b[39;00m,\n\u001b[1;32m     83\u001b[0m ):\n\u001b[1;32m     84\u001b[0m     \u001b[38;5;28mself\u001b[39m\u001b[38;5;241m.\u001b[39mapi_base \u001b[38;5;241m=\u001b[39m api_base \u001b[38;5;129;01mor\u001b[39;00m openai\u001b[38;5;241m.\u001b[39mapi_base\n\u001b[0;32m---> 85\u001b[0m     \u001b[38;5;28mself\u001b[39m\u001b[38;5;241m.\u001b[39mapi_key \u001b[38;5;241m=\u001b[39m key \u001b[38;5;129;01mor\u001b[39;00m \u001b[43mutil\u001b[49m\u001b[38;5;241;43m.\u001b[39;49m\u001b[43mdefault_api_key\u001b[49m\u001b[43m(\u001b[49m\u001b[43m)\u001b[49m\n\u001b[1;32m     86\u001b[0m     \u001b[38;5;28mself\u001b[39m\u001b[38;5;241m.\u001b[39mapi_type \u001b[38;5;241m=\u001b[39m (\n\u001b[1;32m     87\u001b[0m         ApiType\u001b[38;5;241m.\u001b[39mfrom_str(api_type)\n\u001b[1;32m     88\u001b[0m         \u001b[38;5;28;01mif\u001b[39;00m api_type\n\u001b[1;32m     89\u001b[0m         \u001b[38;5;28;01melse\u001b[39;00m ApiType\u001b[38;5;241m.\u001b[39mfrom_str(openai\u001b[38;5;241m.\u001b[39mapi_type)\n\u001b[1;32m     90\u001b[0m     )\n\u001b[1;32m     91\u001b[0m     \u001b[38;5;28mself\u001b[39m\u001b[38;5;241m.\u001b[39mapi_version \u001b[38;5;241m=\u001b[39m api_version \u001b[38;5;129;01mor\u001b[39;00m openai\u001b[38;5;241m.\u001b[39mapi_version\n",
      "File \u001b[0;32m~/opt/anaconda3/lib/python3.9/site-packages/openai/util.py:186\u001b[0m, in \u001b[0;36mdefault_api_key\u001b[0;34m()\u001b[0m\n\u001b[1;32m    184\u001b[0m     \u001b[38;5;28;01mreturn\u001b[39;00m openai\u001b[38;5;241m.\u001b[39mapi_key\n\u001b[1;32m    185\u001b[0m \u001b[38;5;28;01melse\u001b[39;00m:\n\u001b[0;32m--> 186\u001b[0m     \u001b[38;5;28;01mraise\u001b[39;00m openai\u001b[38;5;241m.\u001b[39merror\u001b[38;5;241m.\u001b[39mAuthenticationError(\n\u001b[1;32m    187\u001b[0m         \u001b[38;5;124m\"\u001b[39m\u001b[38;5;124mNo API key provided. You can set your API key in code using \u001b[39m\u001b[38;5;124m'\u001b[39m\u001b[38;5;124mopenai.api_key = <API-KEY>\u001b[39m\u001b[38;5;124m'\u001b[39m\u001b[38;5;124m, or you can set the environment variable OPENAI_API_KEY=<API-KEY>). If your API key is stored in a file, you can point the openai module at it with \u001b[39m\u001b[38;5;124m'\u001b[39m\u001b[38;5;124mopenai.api_key_path = <PATH>\u001b[39m\u001b[38;5;124m'\u001b[39m\u001b[38;5;124m. You can generate API keys in the OpenAI web interface. See https://onboard.openai.com for details, or email support@openai.com if you have any questions.\u001b[39m\u001b[38;5;124m\"\u001b[39m\n\u001b[1;32m    188\u001b[0m     )\n",
      "\u001b[0;31mAuthenticationError\u001b[0m: No API key provided. You can set your API key in code using 'openai.api_key = <API-KEY>', or you can set the environment variable OPENAI_API_KEY=<API-KEY>). If your API key is stored in a file, you can point the openai module at it with 'openai.api_key_path = <PATH>'. You can generate API keys in the OpenAI web interface. See https://onboard.openai.com for details, or email support@openai.com if you have any questions."
     ]
    }
   ],
   "source": [
    "import openai\n",
    "\n",
    "response = openai.Image.create(\n",
    "  prompt=\"a white siamese cat\",\n",
    "  n=1,\n",
    "  size=\"1024x1024\"\n",
    ")\n",
    "image_url = response['data'][0]['url']\n"
   ]
  },
  {
   "cell_type": "code",
   "execution_count": 74,
   "id": "88b2e336",
   "metadata": {},
   "outputs": [
    {
     "data": {
      "text/plain": [
       "[2, 0]"
      ]
     },
     "execution_count": 74,
     "metadata": {},
     "output_type": "execute_result"
    }
   ],
   "source": [
    "s = [2, 3, 1, 4, 5, 3]\n",
    "a = sorted(range(len(s)), key=lambda k: s[k])\n",
    "a[:2]"
   ]
  },
  {
   "cell_type": "code",
   "execution_count": 3,
   "id": "ad407c9c",
   "metadata": {},
   "outputs": [],
   "source": [
    "import numpy as np\n",
    "import random"
   ]
  },
  {
   "cell_type": "code",
   "execution_count": 16,
   "id": "d52b27eb",
   "metadata": {},
   "outputs": [
    {
     "data": {
      "text/plain": [
       "20"
      ]
     },
     "execution_count": 16,
     "metadata": {},
     "output_type": "execute_result"
    }
   ],
   "source": [
    "int(np.random.normal(loc=10.0, scale=5.0, size=None))\n"
   ]
  },
  {
   "cell_type": "code",
   "execution_count": null,
   "id": "c1fc53ab",
   "metadata": {},
   "outputs": [],
   "source": []
  }
 ],
 "metadata": {
  "kernelspec": {
   "display_name": "Python 3 (ipykernel)",
   "language": "python",
   "name": "python3"
  },
  "language_info": {
   "codemirror_mode": {
    "name": "ipython",
    "version": 3
   },
   "file_extension": ".py",
   "mimetype": "text/x-python",
   "name": "python",
   "nbconvert_exporter": "python",
   "pygments_lexer": "ipython3",
   "version": "3.9.12"
  }
 },
 "nbformat": 4,
 "nbformat_minor": 5
}
