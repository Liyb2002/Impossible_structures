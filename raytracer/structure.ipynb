{
 "cells": [
  {
   "cell_type": "code",
   "execution_count": 34,
   "id": "1207fa99",
   "metadata": {},
   "outputs": [],
   "source": [
    "import numpy as np\n",
    "import random\n",
    "\n",
    "class Structure:\n",
    "    def __init__(self, seed, seed_next_possible, portion, destination):\n",
    "        self.history = None\n",
    "        self.data = None\n",
    "        self.rect = []\n",
    "        self.next_possibles = None\n",
    "        \n",
    "        self.portion = portion\n",
    "        self.seed = seed\n",
    "        self.seed_next_possible = seed_next_possible\n",
    "        \n",
    "        self.cleanUp()\n",
    "        self.destination = destination\n",
    "        self.preprocess()\n",
    "\n",
    "        #print(\"initialized data: \\n\", self.data)\n",
    "    \n",
    "    def preprocess(self):\n",
    "        start = self.seed_next_possible[0]\n",
    "        direction = start[-1]\n",
    "        new_vertex_clean = np.array([start[0], start[1], start[2]])\n",
    "        self.add_vertex(new_vertex_clean)\n",
    "        \n",
    "        span = 4 + int(random.random() * 6 % 6)\n",
    "        for i in range(span):\n",
    "            new_vertex_clean = self.get_vertex_forward(new_vertex_clean, direction)\n",
    "            self.add_vertex(new_vertex_clean)\n",
    "        \n",
    "        self.remove_possible(0)\n",
    "        self.history = np.append(self.history, self.data[1:], axis=0)\n",
    "        self.rect.append(block_to_rect(self.data, self.portion))\n",
    "        self.data = np.array([[0,0,0]])\n",
    "        \n",
    "        self.to_dest(new_vertex_clean)\n",
    "\n",
    "\n",
    "    def to_dest(self, new_vertex_clean):\n",
    "        x_dist = abs(self.destination[0] - new_vertex_clean[0])\n",
    "        x_start = min(self.destination[0], new_vertex_clean[0])\n",
    "        startPos = np.array([x_start, new_vertex_clean[1], new_vertex_clean[2]])\n",
    "        scale = np.array([x_dist+0.07*self.portion, 0.07*self.portion, 0.07*self.portion])\n",
    "        rect1 = rect(startPos, scale)\n",
    "        \n",
    "        y_dist = abs(self.destination[1] - new_vertex_clean[1])\n",
    "        y_start = min(self.destination[1], new_vertex_clean[1])\n",
    "        startPos2 = np.array([self.destination[0], y_start, new_vertex_clean[2]])\n",
    "        scale2 = np.array([0.07,y_dist+0.07*self.portion, 0.07*self.portion])\n",
    "        rect2 = rect(startPos2, scale2)\n",
    "        \n",
    "        self.rect.append(rect1)\n",
    "        self.rect.append(rect2)\n",
    "        \n",
    "        \n",
    "    def cleanUp(self):\n",
    "        self.history = self.seed\n",
    "        self.data = np.array([[0.0,0.0,0.0]])\n",
    "        self.data = np.append(self.data, self.seed, axis = 0)\n",
    "        self.rect = []\n",
    "        self.rect.append(block_to_rect(self.data, self.portion))\n",
    "        self.data = np.array([[0.0,0.0,0.0]])\n",
    "        self.next_possibles = self.seed_next_possible\n",
    "\n",
    "  \n",
    "    def cost_func(self, pos):\n",
    "        return random.random()\n",
    "  \n",
    "    def add_vertex(self, next_vertex):\n",
    "        x = next_vertex[0]\n",
    "        y = next_vertex[1]\n",
    "        z = next_vertex[2]\n",
    "\n",
    "        self.data = np.vstack([self.data, np.array([x,y,z])])\n",
    "\n",
    "    def remove_possible(self, next_index):\n",
    "        self.next_possibles = np.delete(self.next_possibles, next_index, axis=0)\n",
    "  \n",
    "  #define direction:\n",
    "  #x=-1 -> 0, x=1 -> 1, y=-1 -> 2, y=1 -> 3, z=-1 -> 4, z=1 -> 5,\n",
    "    def get_next_possible(self, available_contact, direction):\n",
    "        result = np.array([0,0,0,0])\n",
    "\n",
    "        available_contact = np.append(available_contact, 0)\n",
    "        if direction == 0 or direction == 1:\n",
    "            result = np.vstack([result, available_contact + np.array([0.0,0.07,0.0,3])])\n",
    "            result = np.vstack([result, available_contact + np.array([0.0,-0.07,0.0,2])])\n",
    "            result = np.delete(result, 0, axis =0)\n",
    "            return result\n",
    "\n",
    "        if direction == 2 or direction == 3:\n",
    "            result = np.vstack([result, available_contact + np.array([0.07,0.0,0.0,1])])\n",
    "            result = np.vstack([result, available_contact + np.array([-0.07,0.0,0.0,1])])\n",
    "            result = np.delete(result, 0, axis =0)\n",
    "            return result\n",
    "\n",
    "    \n",
    "    def get_last_direction(self,direction):\n",
    "        count =direction[1]*1 + direction[2]*2\n",
    "        return count\n",
    "  \n",
    "    def get_vertex_forward(self, new_vertex_clean, direction):\n",
    "        if direction == 0:\n",
    "            return new_vertex_clean + np.array([-0.07,0.0,0.0])\n",
    "\n",
    "        if direction == 1:\n",
    "            return new_vertex_clean + np.array([0.07,0.0,0.0])\n",
    "\n",
    "        if direction == 2:\n",
    "            return new_vertex_clean + np.array([0.0,-0.07,0.0])\n",
    "\n",
    "        if direction == 3:\n",
    "            return new_vertex_clean + np.array([0.0,0.07,0.0])\n",
    "    \n",
    "    def generate(self, steps):\n",
    "        for i in range(steps):\n",
    "            #print(\"step \", i+1)\n",
    "            self.process()\n",
    "            self.history = np.append(self.history, self.data[1:], axis=0)\n",
    "            self.rect.append(block_to_rect(self.data, self.portion))\n",
    "            self.data = np.array([[0,0,0]])\n",
    "\n",
    "\n",
    "\n",
    "    def process(self):\n",
    "        #step 1: for all available contacts, assume they will make a turn  \n",
    "        #print(\"next_possibles\", self.next_possibles)\n",
    "\n",
    "        #step2: create a 1d array that stores cost for each possible point\n",
    "        costs = np.array([])\n",
    "        for next_possible in self.next_possibles:\n",
    "            costs = np.append(costs, self.cost_func(next_possible))\n",
    "\n",
    "        #print(\"costs\", costs)\n",
    "\n",
    "        #step3 find the next_vertex with smallest cost\n",
    "        next_index = np.argpartition(costs, -1)[-1:]\n",
    "        next_vertex = self.next_possibles[next_index] \n",
    "\n",
    "        #print(\"next_vertex\", next_vertex)\n",
    "\n",
    "        #step4 add next_vertex to data\n",
    "        new_direction = next_vertex[0][3]\n",
    "        #print(\"new_direction\", new_direction)\n",
    "        new_vertex_clean = np.array([next_vertex[0][0], next_vertex[0][1], next_vertex[0][2]])\n",
    "        #print(\"new_vertex_clean\", new_vertex_clean)\n",
    "        self.add_vertex(new_vertex_clean)\n",
    "        \n",
    "        span = 3 + int(random.random() * 6 % 6)\n",
    "        for i in range(span):\n",
    "            new_vertex_clean = self.get_vertex_forward(new_vertex_clean, new_direction)\n",
    "            self.add_vertex(new_vertex_clean)\n",
    "\n",
    "        #print(\"data: \\n\", self.data)\n",
    "\n",
    "        #step5 update next_possible\n",
    "        self.remove_possible(next_index)\n",
    "        #print(\"next_possibles, removed old\", self.next_possibles)\n",
    "        #print(\"next_vertex\", new_vertex_clean)\n",
    "        #print(\"new_direction\", new_direction)\n",
    "        new_next_possibles = self.get_next_possible(new_vertex_clean, new_direction)\n",
    "        self.next_possibles = np.append(self.next_possibles,new_next_possibles, axis=0)\n",
    "        #print(\"next_possibles, add new\", self.next_possibles)\n"
   ]
  },
  {
   "cell_type": "code",
   "execution_count": 35,
   "id": "157a827f",
   "metadata": {},
   "outputs": [],
   "source": [
    "seed = np.array([[0.0,0.0,0.0], [0.0,0.1,0.0],[0.0,0.2,0.0],[0.0,0.3,0.0], [0.0,0.4,0.0]])\n",
    "seed_next_possible = np.array([[-0.1,0.4,0.0,0],[0.1,0.4,0.0,1]])\n"
   ]
  },
  {
   "cell_type": "code",
   "execution_count": 36,
   "id": "d14b4684",
   "metadata": {
    "scrolled": true
   },
   "outputs": [],
   "source": [
    "sa = Structure(seed, seed_next_possible, 0.5, np.array([0.4,0.9]))\n",
    "\n",
    "sa.generate(5)"
   ]
  },
  {
   "cell_type": "code",
   "execution_count": 37,
   "id": "6062d121",
   "metadata": {
    "scrolled": true
   },
   "outputs": [
    {
     "data": {
      "text/plain": [
       "array([[ 0.  ,  0.  ,  0.  ],\n",
       "       [ 0.  ,  0.1 ,  0.  ],\n",
       "       [ 0.  ,  0.2 ,  0.  ],\n",
       "       [ 0.  ,  0.3 ,  0.  ],\n",
       "       [ 0.  ,  0.4 ,  0.  ],\n",
       "       [-0.1 ,  0.4 ,  0.  ],\n",
       "       [-0.17,  0.4 ,  0.  ],\n",
       "       [-0.24,  0.4 ,  0.  ],\n",
       "       [-0.31,  0.4 ,  0.  ],\n",
       "       [-0.38,  0.4 ,  0.  ],\n",
       "       [-0.45,  0.4 ,  0.  ],\n",
       "       [-0.52,  0.4 ,  0.  ],\n",
       "       [-0.59,  0.4 ,  0.  ],\n",
       "       [-0.66,  0.4 ,  0.  ],\n",
       "       [-0.73,  0.4 ,  0.  ],\n",
       "       [ 0.1 ,  0.4 ,  0.  ],\n",
       "       [ 0.17,  0.4 ,  0.  ],\n",
       "       [ 0.24,  0.4 ,  0.  ],\n",
       "       [ 0.31,  0.4 ,  0.  ],\n",
       "       [ 0.38,  0.4 ,  0.  ],\n",
       "       [ 0.45,  0.4 ,  0.  ],\n",
       "       [ 0.52,  0.4 ,  0.  ],\n",
       "       [ 0.59,  0.4 ,  0.  ],\n",
       "       [ 0.59,  0.33,  0.  ],\n",
       "       [ 0.59,  0.26,  0.  ],\n",
       "       [ 0.59,  0.19,  0.  ],\n",
       "       [ 0.59,  0.12,  0.  ],\n",
       "       [ 0.59,  0.47,  0.  ],\n",
       "       [ 0.59,  0.54,  0.  ],\n",
       "       [ 0.59,  0.61,  0.  ],\n",
       "       [ 0.59,  0.68,  0.  ],\n",
       "       [ 0.59,  0.75,  0.  ],\n",
       "       [ 0.59,  0.82,  0.  ],\n",
       "       [ 0.59,  0.89,  0.  ],\n",
       "       [ 0.59,  0.96,  0.  ],\n",
       "       [ 0.59,  1.03,  0.  ],\n",
       "       [ 0.66,  1.03,  0.  ],\n",
       "       [ 0.73,  1.03,  0.  ],\n",
       "       [ 0.8 ,  1.03,  0.  ],\n",
       "       [ 0.87,  1.03,  0.  ],\n",
       "       [ 0.94,  1.03,  0.  ],\n",
       "       [ 1.01,  1.03,  0.  ],\n",
       "       [ 1.08,  1.03,  0.  ],\n",
       "       [ 1.15,  1.03,  0.  ],\n",
       "       [ 0.66,  0.12,  0.  ],\n",
       "       [ 0.73,  0.12,  0.  ],\n",
       "       [ 0.8 ,  0.12,  0.  ],\n",
       "       [ 0.87,  0.12,  0.  ],\n",
       "       [ 0.94,  0.12,  0.  ]])"
      ]
     },
     "execution_count": 37,
     "metadata": {},
     "output_type": "execute_result"
    }
   ],
   "source": [
    "sa.history"
   ]
  },
  {
   "cell_type": "code",
   "execution_count": 38,
   "id": "4bb5b534",
   "metadata": {},
   "outputs": [],
   "source": [
    "seed2 = np.array([[0.0,0.0,0.0], [0.1,0.0,0.0],[0.2,0.0,0.0],[0.3,0.0,0.0], [0.4,0.0,0.0]])\n",
    "seed2_next_possible = np.array([[0.4,0.1,0.0,3],[0.4,-0.1,0.0,2]])\n",
    "sa2 = Structure(seed2, seed2_next_possible, 0.5,np.array([0.4,0.9]))\n",
    "\n",
    "sa2.generate(5)"
   ]
  },
  {
   "cell_type": "code",
   "execution_count": 39,
   "id": "b17f5dff",
   "metadata": {},
   "outputs": [],
   "source": [
    "sa.history = np.round(sa.history, 1)"
   ]
  },
  {
   "cell_type": "code",
   "execution_count": 40,
   "id": "c7566314",
   "metadata": {
    "scrolled": true
   },
   "outputs": [
    {
     "data": {
      "text/plain": [
       "array([[ 0. ,  0. ,  0. ],\n",
       "       [ 0. ,  0.1,  0. ],\n",
       "       [ 0. ,  0.2,  0. ],\n",
       "       [ 0. ,  0.3,  0. ],\n",
       "       [ 0. ,  0.4,  0. ],\n",
       "       [-0.1,  0.4,  0. ],\n",
       "       [-0.2,  0.4,  0. ],\n",
       "       [-0.2,  0.4,  0. ],\n",
       "       [-0.3,  0.4,  0. ],\n",
       "       [-0.4,  0.4,  0. ],\n",
       "       [-0.5,  0.4,  0. ],\n",
       "       [-0.5,  0.4,  0. ],\n",
       "       [-0.6,  0.4,  0. ],\n",
       "       [-0.7,  0.4,  0. ],\n",
       "       [-0.7,  0.4,  0. ],\n",
       "       [ 0.1,  0.4,  0. ],\n",
       "       [ 0.2,  0.4,  0. ],\n",
       "       [ 0.2,  0.4,  0. ],\n",
       "       [ 0.3,  0.4,  0. ],\n",
       "       [ 0.4,  0.4,  0. ],\n",
       "       [ 0.5,  0.4,  0. ],\n",
       "       [ 0.5,  0.4,  0. ],\n",
       "       [ 0.6,  0.4,  0. ],\n",
       "       [ 0.6,  0.3,  0. ],\n",
       "       [ 0.6,  0.3,  0. ],\n",
       "       [ 0.6,  0.2,  0. ],\n",
       "       [ 0.6,  0.1,  0. ],\n",
       "       [ 0.6,  0.5,  0. ],\n",
       "       [ 0.6,  0.5,  0. ],\n",
       "       [ 0.6,  0.6,  0. ],\n",
       "       [ 0.6,  0.7,  0. ],\n",
       "       [ 0.6,  0.8,  0. ],\n",
       "       [ 0.6,  0.8,  0. ],\n",
       "       [ 0.6,  0.9,  0. ],\n",
       "       [ 0.6,  1. ,  0. ],\n",
       "       [ 0.6,  1. ,  0. ],\n",
       "       [ 0.7,  1. ,  0. ],\n",
       "       [ 0.7,  1. ,  0. ],\n",
       "       [ 0.8,  1. ,  0. ],\n",
       "       [ 0.9,  1. ,  0. ],\n",
       "       [ 0.9,  1. ,  0. ],\n",
       "       [ 1. ,  1. ,  0. ],\n",
       "       [ 1.1,  1. ,  0. ],\n",
       "       [ 1.2,  1. ,  0. ],\n",
       "       [ 0.7,  0.1,  0. ],\n",
       "       [ 0.7,  0.1,  0. ],\n",
       "       [ 0.8,  0.1,  0. ],\n",
       "       [ 0.9,  0.1,  0. ],\n",
       "       [ 0.9,  0.1,  0. ]])"
      ]
     },
     "execution_count": 40,
     "metadata": {},
     "output_type": "execute_result"
    }
   ],
   "source": [
    "sa.history"
   ]
  },
  {
   "cell_type": "code",
   "execution_count": 41,
   "id": "fc176e21",
   "metadata": {},
   "outputs": [
    {
     "data": {
      "text/plain": [
       "array([[ 0.  ,  0.  ,  0.  ],\n",
       "       [ 0.1 ,  0.  ,  0.  ],\n",
       "       [ 0.2 ,  0.  ,  0.  ],\n",
       "       [ 0.3 ,  0.  ,  0.  ],\n",
       "       [ 0.4 ,  0.  ,  0.  ],\n",
       "       [ 0.4 ,  0.1 ,  0.  ],\n",
       "       [ 0.4 ,  0.17,  0.  ],\n",
       "       [ 0.4 ,  0.24,  0.  ],\n",
       "       [ 0.4 ,  0.31,  0.  ],\n",
       "       [ 0.4 ,  0.38,  0.  ],\n",
       "       [ 0.4 ,  0.45,  0.  ],\n",
       "       [ 0.4 ,  0.52,  0.  ],\n",
       "       [ 0.4 , -0.1 ,  0.  ],\n",
       "       [ 0.4 , -0.17,  0.  ],\n",
       "       [ 0.4 , -0.24,  0.  ],\n",
       "       [ 0.4 , -0.31,  0.  ],\n",
       "       [ 0.4 , -0.38,  0.  ],\n",
       "       [ 0.4 , -0.45,  0.  ],\n",
       "       [ 0.4 , -0.52,  0.  ],\n",
       "       [ 0.4 , -0.59,  0.  ],\n",
       "       [ 0.4 , -0.66,  0.  ],\n",
       "       [ 0.47, -0.66,  0.  ],\n",
       "       [ 0.54, -0.66,  0.  ],\n",
       "       [ 0.61, -0.66,  0.  ],\n",
       "       [ 0.68, -0.66,  0.  ],\n",
       "       [ 0.68, -0.59,  0.  ],\n",
       "       [ 0.68, -0.52,  0.  ],\n",
       "       [ 0.68, -0.45,  0.  ],\n",
       "       [ 0.68, -0.38,  0.  ],\n",
       "       [ 0.68, -0.31,  0.  ],\n",
       "       [ 0.68, -0.24,  0.  ],\n",
       "       [ 0.68, -0.17,  0.  ],\n",
       "       [ 0.68, -0.1 ,  0.  ],\n",
       "       [ 0.68, -0.03,  0.  ],\n",
       "       [ 0.75, -0.03,  0.  ],\n",
       "       [ 0.82, -0.03,  0.  ],\n",
       "       [ 0.89, -0.03,  0.  ],\n",
       "       [ 0.96, -0.03,  0.  ],\n",
       "       [ 1.03, -0.03,  0.  ],\n",
       "       [ 1.1 , -0.03,  0.  ],\n",
       "       [ 0.33, -0.66,  0.  ],\n",
       "       [ 0.4 , -0.66,  0.  ],\n",
       "       [ 0.47, -0.66,  0.  ],\n",
       "       [ 0.54, -0.66,  0.  ],\n",
       "       [ 0.61, -0.66,  0.  ],\n",
       "       [ 0.68, -0.66,  0.  ]])"
      ]
     },
     "execution_count": 41,
     "metadata": {},
     "output_type": "execute_result"
    }
   ],
   "source": [
    "sa2.history"
   ]
  },
  {
   "cell_type": "code",
   "execution_count": 42,
   "id": "d093d20d",
   "metadata": {},
   "outputs": [],
   "source": [
    "def offscreen(structure, max_coordinate, min_coordinate):\n",
    "    max_x = max_coordinate[0]\n",
    "    max_y = max_coordinate[1]\n",
    "    min_x = min_coordinate[0]\n",
    "    min_y = min_coordinate[1]\n",
    "    \n",
    "    for i in structure.rect:\n",
    "        if(i.start_x < min_x or i.start_y < min_y):\n",
    "            return True\n",
    "        if(i.start_x+i.scale_x > max_x or i.start_y+i.scale_y > max_y):\n",
    "            return True\n",
    "    \n",
    "    return False"
   ]
  },
  {
   "cell_type": "code",
   "execution_count": 43,
   "id": "35866b0f",
   "metadata": {},
   "outputs": [
    {
     "data": {
      "text/plain": [
       "True"
      ]
     },
     "execution_count": 43,
     "metadata": {},
     "output_type": "execute_result"
    }
   ],
   "source": [
    "max_coordinate = np.array([1.0, 1.0])\n",
    "min_coordinate = np.array([-1.0, -1.0])\n",
    "offscreen(sa, max_coordinate, min_coordinate)"
   ]
  },
  {
   "cell_type": "code",
   "execution_count": 44,
   "id": "277f5e96",
   "metadata": {},
   "outputs": [],
   "source": [
    "kk = []"
   ]
  },
  {
   "cell_type": "code",
   "execution_count": 45,
   "id": "f1d6491d",
   "metadata": {},
   "outputs": [],
   "source": [
    "kk.append(sa)"
   ]
  },
  {
   "cell_type": "code",
   "execution_count": 46,
   "id": "23a1d94b",
   "metadata": {},
   "outputs": [
    {
     "data": {
      "text/plain": [
       "[<__main__.rect at 0x7f8500563dc0>,\n",
       " <__main__.rect at 0x7f84e096d1c0>,\n",
       " <__main__.rect at 0x7f8520cde310>,\n",
       " <__main__.rect at 0x7f8520cdef10>,\n",
       " <__main__.rect at 0x7f84e09adb80>,\n",
       " <__main__.rect at 0x7f85005a9940>,\n",
       " <__main__.rect at 0x7f8500485cd0>,\n",
       " <__main__.rect at 0x7f84e093d250>,\n",
       " <__main__.rect at 0x7f84e09d83a0>]"
      ]
     },
     "execution_count": 46,
     "metadata": {},
     "output_type": "execute_result"
    }
   ],
   "source": [
    "kk[0].rect"
   ]
  },
  {
   "cell_type": "code",
   "execution_count": 47,
   "id": "9c6dd4c7",
   "metadata": {
    "scrolled": true
   },
   "outputs": [
    {
     "name": "stdout",
     "output_type": "stream",
     "text": [
      "start_x: 0.0 start_y: 0.0 start_z: 0.0\n",
      "scale_x: 0.05 scale_y: 0.45 scale_z: 0.05\n",
      " \n",
      "start_x: -0.73 start_y: 0.4 start_z: 0.0\n",
      "scale_x: 0.68 scale_y: 0.05 scale_z: 0.05\n",
      " \n",
      "start_x: -0.73 start_y: 0.4 start_z: 0.0\n",
      "scale_x: 1.17 scale_y: 0.04 scale_z: 0.04\n",
      " \n",
      "start_x: 0.4 start_y: 0.4 start_z: 0.0\n",
      "scale_x: 0.07 scale_y: 0.54 scale_z: 0.04\n",
      " \n",
      "start_x: 0.1 start_y: 0.4 start_z: 0.0\n",
      "scale_x: 0.54 scale_y: 0.05 scale_z: 0.05\n",
      " \n",
      "start_x: 0.59 start_y: 0.12 start_z: 0.0\n",
      "scale_x: 0.05 scale_y: 0.26 scale_z: 0.05\n",
      " \n",
      "start_x: 0.59 start_y: 0.47 start_z: 0.0\n",
      "scale_x: 0.05 scale_y: 0.61 scale_z: 0.05\n",
      " \n",
      "start_x: 0.66 start_y: 1.03 start_z: 0.0\n",
      "scale_x: 0.54 scale_y: 0.05 scale_z: 0.05\n",
      " \n",
      "start_x: 0.66 start_y: 0.12 start_z: 0.0\n",
      "scale_x: 0.33 scale_y: 0.05 scale_z: 0.05\n",
      " \n"
     ]
    }
   ],
   "source": [
    "for i in sa.rect:\n",
    "    i.info()"
   ]
  },
  {
   "cell_type": "code",
   "execution_count": 48,
   "id": "629598a5",
   "metadata": {},
   "outputs": [],
   "source": [
    "def parallel_score(history_a, history_b):\n",
    "    score = 0\n",
    "    parallel_pts = []\n",
    "    \n",
    "    for i in history_a:\n",
    "        for j in history_b:\n",
    "            if(i[0] == j[0] and i[1] == j[1]):\n",
    "                parallel_pts.append((i[0],i[1]))\n",
    "                score += 5\n",
    "            elif(i[0] == j[0] or i[1] == j[1]):\n",
    "                score += 1\n",
    "    return score, parallel_pts"
   ]
  },
  {
   "cell_type": "code",
   "execution_count": 49,
   "id": "23cbf21d",
   "metadata": {},
   "outputs": [],
   "source": [
    "def check_close(struct_a):\n",
    "    for i in struct_a.history:\n",
    "        print(i)"
   ]
  },
  {
   "cell_type": "code",
   "execution_count": 50,
   "id": "dcc6c543",
   "metadata": {},
   "outputs": [],
   "source": [
    "def occlude(front_structure,position, eye):\n",
    "    ray = eye - position\n",
    "    ray = ray / np.linalg.norm(ray)\n",
    "#     print(\"ray\", ray)\n",
    "\n",
    "    z_depth = front_structure.history[0][-1]\n",
    "    t = (eye[-1] - z_depth) / ray[-1]\n",
    "#     print(\"t\", t)\n",
    "\n",
    "    x = eye[0] + t*ray[0]\n",
    "    y = eye[1] + t*ray[1]\n",
    "    \n",
    "    for i in front_structure.history:\n",
    "        if x== i[0] and y == i[1]:\n",
    "            return True\n",
    "    \n",
    "    return False"
   ]
  },
  {
   "cell_type": "code",
   "execution_count": 51,
   "id": "e99da759",
   "metadata": {},
   "outputs": [
    {
     "ename": "IndentationError",
     "evalue": "expected an indented block (482663588.py, line 2)",
     "output_type": "error",
     "traceback": [
      "\u001b[0;36m  Input \u001b[0;32mIn [51]\u001b[0;36m\u001b[0m\n\u001b[0;31m    \u001b[0m\n\u001b[0m    ^\u001b[0m\n\u001b[0;31mIndentationError\u001b[0m\u001b[0;31m:\u001b[0m expected an indented block\n"
     ]
    }
   ],
   "source": [
    "def occlusion_score(front_structure, points, eye):\n",
    "    \n",
    "    count = 0\n",
    "    for i in points:\n",
    "        if (occlude(front_structure, i, eye)):\n",
    "            count += 1\n",
    "    \n",
    "    return count\n",
    "        \n",
    "    "
   ]
  },
  {
   "cell_type": "code",
   "execution_count": 69,
   "id": "ef3e114c",
   "metadata": {},
   "outputs": [
    {
     "data": {
      "text/plain": [
       "0.02"
      ]
     },
     "execution_count": 69,
     "metadata": {},
     "output_type": "execute_result"
    }
   ],
   "source": [
    "round(random.uniform(1, 6)/100,2)"
   ]
  },
  {
   "cell_type": "code",
   "execution_count": 52,
   "id": "f2911f4e",
   "metadata": {},
   "outputs": [],
   "source": [
    "eye = np.array([5.0,5.0,5.0])"
   ]
  },
  {
   "cell_type": "code",
   "execution_count": 53,
   "id": "fd234fa4",
   "metadata": {},
   "outputs": [],
   "source": [
    "position = np.array([0.3,0.4,-0.25])"
   ]
  },
  {
   "cell_type": "code",
   "execution_count": 54,
   "id": "09c549a2",
   "metadata": {
    "scrolled": true
   },
   "outputs": [
    {
     "data": {
      "text/plain": [
       "False"
      ]
     },
     "execution_count": 54,
     "metadata": {},
     "output_type": "execute_result"
    }
   ],
   "source": [
    "occlude(sa, position, eye)"
   ]
  },
  {
   "cell_type": "code",
   "execution_count": 20,
   "id": "602cf73a",
   "metadata": {},
   "outputs": [],
   "source": [
    "class connecting_structure:\n",
    "    def __init__(self, x, y, foreground_z, background_z):\n",
    "        self.x = x\n",
    "        self.y = y\n",
    "        self.foreground_z = foreground_z\n",
    "        self.background_z = background_z\n",
    "    \n",
    "    def get_object():\n",
    "        z_start = min(self.foreground_z, self.background_z)\n",
    "        z_scale = abs(self.foreground_z - self.background_z )\n",
    "        \n",
    "        startPos = np.array([x,y,z_start])\n",
    "        scale = np.array([0.07, 0.07, z_scale])\n",
    "        \n",
    "        tempt = rect(startPos, scale)\n",
    "        \n",
    "        return tempt\n",
    "    \n",
    "    def get_center():\n",
    "        z_start = min(self.foreground_z, self.background_z)\n",
    "        z_scale = abs(self.foreground_z - self.background_z )\n",
    "        \n",
    "        center = np.array([self.x+0.035, self.y+0.035, z_start + 0.5*z_scale])\n",
    "        \n",
    "        return center"
   ]
  },
  {
   "cell_type": "code",
   "execution_count": 21,
   "id": "b85c78c3",
   "metadata": {},
   "outputs": [
    {
     "ename": "NameError",
     "evalue": "name 'sa' is not defined",
     "output_type": "error",
     "traceback": [
      "\u001b[0;31m---------------------------------------------------------------------------\u001b[0m",
      "\u001b[0;31mNameError\u001b[0m                                 Traceback (most recent call last)",
      "Input \u001b[0;32mIn [21]\u001b[0m, in \u001b[0;36m<cell line: 1>\u001b[0;34m()\u001b[0m\n\u001b[0;32m----> 1\u001b[0m \u001b[43msa\u001b[49m\u001b[38;5;241m.\u001b[39mhistory[\u001b[38;5;241m0\u001b[39m][\u001b[38;5;241m-\u001b[39m\u001b[38;5;241m1\u001b[39m]\n",
      "\u001b[0;31mNameError\u001b[0m: name 'sa' is not defined"
     ]
    }
   ],
   "source": [
    "sa.history[0][-1]"
   ]
  },
  {
   "cell_type": "code",
   "execution_count": 22,
   "id": "e9eaf4dd",
   "metadata": {},
   "outputs": [],
   "source": [
    "a = round(int(random.random() * 5 % 5) * 0.1 + 0.2, 1)"
   ]
  },
  {
   "cell_type": "code",
   "execution_count": 23,
   "id": "338954c9",
   "metadata": {},
   "outputs": [],
   "source": [
    "b = random.random()"
   ]
  },
  {
   "cell_type": "code",
   "execution_count": 24,
   "id": "d4b4fbe7",
   "metadata": {},
   "outputs": [
    {
     "ename": "SyntaxError",
     "evalue": "invalid syntax (202455723.py, line 1)",
     "output_type": "error",
     "traceback": [
      "\u001b[0;36m  Input \u001b[0;32mIn [24]\u001b[0;36m\u001b[0m\n\u001b[0;31m    b>0.5 ? -1 : 1\u001b[0m\n\u001b[0m          ^\u001b[0m\n\u001b[0;31mSyntaxError\u001b[0m\u001b[0;31m:\u001b[0m invalid syntax\n"
     ]
    }
   ],
   "source": [
    "b>0.5 ? -1 : 1"
   ]
  },
  {
   "cell_type": "code",
   "execution_count": 25,
   "id": "11fe39aa",
   "metadata": {},
   "outputs": [
    {
     "ename": "NameError",
     "evalue": "name 'sa2' is not defined",
     "output_type": "error",
     "traceback": [
      "\u001b[0;31m---------------------------------------------------------------------------\u001b[0m",
      "\u001b[0;31mNameError\u001b[0m                                 Traceback (most recent call last)",
      "Input \u001b[0;32mIn [25]\u001b[0m, in \u001b[0;36m<cell line: 1>\u001b[0;34m()\u001b[0m\n\u001b[0;32m----> 1\u001b[0m check_close(\u001b[43msa2\u001b[49m)\n",
      "\u001b[0;31mNameError\u001b[0m: name 'sa2' is not defined"
     ]
    }
   ],
   "source": [
    "check_close(sa2)"
   ]
  },
  {
   "cell_type": "code",
   "execution_count": 26,
   "id": "b444ad22",
   "metadata": {},
   "outputs": [
    {
     "ename": "NameError",
     "evalue": "name 'sa2' is not defined",
     "output_type": "error",
     "traceback": [
      "\u001b[0;31m---------------------------------------------------------------------------\u001b[0m",
      "\u001b[0;31mNameError\u001b[0m                                 Traceback (most recent call last)",
      "Input \u001b[0;32mIn [26]\u001b[0m, in \u001b[0;36m<cell line: 1>\u001b[0;34m()\u001b[0m\n\u001b[0;32m----> 1\u001b[0m (score, parallel_pts)\u001b[38;5;241m=\u001b[39m parallel_score(\u001b[43msa2\u001b[49m\u001b[38;5;241m.\u001b[39mhistory, sa\u001b[38;5;241m.\u001b[39mhistory)\n\u001b[1;32m      2\u001b[0m score\n",
      "\u001b[0;31mNameError\u001b[0m: name 'sa2' is not defined"
     ]
    }
   ],
   "source": [
    "(score, parallel_pts)= parallel_score(sa2.history, sa.history)\n",
    "score"
   ]
  },
  {
   "cell_type": "code",
   "execution_count": 27,
   "id": "c255ff82",
   "metadata": {},
   "outputs": [
    {
     "ename": "NameError",
     "evalue": "name 'parallel_pts' is not defined",
     "output_type": "error",
     "traceback": [
      "\u001b[0;31m---------------------------------------------------------------------------\u001b[0m",
      "\u001b[0;31mNameError\u001b[0m                                 Traceback (most recent call last)",
      "Input \u001b[0;32mIn [27]\u001b[0m, in \u001b[0;36m<cell line: 1>\u001b[0;34m()\u001b[0m\n\u001b[0;32m----> 1\u001b[0m \u001b[38;5;28mlen\u001b[39m(\u001b[43mparallel_pts\u001b[49m)\n",
      "\u001b[0;31mNameError\u001b[0m: name 'parallel_pts' is not defined"
     ]
    }
   ],
   "source": [
    "len(parallel_pts)"
   ]
  },
  {
   "cell_type": "code",
   "execution_count": 28,
   "id": "0b3ef1f4",
   "metadata": {},
   "outputs": [],
   "source": [
    "def block_to_rect(buffer, portion):\n",
    "    start = buffer[1]\n",
    "    end = buffer[-1]\n",
    "    x_start = min(start[0],end[0])\n",
    "    y_start = min(start[1],end[1])    \n",
    "    z_start = min(start[2],end[2])\n",
    "    \n",
    "    x_scale = max(abs(start[0] - end[0]), 0.1 * portion)\n",
    "    y_scale = max(abs(start[1] - end[1]), 0.1 * portion)\n",
    "    z_scale = max(abs(start[2] - end[2]), 0.1 * portion)\n",
    "    \n",
    "    if(x_scale > 0.1 * portion):\n",
    "        x_scale += 0.1 * portion\n",
    "        \n",
    "    if(y_scale > 0.1 * portion):\n",
    "        y_scale += 0.1 * portion\n",
    "        \n",
    "    if(z_scale > 0.1 * portion):\n",
    "        z_scale += 0.1 * portion\n",
    "\n",
    "    startPos = np.array([x_start,y_start,z_start])\n",
    "    scale = np.array([x_scale,y_scale,z_scale])\n",
    "    \n",
    "    tempt = rect(startPos, scale)\n",
    "    return tempt\n"
   ]
  },
  {
   "cell_type": "code",
   "execution_count": 29,
   "id": "9fd0dc7f",
   "metadata": {},
   "outputs": [],
   "source": [
    "class rect:\n",
    "    def __init__(self, startPos, scale): \n",
    "        self.start_x = round(startPos[0],2);\n",
    "        self.start_y = round(startPos[1],2);\n",
    "        self.start_z = round(startPos[2],2);\n",
    "        \n",
    "        self.scale_x = round(scale[0],2);\n",
    "        self.scale_y = round(scale[1],2);\n",
    "        self.scale_z = round(scale[2],2);\n",
    "    \n",
    "    def info(self):\n",
    "        print(\"start_x:\",self.start_x,\"start_y:\",self.start_y,\"start_z:\",self.start_z)\n",
    "        print(\"scale_x:\",self.scale_x,\"scale_y:\",self.scale_y,\"scale_z:\",self.scale_z)\n",
    "        print(\" \")\n",
    "    \n",
    "    def center_x(self):\n",
    "        return round(self.start_x + 0.5 * self.scale_x, 1)\n",
    "    \n",
    "    def center_y(self):\n",
    "        return round(self.start_y + 0.5 * self.scale_y,1)"
   ]
  },
  {
   "cell_type": "code",
   "execution_count": 30,
   "id": "329732eb",
   "metadata": {},
   "outputs": [],
   "source": [
    "b1 = np.array([[0,0,0], [0,1,0],[0,2,0],[0,3,0], [0,4,0]])\n",
    "b2 = np.array([[0,0,1], [0,1,1],[0,2,1],[0,3,1], [0,4,1]])"
   ]
  },
  {
   "cell_type": "code",
   "execution_count": 31,
   "id": "ffaf0422",
   "metadata": {},
   "outputs": [
    {
     "data": {
      "text/plain": [
       "array([[0, 0, 0],\n",
       "       [0, 1, 0],\n",
       "       [0, 2, 0],\n",
       "       [0, 3, 0],\n",
       "       [0, 4, 0],\n",
       "       [0, 0, 1],\n",
       "       [0, 1, 1],\n",
       "       [0, 2, 1],\n",
       "       [0, 3, 1],\n",
       "       [0, 4, 1]])"
      ]
     },
     "execution_count": 31,
     "metadata": {},
     "output_type": "execute_result"
    }
   ],
   "source": [
    "c = np.append(b1, b2, axis=0)\n",
    "c"
   ]
  },
  {
   "cell_type": "code",
   "execution_count": 32,
   "id": "dfe9e4f6",
   "metadata": {},
   "outputs": [],
   "source": [
    "rect_list = []"
   ]
  },
  {
   "cell_type": "code",
   "execution_count": 33,
   "id": "61b5f7aa",
   "metadata": {},
   "outputs": [
    {
     "ename": "TypeError",
     "evalue": "block_to_rect() missing 1 required positional argument: 'portion'",
     "output_type": "error",
     "traceback": [
      "\u001b[0;31m---------------------------------------------------------------------------\u001b[0m",
      "\u001b[0;31mTypeError\u001b[0m                                 Traceback (most recent call last)",
      "Input \u001b[0;32mIn [33]\u001b[0m, in \u001b[0;36m<cell line: 1>\u001b[0;34m()\u001b[0m\n\u001b[0;32m----> 1\u001b[0m rect_list\u001b[38;5;241m.\u001b[39mappend(\u001b[43mblock_to_rect\u001b[49m\u001b[43m(\u001b[49m\u001b[43mb1\u001b[49m\u001b[43m)\u001b[49m)\n\u001b[1;32m      2\u001b[0m rect_list\u001b[38;5;241m.\u001b[39mappend(block_to_rect(b2))\n\u001b[1;32m      3\u001b[0m rect_list\n",
      "\u001b[0;31mTypeError\u001b[0m: block_to_rect() missing 1 required positional argument: 'portion'"
     ]
    }
   ],
   "source": [
    "rect_list.append(block_to_rect(b1))\n",
    "rect_list.append(block_to_rect(b2))\n",
    "rect_list"
   ]
  },
  {
   "cell_type": "code",
   "execution_count": 187,
   "id": "0568c045",
   "metadata": {
    "scrolled": true
   },
   "outputs": [
    {
     "data": {
      "text/plain": [
       "array([[0., 0., 0.]])"
      ]
     },
     "execution_count": 187,
     "metadata": {},
     "output_type": "execute_result"
    }
   ],
   "source": [
    "pos = np.array([2.0,2.0,4.0])\n",
    "np.array([[0.0,0.0,0.0]])"
   ]
  },
  {
   "cell_type": "code",
   "execution_count": 202,
   "id": "f2ca7da1",
   "metadata": {},
   "outputs": [
    {
     "data": {
      "text/plain": [
       "6"
      ]
     },
     "execution_count": 202,
     "metadata": {},
     "output_type": "execute_result"
    }
   ],
   "source": [
    "len(sa.next_possibles)"
   ]
  },
  {
   "cell_type": "code",
   "execution_count": 192,
   "id": "fa9001cc",
   "metadata": {},
   "outputs": [],
   "source": [
    "import random\n",
    "def rand_index(input_array):\n",
    "    return int(random.random()* len(input_array) % len(input_array))"
   ]
  },
  {
   "cell_type": "code",
   "execution_count": 206,
   "id": "1354e29c",
   "metadata": {
    "scrolled": true
   },
   "outputs": [
    {
     "name": "stdout",
     "output_type": "stream",
     "text": [
      "0\n",
      "1\n",
      "5\n",
      "1\n",
      "5\n",
      "2\n",
      "1\n",
      "3\n",
      "5\n",
      "5\n",
      "5\n",
      "4\n",
      "0\n",
      "0\n",
      "5\n",
      "1\n",
      "5\n",
      "2\n",
      "0\n",
      "2\n"
     ]
    }
   ],
   "source": [
    "for i in range(20):\n",
    "    print(rand_index(sa.next_possibles))"
   ]
  },
  {
   "cell_type": "code",
   "execution_count": 38,
   "id": "bd63d1ed",
   "metadata": {},
   "outputs": [
    {
     "data": {
      "text/plain": [
       "2.0"
      ]
     },
     "execution_count": 38,
     "metadata": {},
     "output_type": "execute_result"
    }
   ],
   "source": [
    "pos[0]"
   ]
  },
  {
   "cell_type": "code",
   "execution_count": 45,
   "id": "5377b50a",
   "metadata": {},
   "outputs": [],
   "source": [
    "def gen_seed(pos):\n",
    "    seed = pos\n",
    "    for i in range(1,5):\n",
    "        tempt = np.array([pos[0]+0.1*i,pos[1],pos[2]])\n",
    "        seed = np.vstack([seed, tempt])\n",
    "    return seed"
   ]
  },
  {
   "cell_type": "code",
   "execution_count": 46,
   "id": "f4f95f12",
   "metadata": {},
   "outputs": [],
   "source": [
    "a=gen_seed(pos)"
   ]
  },
  {
   "cell_type": "code",
   "execution_count": 56,
   "id": "eb1dd30b",
   "metadata": {},
   "outputs": [
    {
     "data": {
      "text/plain": [
       "2.4"
      ]
     },
     "execution_count": 56,
     "metadata": {},
     "output_type": "execute_result"
    }
   ],
   "source": [
    "a[-1][0]"
   ]
  },
  {
   "cell_type": "code",
   "execution_count": 51,
   "id": "b652e3be",
   "metadata": {},
   "outputs": [],
   "source": [
    "def get_next_possible(pos):\n",
    "    tempt1 = np.array([pos[0],pos[1]+0.1,pos[2],4])\n",
    "    tempt2 = np.array([pos[0],pos[1]-0.1,pos[2],3])\n",
    "    \n",
    "    return np.vstack([tempt1, tempt2])"
   ]
  },
  {
   "cell_type": "code",
   "execution_count": 52,
   "id": "fb9e5454",
   "metadata": {},
   "outputs": [],
   "source": [
    "pos_b = a[-1]"
   ]
  },
  {
   "cell_type": "code",
   "execution_count": 53,
   "id": "c080837d",
   "metadata": {},
   "outputs": [
    {
     "data": {
      "text/plain": [
       "array([[2.4, 2.1, 4. , 4. ],\n",
       "       [2.4, 1.9, 4. , 3. ]])"
      ]
     },
     "execution_count": 53,
     "metadata": {},
     "output_type": "execute_result"
    }
   ],
   "source": [
    "x = get_next_possible(pos_b)\n",
    "x"
   ]
  },
  {
   "cell_type": "code",
   "execution_count": 218,
   "id": "9909d4a2",
   "metadata": {},
   "outputs": [],
   "source": [
    "def too_close(structure):\n",
    "    horizontal = []\n",
    "    vertical = []\n",
    "\n",
    "    for i in structure.rect:\n",
    "        if(i.scale_x > i.scale_y):\n",
    "            horizontal.append(i)\n",
    "        else:\n",
    "            vertical.append(i)\n",
    "    \n",
    "    for i in horizontal:\n",
    "        for j in horizontal:\n",
    "            if(i.start_y != j.start_y and abs(i.start_y - j.start_y)<0.2):\n",
    "                return True\n",
    "    \n",
    "    for i in vertical:\n",
    "        for j in vertical:\n",
    "            if(i.start_x != j.start_x and abs(i.start_x - j.start_x)<0.2):\n",
    "                return True\n",
    "    \n",
    "    return False"
   ]
  },
  {
   "cell_type": "code",
   "execution_count": 219,
   "id": "dab7be77",
   "metadata": {
    "scrolled": true
   },
   "outputs": [
    {
     "data": {
      "text/plain": [
       "True"
      ]
     },
     "execution_count": 219,
     "metadata": {},
     "output_type": "execute_result"
    }
   ],
   "source": [
    "too_close(sa)"
   ]
  },
  {
   "cell_type": "code",
   "execution_count": 210,
   "id": "767e2896",
   "metadata": {},
   "outputs": [
    {
     "data": {
      "text/plain": [
       "[<__main__.rect at 0x7f87402e1e20>,\n",
       " <__main__.rect at 0x7f87402e1c40>,\n",
       " <__main__.rect at 0x7f87402e1790>,\n",
       " <__main__.rect at 0x7f87402e1af0>,\n",
       " <__main__.rect at 0x7f86f10b6f10>,\n",
       " <__main__.rect at 0x7f86f0b8fdc0>,\n",
       " <__main__.rect at 0x7f86d0493e80>,\n",
       " <__main__.rect at 0x7f86e06a9e80>,\n",
       " <__main__.rect at 0x7f86f0c50880>]"
      ]
     },
     "execution_count": 210,
     "metadata": {},
     "output_type": "execute_result"
    }
   ],
   "source": [
    "sa.rect"
   ]
  },
  {
   "cell_type": "code",
   "execution_count": 223,
   "id": "af394fba",
   "metadata": {},
   "outputs": [
    {
     "ename": "AuthenticationError",
     "evalue": "No API key provided. You can set your API key in code using 'openai.api_key = <API-KEY>', or you can set the environment variable OPENAI_API_KEY=<API-KEY>). If your API key is stored in a file, you can point the openai module at it with 'openai.api_key_path = <PATH>'. You can generate API keys in the OpenAI web interface. See https://onboard.openai.com for details, or email support@openai.com if you have any questions.",
     "output_type": "error",
     "traceback": [
      "\u001b[0;31m---------------------------------------------------------------------------\u001b[0m",
      "\u001b[0;31mAuthenticationError\u001b[0m                       Traceback (most recent call last)",
      "Input \u001b[0;32mIn [223]\u001b[0m, in \u001b[0;36m<cell line: 3>\u001b[0;34m()\u001b[0m\n\u001b[1;32m      1\u001b[0m \u001b[38;5;28;01mimport\u001b[39;00m \u001b[38;5;21;01mopenai\u001b[39;00m\n\u001b[0;32m----> 3\u001b[0m response \u001b[38;5;241m=\u001b[39m \u001b[43mopenai\u001b[49m\u001b[38;5;241;43m.\u001b[39;49m\u001b[43mImage\u001b[49m\u001b[38;5;241;43m.\u001b[39;49m\u001b[43mcreate\u001b[49m\u001b[43m(\u001b[49m\n\u001b[1;32m      4\u001b[0m \u001b[43m  \u001b[49m\u001b[43mprompt\u001b[49m\u001b[38;5;241;43m=\u001b[39;49m\u001b[38;5;124;43m\"\u001b[39;49m\u001b[38;5;124;43ma white siamese cat\u001b[39;49m\u001b[38;5;124;43m\"\u001b[39;49m\u001b[43m,\u001b[49m\n\u001b[1;32m      5\u001b[0m \u001b[43m  \u001b[49m\u001b[43mn\u001b[49m\u001b[38;5;241;43m=\u001b[39;49m\u001b[38;5;241;43m1\u001b[39;49m\u001b[43m,\u001b[49m\n\u001b[1;32m      6\u001b[0m \u001b[43m  \u001b[49m\u001b[43msize\u001b[49m\u001b[38;5;241;43m=\u001b[39;49m\u001b[38;5;124;43m\"\u001b[39;49m\u001b[38;5;124;43m1024x1024\u001b[39;49m\u001b[38;5;124;43m\"\u001b[39;49m\n\u001b[1;32m      7\u001b[0m \u001b[43m)\u001b[49m\n\u001b[1;32m      8\u001b[0m image_url \u001b[38;5;241m=\u001b[39m response[\u001b[38;5;124m'\u001b[39m\u001b[38;5;124mdata\u001b[39m\u001b[38;5;124m'\u001b[39m][\u001b[38;5;241m0\u001b[39m][\u001b[38;5;124m'\u001b[39m\u001b[38;5;124murl\u001b[39m\u001b[38;5;124m'\u001b[39m]\n",
      "File \u001b[0;32m~/opt/anaconda3/lib/python3.9/site-packages/openai/api_resources/image.py:22\u001b[0m, in \u001b[0;36mImage.create\u001b[0;34m(cls, **params)\u001b[0m\n\u001b[1;32m     16\u001b[0m \u001b[38;5;129m@classmethod\u001b[39m\n\u001b[1;32m     17\u001b[0m \u001b[38;5;28;01mdef\u001b[39;00m \u001b[38;5;21mcreate\u001b[39m(\n\u001b[1;32m     18\u001b[0m     \u001b[38;5;28mcls\u001b[39m,\n\u001b[1;32m     19\u001b[0m     \u001b[38;5;241m*\u001b[39m\u001b[38;5;241m*\u001b[39mparams,\n\u001b[1;32m     20\u001b[0m ):\n\u001b[1;32m     21\u001b[0m     instance \u001b[38;5;241m=\u001b[39m \u001b[38;5;28mcls\u001b[39m()\n\u001b[0;32m---> 22\u001b[0m     \u001b[38;5;28;01mreturn\u001b[39;00m \u001b[43minstance\u001b[49m\u001b[38;5;241;43m.\u001b[39;49m\u001b[43mrequest\u001b[49m\u001b[43m(\u001b[49m\u001b[38;5;124;43m\"\u001b[39;49m\u001b[38;5;124;43mpost\u001b[39;49m\u001b[38;5;124;43m\"\u001b[39;49m\u001b[43m,\u001b[49m\u001b[43m \u001b[49m\u001b[38;5;28;43mcls\u001b[39;49m\u001b[38;5;241;43m.\u001b[39;49m\u001b[43m_get_url\u001b[49m\u001b[43m(\u001b[49m\u001b[38;5;124;43m\"\u001b[39;49m\u001b[38;5;124;43mgenerations\u001b[39;49m\u001b[38;5;124;43m\"\u001b[39;49m\u001b[43m)\u001b[49m\u001b[43m,\u001b[49m\u001b[43m \u001b[49m\u001b[43mparams\u001b[49m\u001b[43m)\u001b[49m\n",
      "File \u001b[0;32m~/opt/anaconda3/lib/python3.9/site-packages/openai/openai_object.py:172\u001b[0m, in \u001b[0;36mOpenAIObject.request\u001b[0;34m(self, method, url, params, headers, stream, plain_old_data, request_id, request_timeout)\u001b[0m\n\u001b[1;32m    170\u001b[0m \u001b[38;5;28;01mif\u001b[39;00m params \u001b[38;5;129;01mis\u001b[39;00m \u001b[38;5;28;01mNone\u001b[39;00m:\n\u001b[1;32m    171\u001b[0m     params \u001b[38;5;241m=\u001b[39m \u001b[38;5;28mself\u001b[39m\u001b[38;5;241m.\u001b[39m_retrieve_params\n\u001b[0;32m--> 172\u001b[0m requestor \u001b[38;5;241m=\u001b[39m \u001b[43mapi_requestor\u001b[49m\u001b[38;5;241;43m.\u001b[39;49m\u001b[43mAPIRequestor\u001b[49m\u001b[43m(\u001b[49m\n\u001b[1;32m    173\u001b[0m \u001b[43m    \u001b[49m\u001b[43mkey\u001b[49m\u001b[38;5;241;43m=\u001b[39;49m\u001b[38;5;28;43mself\u001b[39;49m\u001b[38;5;241;43m.\u001b[39;49m\u001b[43mapi_key\u001b[49m\u001b[43m,\u001b[49m\n\u001b[1;32m    174\u001b[0m \u001b[43m    \u001b[49m\u001b[43mapi_base\u001b[49m\u001b[38;5;241;43m=\u001b[39;49m\u001b[38;5;28;43mself\u001b[39;49m\u001b[38;5;241;43m.\u001b[39;49m\u001b[43mapi_base_override\u001b[49m\u001b[43m \u001b[49m\u001b[38;5;129;43;01mor\u001b[39;49;00m\u001b[43m \u001b[49m\u001b[38;5;28;43mself\u001b[39;49m\u001b[38;5;241;43m.\u001b[39;49m\u001b[43mapi_base\u001b[49m\u001b[43m(\u001b[49m\u001b[43m)\u001b[49m\u001b[43m,\u001b[49m\n\u001b[1;32m    175\u001b[0m \u001b[43m    \u001b[49m\u001b[43mapi_type\u001b[49m\u001b[38;5;241;43m=\u001b[39;49m\u001b[38;5;28;43mself\u001b[39;49m\u001b[38;5;241;43m.\u001b[39;49m\u001b[43mapi_type\u001b[49m\u001b[43m,\u001b[49m\n\u001b[1;32m    176\u001b[0m \u001b[43m    \u001b[49m\u001b[43mapi_version\u001b[49m\u001b[38;5;241;43m=\u001b[39;49m\u001b[38;5;28;43mself\u001b[39;49m\u001b[38;5;241;43m.\u001b[39;49m\u001b[43mapi_version\u001b[49m\u001b[43m,\u001b[49m\n\u001b[1;32m    177\u001b[0m \u001b[43m    \u001b[49m\u001b[43morganization\u001b[49m\u001b[38;5;241;43m=\u001b[39;49m\u001b[38;5;28;43mself\u001b[39;49m\u001b[38;5;241;43m.\u001b[39;49m\u001b[43morganization\u001b[49m\u001b[43m,\u001b[49m\n\u001b[1;32m    178\u001b[0m \u001b[43m\u001b[49m\u001b[43m)\u001b[49m\n\u001b[1;32m    179\u001b[0m response, stream, api_key \u001b[38;5;241m=\u001b[39m requestor\u001b[38;5;241m.\u001b[39mrequest(\n\u001b[1;32m    180\u001b[0m     method,\n\u001b[1;32m    181\u001b[0m     url,\n\u001b[0;32m   (...)\u001b[0m\n\u001b[1;32m    186\u001b[0m     request_timeout\u001b[38;5;241m=\u001b[39mrequest_timeout,\n\u001b[1;32m    187\u001b[0m )\n\u001b[1;32m    189\u001b[0m \u001b[38;5;28;01mif\u001b[39;00m stream:\n",
      "File \u001b[0;32m~/opt/anaconda3/lib/python3.9/site-packages/openai/api_requestor.py:85\u001b[0m, in \u001b[0;36mAPIRequestor.__init__\u001b[0;34m(self, key, api_base, api_type, api_version, organization)\u001b[0m\n\u001b[1;32m     76\u001b[0m \u001b[38;5;28;01mdef\u001b[39;00m \u001b[38;5;21m__init__\u001b[39m(\n\u001b[1;32m     77\u001b[0m     \u001b[38;5;28mself\u001b[39m,\n\u001b[1;32m     78\u001b[0m     key\u001b[38;5;241m=\u001b[39m\u001b[38;5;28;01mNone\u001b[39;00m,\n\u001b[0;32m   (...)\u001b[0m\n\u001b[1;32m     82\u001b[0m     organization\u001b[38;5;241m=\u001b[39m\u001b[38;5;28;01mNone\u001b[39;00m,\n\u001b[1;32m     83\u001b[0m ):\n\u001b[1;32m     84\u001b[0m     \u001b[38;5;28mself\u001b[39m\u001b[38;5;241m.\u001b[39mapi_base \u001b[38;5;241m=\u001b[39m api_base \u001b[38;5;129;01mor\u001b[39;00m openai\u001b[38;5;241m.\u001b[39mapi_base\n\u001b[0;32m---> 85\u001b[0m     \u001b[38;5;28mself\u001b[39m\u001b[38;5;241m.\u001b[39mapi_key \u001b[38;5;241m=\u001b[39m key \u001b[38;5;129;01mor\u001b[39;00m \u001b[43mutil\u001b[49m\u001b[38;5;241;43m.\u001b[39;49m\u001b[43mdefault_api_key\u001b[49m\u001b[43m(\u001b[49m\u001b[43m)\u001b[49m\n\u001b[1;32m     86\u001b[0m     \u001b[38;5;28mself\u001b[39m\u001b[38;5;241m.\u001b[39mapi_type \u001b[38;5;241m=\u001b[39m (\n\u001b[1;32m     87\u001b[0m         ApiType\u001b[38;5;241m.\u001b[39mfrom_str(api_type)\n\u001b[1;32m     88\u001b[0m         \u001b[38;5;28;01mif\u001b[39;00m api_type\n\u001b[1;32m     89\u001b[0m         \u001b[38;5;28;01melse\u001b[39;00m ApiType\u001b[38;5;241m.\u001b[39mfrom_str(openai\u001b[38;5;241m.\u001b[39mapi_type)\n\u001b[1;32m     90\u001b[0m     )\n\u001b[1;32m     91\u001b[0m     \u001b[38;5;28mself\u001b[39m\u001b[38;5;241m.\u001b[39mapi_version \u001b[38;5;241m=\u001b[39m api_version \u001b[38;5;129;01mor\u001b[39;00m openai\u001b[38;5;241m.\u001b[39mapi_version\n",
      "File \u001b[0;32m~/opt/anaconda3/lib/python3.9/site-packages/openai/util.py:186\u001b[0m, in \u001b[0;36mdefault_api_key\u001b[0;34m()\u001b[0m\n\u001b[1;32m    184\u001b[0m     \u001b[38;5;28;01mreturn\u001b[39;00m openai\u001b[38;5;241m.\u001b[39mapi_key\n\u001b[1;32m    185\u001b[0m \u001b[38;5;28;01melse\u001b[39;00m:\n\u001b[0;32m--> 186\u001b[0m     \u001b[38;5;28;01mraise\u001b[39;00m openai\u001b[38;5;241m.\u001b[39merror\u001b[38;5;241m.\u001b[39mAuthenticationError(\n\u001b[1;32m    187\u001b[0m         \u001b[38;5;124m\"\u001b[39m\u001b[38;5;124mNo API key provided. You can set your API key in code using \u001b[39m\u001b[38;5;124m'\u001b[39m\u001b[38;5;124mopenai.api_key = <API-KEY>\u001b[39m\u001b[38;5;124m'\u001b[39m\u001b[38;5;124m, or you can set the environment variable OPENAI_API_KEY=<API-KEY>). If your API key is stored in a file, you can point the openai module at it with \u001b[39m\u001b[38;5;124m'\u001b[39m\u001b[38;5;124mopenai.api_key_path = <PATH>\u001b[39m\u001b[38;5;124m'\u001b[39m\u001b[38;5;124m. You can generate API keys in the OpenAI web interface. See https://onboard.openai.com for details, or email support@openai.com if you have any questions.\u001b[39m\u001b[38;5;124m\"\u001b[39m\n\u001b[1;32m    188\u001b[0m     )\n",
      "\u001b[0;31mAuthenticationError\u001b[0m: No API key provided. You can set your API key in code using 'openai.api_key = <API-KEY>', or you can set the environment variable OPENAI_API_KEY=<API-KEY>). If your API key is stored in a file, you can point the openai module at it with 'openai.api_key_path = <PATH>'. You can generate API keys in the OpenAI web interface. See https://onboard.openai.com for details, or email support@openai.com if you have any questions."
     ]
    }
   ],
   "source": [
    "import openai\n",
    "\n",
    "response = openai.Image.create(\n",
    "  prompt=\"a white siamese cat\",\n",
    "  n=1,\n",
    "  size=\"1024x1024\"\n",
    ")\n",
    "image_url = response['data'][0]['url']\n"
   ]
  },
  {
   "cell_type": "code",
   "execution_count": null,
   "id": "88b2e336",
   "metadata": {},
   "outputs": [],
   "source": []
  }
 ],
 "metadata": {
  "kernelspec": {
   "display_name": "Python 3 (ipykernel)",
   "language": "python",
   "name": "python3"
  },
  "language_info": {
   "codemirror_mode": {
    "name": "ipython",
    "version": 3
   },
   "file_extension": ".py",
   "mimetype": "text/x-python",
   "name": "python",
   "nbconvert_exporter": "python",
   "pygments_lexer": "ipython3",
   "version": "3.9.12"
  }
 },
 "nbformat": 4,
 "nbformat_minor": 5
}
