{
 "cells": [
  {
   "cell_type": "code",
   "execution_count": 184,
   "id": "1207fa99",
   "metadata": {},
   "outputs": [],
   "source": [
    "import numpy as np\n",
    "import random\n",
    "\n",
    "class Structure:\n",
    "    def __init__(self, seed, seed_next_possible, portion, destination):\n",
    "        self.history = None\n",
    "        self.data = None\n",
    "        self.rect = []\n",
    "        self.next_possibles = None\n",
    "        \n",
    "        self.portion = portion\n",
    "        self.seed = seed\n",
    "        self.seed_next_possible = seed_next_possible\n",
    "        \n",
    "        self.cleanUp()\n",
    "        self.destination = destination\n",
    "        self.preprocess()\n",
    "\n",
    "        #print(\"initialized data: \\n\", self.data)\n",
    "    \n",
    "    def preprocess(self):\n",
    "        start = self.seed_next_possible[0]\n",
    "        direction = start[-1]\n",
    "        new_vertex_clean = np.array([start[0], start[1], start[2]])\n",
    "        self.add_vertex(new_vertex_clean)\n",
    "        \n",
    "        span = 4 + int(random.random() * 6 % 6)\n",
    "        for i in range(span):\n",
    "            new_vertex_clean = self.get_vertex_forward(new_vertex_clean, direction)\n",
    "            self.add_vertex(new_vertex_clean)\n",
    "        \n",
    "        self.remove_possible(0)\n",
    "        self.history = np.append(self.history, self.data[1:], axis=0)\n",
    "        self.rect.append(block_to_rect(self.data, self.portion))\n",
    "        self.data = np.array([[0,0,0]])\n",
    "        \n",
    "        self.to_dest(new_vertex_clean)\n",
    "\n",
    "\n",
    "    def to_dest(self, new_vertex_clean):\n",
    "        x_dist = abs(self.destination[0] - new_vertex_clean[0])\n",
    "        x_start = min(self.destination[0], new_vertex_clean[0])\n",
    "        startPos = np.array([x_start, new_vertex_clean[1], new_vertex_clean[2]])\n",
    "        scale = np.array([x_dist+0.07*self.portion, 0.07*self.portion, 0.07*self.portion])\n",
    "        rect1 = rect(startPos, scale)\n",
    "        \n",
    "        y_dist = abs(self.destination[1] - new_vertex_clean[1])\n",
    "        y_start = min(self.destination[1], new_vertex_clean[1])\n",
    "        startPos2 = np.array([self.destination[0], y_start, new_vertex_clean[2]])\n",
    "        scale2 = np.array([0.07,y_dist+0.07*self.portion, 0.07*self.portion])\n",
    "        rect2 = rect(startPos2, scale2)\n",
    "        \n",
    "        self.rect.append(rect1)\n",
    "        self.rect.append(rect2)\n",
    "        \n",
    "        \n",
    "    def cleanUp(self):\n",
    "        self.history = self.seed\n",
    "        self.data = np.array([[0.0,0.0,0.0]])\n",
    "        self.data = np.append(self.data, self.seed, axis = 0)\n",
    "        self.rect = []\n",
    "        self.rect.append(block_to_rect(self.data, self.portion))\n",
    "        self.data = np.array([[0.0,0.0,0.0]])\n",
    "        self.next_possibles = self.seed_next_possible\n",
    "\n",
    "  \n",
    "    def cost_func(self, pos):\n",
    "        return random.random()\n",
    "  \n",
    "    def add_vertex(self, next_vertex):\n",
    "        x = next_vertex[0]\n",
    "        y = next_vertex[1]\n",
    "        z = next_vertex[2]\n",
    "\n",
    "        self.data = np.vstack([self.data, np.array([x,y,z])])\n",
    "\n",
    "    def remove_possible(self, next_index):\n",
    "        self.next_possibles = np.delete(self.next_possibles, next_index, axis=0)\n",
    "  \n",
    "  #define direction:\n",
    "  #x=-1 -> 0, x=1 -> 1, y=-1 -> 2, y=1 -> 3, z=-1 -> 4, z=1 -> 5,\n",
    "    def get_next_possible(self, available_contact, direction):\n",
    "        result = np.array([0,0,0,0])\n",
    "\n",
    "        available_contact = np.append(available_contact, 0)\n",
    "        if direction == 0 or direction == 1:\n",
    "            result = np.vstack([result, available_contact + np.array([0.0,0.07,0.0,3])])\n",
    "            result = np.vstack([result, available_contact + np.array([0.0,-0.07,0.0,2])])\n",
    "            result = np.delete(result, 0, axis =0)\n",
    "            return result\n",
    "\n",
    "        if direction == 2 or direction == 3:\n",
    "            result = np.vstack([result, available_contact + np.array([0.07,0.0,0.0,1])])\n",
    "            result = np.vstack([result, available_contact + np.array([-0.07,0.0,0.0,1])])\n",
    "            result = np.delete(result, 0, axis =0)\n",
    "            return result\n",
    "\n",
    "    \n",
    "    def get_last_direction(self,direction):\n",
    "        count =direction[1]*1 + direction[2]*2\n",
    "        return count\n",
    "  \n",
    "    def get_vertex_forward(self, new_vertex_clean, direction):\n",
    "        if direction == 0:\n",
    "            return new_vertex_clean + np.array([-0.07,0.0,0.0])\n",
    "\n",
    "        if direction == 1:\n",
    "            return new_vertex_clean + np.array([0.07,0.0,0.0])\n",
    "\n",
    "        if direction == 2:\n",
    "            return new_vertex_clean + np.array([0.0,-0.07,0.0])\n",
    "\n",
    "        if direction == 3:\n",
    "            return new_vertex_clean + np.array([0.0,0.07,0.0])\n",
    "    \n",
    "    def generate(self, steps):\n",
    "        for i in range(steps):\n",
    "            #print(\"step \", i+1)\n",
    "            self.process()\n",
    "            self.history = np.append(self.history, self.data[1:], axis=0)\n",
    "            self.rect.append(block_to_rect(self.data, self.portion))\n",
    "            self.data = np.array([[0,0,0]])\n",
    "\n",
    "\n",
    "\n",
    "    def process(self):\n",
    "        #step 1: for all available contacts, assume they will make a turn  \n",
    "        #print(\"next_possibles\", self.next_possibles)\n",
    "\n",
    "        #step2: create a 1d array that stores cost for each possible point\n",
    "        costs = np.array([])\n",
    "        for next_possible in self.next_possibles:\n",
    "            costs = np.append(costs, self.cost_func(next_possible))\n",
    "\n",
    "        #print(\"costs\", costs)\n",
    "\n",
    "        #step3 find the next_vertex with smallest cost\n",
    "        next_index = np.argpartition(costs, -1)[-1:]\n",
    "        next_vertex = self.next_possibles[next_index] \n",
    "\n",
    "        #print(\"next_vertex\", next_vertex)\n",
    "\n",
    "        #step4 add next_vertex to data\n",
    "        new_direction = next_vertex[0][3]\n",
    "        #print(\"new_direction\", new_direction)\n",
    "        new_vertex_clean = np.array([next_vertex[0][0], next_vertex[0][1], next_vertex[0][2]])\n",
    "        #print(\"new_vertex_clean\", new_vertex_clean)\n",
    "        self.add_vertex(new_vertex_clean)\n",
    "        \n",
    "        span = 3 + int(random.random() * 6 % 6)\n",
    "        for i in range(span):\n",
    "            new_vertex_clean = self.get_vertex_forward(new_vertex_clean, new_direction)\n",
    "            self.add_vertex(new_vertex_clean)\n",
    "\n",
    "        #print(\"data: \\n\", self.data)\n",
    "\n",
    "        #step5 update next_possible\n",
    "        self.remove_possible(next_index)\n",
    "        #print(\"next_possibles, removed old\", self.next_possibles)\n",
    "        #print(\"next_vertex\", new_vertex_clean)\n",
    "        #print(\"new_direction\", new_direction)\n",
    "        new_next_possibles = self.get_next_possible(new_vertex_clean, new_direction)\n",
    "        self.next_possibles = np.append(self.next_possibles,new_next_possibles, axis=0)\n",
    "        #print(\"next_possibles, add new\", self.next_possibles)\n"
   ]
  },
  {
   "cell_type": "code",
   "execution_count": 96,
   "id": "157a827f",
   "metadata": {},
   "outputs": [],
   "source": [
    "seed = np.array([[0.0,0.0,0.0], [0.0,0.1,0.0],[0.0,0.2,0.0],[0.0,0.3,0.0], [0.0,0.4,0.0]])\n",
    "seed_next_possible = np.array([[-0.1,0.4,0.0,0],[0.1,0.4,0.0,1]])\n"
   ]
  },
  {
   "cell_type": "code",
   "execution_count": 97,
   "id": "d14b4684",
   "metadata": {
    "scrolled": true
   },
   "outputs": [],
   "source": [
    "sa = Structure(seed, seed_next_possible, 0.5, np.array([0.4,0.9]))\n",
    "\n",
    "sa.generate(5)"
   ]
  },
  {
   "cell_type": "code",
   "execution_count": 98,
   "id": "6062d121",
   "metadata": {
    "scrolled": true
   },
   "outputs": [
    {
     "data": {
      "text/plain": [
       "array([[ 0.00000000e+00,  0.00000000e+00,  0.00000000e+00],\n",
       "       [ 0.00000000e+00,  1.00000000e-01,  0.00000000e+00],\n",
       "       [ 0.00000000e+00,  2.00000000e-01,  0.00000000e+00],\n",
       "       [ 0.00000000e+00,  3.00000000e-01,  0.00000000e+00],\n",
       "       [ 0.00000000e+00,  4.00000000e-01,  0.00000000e+00],\n",
       "       [-1.00000000e-01,  4.00000000e-01,  0.00000000e+00],\n",
       "       [-2.00000000e-01,  4.00000000e-01,  0.00000000e+00],\n",
       "       [-3.00000000e-01,  4.00000000e-01,  0.00000000e+00],\n",
       "       [-4.00000000e-01,  4.00000000e-01,  0.00000000e+00],\n",
       "       [-5.00000000e-01,  4.00000000e-01,  0.00000000e+00],\n",
       "       [ 1.00000000e-01,  4.00000000e-01,  0.00000000e+00],\n",
       "       [ 2.00000000e-01,  4.00000000e-01,  0.00000000e+00],\n",
       "       [ 3.00000000e-01,  4.00000000e-01,  0.00000000e+00],\n",
       "       [ 4.00000000e-01,  4.00000000e-01,  0.00000000e+00],\n",
       "       [ 4.00000000e-01,  3.00000000e-01,  0.00000000e+00],\n",
       "       [ 4.00000000e-01,  2.00000000e-01,  0.00000000e+00],\n",
       "       [ 4.00000000e-01,  1.00000000e-01,  0.00000000e+00],\n",
       "       [ 5.00000000e-01,  1.00000000e-01,  0.00000000e+00],\n",
       "       [ 6.00000000e-01,  1.00000000e-01,  0.00000000e+00],\n",
       "       [ 7.00000000e-01,  1.00000000e-01,  0.00000000e+00],\n",
       "       [ 8.00000000e-01,  1.00000000e-01,  0.00000000e+00],\n",
       "       [ 8.00000000e-01,  2.77555756e-17,  0.00000000e+00],\n",
       "       [ 8.00000000e-01, -1.00000000e-01,  0.00000000e+00],\n",
       "       [ 8.00000000e-01, -2.00000000e-01,  0.00000000e+00],\n",
       "       [ 3.00000000e-01,  1.00000000e-01,  0.00000000e+00],\n",
       "       [ 4.00000000e-01,  1.00000000e-01,  0.00000000e+00],\n",
       "       [ 5.00000000e-01,  1.00000000e-01,  0.00000000e+00],\n",
       "       [ 6.00000000e-01,  1.00000000e-01,  0.00000000e+00],\n",
       "       [ 7.00000000e-01,  1.00000000e-01,  0.00000000e+00],\n",
       "       [ 8.00000000e-01,  1.00000000e-01,  0.00000000e+00],\n",
       "       [ 9.00000000e-01,  1.00000000e-01,  0.00000000e+00]])"
      ]
     },
     "execution_count": 98,
     "metadata": {},
     "output_type": "execute_result"
    }
   ],
   "source": [
    "sa.history"
   ]
  },
  {
   "cell_type": "code",
   "execution_count": 99,
   "id": "4bb5b534",
   "metadata": {},
   "outputs": [],
   "source": [
    "seed2 = np.array([[0.0,0.0,0.0], [0.1,0.0,0.0],[0.2,0.0,0.0],[0.3,0.0,0.0], [0.4,0.0,0.0]])\n",
    "seed2_next_possible = np.array([[0.4,0.1,0.0,3],[0.4,-0.1,0.0,2]])\n",
    "sa2 = Structure(seed2, seed2_next_possible, 0.5,np.array([0.4,0.9]))\n",
    "\n",
    "sa2.generate(5)"
   ]
  },
  {
   "cell_type": "code",
   "execution_count": 100,
   "id": "b2c77c2f",
   "metadata": {},
   "outputs": [],
   "source": [
    "sa.history = np.round(sa.history, 1)"
   ]
  },
  {
   "cell_type": "code",
   "execution_count": 101,
   "id": "7da205d1",
   "metadata": {},
   "outputs": [
    {
     "data": {
      "text/plain": [
       "array([[ 0. ,  0. ,  0. ],\n",
       "       [ 0. ,  0.1,  0. ],\n",
       "       [ 0. ,  0.2,  0. ],\n",
       "       [ 0. ,  0.3,  0. ],\n",
       "       [ 0. ,  0.4,  0. ],\n",
       "       [-0.1,  0.4,  0. ],\n",
       "       [-0.2,  0.4,  0. ],\n",
       "       [-0.3,  0.4,  0. ],\n",
       "       [-0.4,  0.4,  0. ],\n",
       "       [-0.5,  0.4,  0. ],\n",
       "       [ 0.1,  0.4,  0. ],\n",
       "       [ 0.2,  0.4,  0. ],\n",
       "       [ 0.3,  0.4,  0. ],\n",
       "       [ 0.4,  0.4,  0. ],\n",
       "       [ 0.4,  0.3,  0. ],\n",
       "       [ 0.4,  0.2,  0. ],\n",
       "       [ 0.4,  0.1,  0. ],\n",
       "       [ 0.5,  0.1,  0. ],\n",
       "       [ 0.6,  0.1,  0. ],\n",
       "       [ 0.7,  0.1,  0. ],\n",
       "       [ 0.8,  0.1,  0. ],\n",
       "       [ 0.8,  0. ,  0. ],\n",
       "       [ 0.8, -0.1,  0. ],\n",
       "       [ 0.8, -0.2,  0. ],\n",
       "       [ 0.3,  0.1,  0. ],\n",
       "       [ 0.4,  0.1,  0. ],\n",
       "       [ 0.5,  0.1,  0. ],\n",
       "       [ 0.6,  0.1,  0. ],\n",
       "       [ 0.7,  0.1,  0. ],\n",
       "       [ 0.8,  0.1,  0. ],\n",
       "       [ 0.9,  0.1,  0. ]])"
      ]
     },
     "execution_count": 101,
     "metadata": {},
     "output_type": "execute_result"
    }
   ],
   "source": [
    "sa.history"
   ]
  },
  {
   "cell_type": "code",
   "execution_count": 102,
   "id": "fc176e21",
   "metadata": {},
   "outputs": [
    {
     "data": {
      "text/plain": [
       "array([[ 0.00000000e+00,  0.00000000e+00,  0.00000000e+00],\n",
       "       [ 1.00000000e-01,  0.00000000e+00,  0.00000000e+00],\n",
       "       [ 2.00000000e-01,  0.00000000e+00,  0.00000000e+00],\n",
       "       [ 3.00000000e-01,  0.00000000e+00,  0.00000000e+00],\n",
       "       [ 4.00000000e-01,  0.00000000e+00,  0.00000000e+00],\n",
       "       [ 4.00000000e-01,  1.00000000e-01,  0.00000000e+00],\n",
       "       [ 4.00000000e-01,  2.00000000e-01,  0.00000000e+00],\n",
       "       [ 4.00000000e-01,  3.00000000e-01,  0.00000000e+00],\n",
       "       [ 4.00000000e-01,  4.00000000e-01,  0.00000000e+00],\n",
       "       [ 4.00000000e-01,  5.00000000e-01,  0.00000000e+00],\n",
       "       [ 4.00000000e-01,  6.00000000e-01,  0.00000000e+00],\n",
       "       [ 4.00000000e-01,  7.00000000e-01,  0.00000000e+00],\n",
       "       [ 4.00000000e-01, -1.00000000e-01,  0.00000000e+00],\n",
       "       [ 4.00000000e-01, -2.00000000e-01,  0.00000000e+00],\n",
       "       [ 4.00000000e-01, -3.00000000e-01,  0.00000000e+00],\n",
       "       [ 4.00000000e-01, -4.00000000e-01,  0.00000000e+00],\n",
       "       [ 4.00000000e-01, -5.00000000e-01,  0.00000000e+00],\n",
       "       [ 4.00000000e-01, -6.00000000e-01,  0.00000000e+00],\n",
       "       [ 4.00000000e-01, -7.00000000e-01,  0.00000000e+00],\n",
       "       [ 3.00000000e-01, -7.00000000e-01,  0.00000000e+00],\n",
       "       [ 4.00000000e-01, -7.00000000e-01,  0.00000000e+00],\n",
       "       [ 5.00000000e-01, -7.00000000e-01,  0.00000000e+00],\n",
       "       [ 6.00000000e-01, -7.00000000e-01,  0.00000000e+00],\n",
       "       [ 7.00000000e-01, -7.00000000e-01,  0.00000000e+00],\n",
       "       [ 8.00000000e-01, -7.00000000e-01,  0.00000000e+00],\n",
       "       [ 8.00000000e-01, -6.00000000e-01,  0.00000000e+00],\n",
       "       [ 8.00000000e-01, -5.00000000e-01,  0.00000000e+00],\n",
       "       [ 8.00000000e-01, -4.00000000e-01,  0.00000000e+00],\n",
       "       [ 8.00000000e-01, -3.00000000e-01,  0.00000000e+00],\n",
       "       [ 8.00000000e-01, -2.00000000e-01,  0.00000000e+00],\n",
       "       [ 8.00000000e-01, -1.00000000e-01,  0.00000000e+00],\n",
       "       [ 8.00000000e-01, -2.77555756e-17,  0.00000000e+00],\n",
       "       [ 5.00000000e-01, -7.00000000e-01,  0.00000000e+00],\n",
       "       [ 6.00000000e-01, -7.00000000e-01,  0.00000000e+00],\n",
       "       [ 7.00000000e-01, -7.00000000e-01,  0.00000000e+00],\n",
       "       [ 8.00000000e-01, -7.00000000e-01,  0.00000000e+00],\n",
       "       [ 9.00000000e-01, -7.00000000e-01,  0.00000000e+00],\n",
       "       [ 1.00000000e+00, -7.00000000e-01,  0.00000000e+00],\n",
       "       [ 7.00000000e-01, -2.77555756e-17,  0.00000000e+00],\n",
       "       [ 8.00000000e-01, -2.77555756e-17,  0.00000000e+00],\n",
       "       [ 9.00000000e-01, -2.77555756e-17,  0.00000000e+00],\n",
       "       [ 1.00000000e+00, -2.77555756e-17,  0.00000000e+00],\n",
       "       [ 1.10000000e+00, -2.77555756e-17,  0.00000000e+00],\n",
       "       [ 1.20000000e+00, -2.77555756e-17,  0.00000000e+00]])"
      ]
     },
     "execution_count": 102,
     "metadata": {},
     "output_type": "execute_result"
    }
   ],
   "source": [
    "sa2.history"
   ]
  },
  {
   "cell_type": "code",
   "execution_count": 178,
   "id": "24984831",
   "metadata": {},
   "outputs": [],
   "source": [
    "def offscreen(structure, max_coordinate, min_coordinate):\n",
    "    max_x = max_coordinate[0]\n",
    "    max_y = max_coordinate[1]\n",
    "    min_x = min_coordinate[0]\n",
    "    min_y = min_coordinate[1]\n",
    "    \n",
    "    for i in structure.rect:\n",
    "        if(i.start_x < min_x or i.start_y < min_y):\n",
    "            return True\n",
    "        if(i.start_x+i.scale_x > max_x or i.start_y+i.scale_y > max_y):\n",
    "            return True\n",
    "    \n",
    "    return False"
   ]
  },
  {
   "cell_type": "code",
   "execution_count": 179,
   "id": "3cc1a2bb",
   "metadata": {},
   "outputs": [
    {
     "data": {
      "text/plain": [
       "False"
      ]
     },
     "execution_count": 179,
     "metadata": {},
     "output_type": "execute_result"
    }
   ],
   "source": [
    "max_coordinate = np.array([1.0, 1.0])\n",
    "min_coordinate = np.array([-1.0, -1.0])\n",
    "offscreen(sa, max_coordinate, min_coordinate)"
   ]
  },
  {
   "cell_type": "code",
   "execution_count": 180,
   "id": "aafcfa3b",
   "metadata": {},
   "outputs": [],
   "source": [
    "kk = []"
   ]
  },
  {
   "cell_type": "code",
   "execution_count": 181,
   "id": "f71e0883",
   "metadata": {},
   "outputs": [],
   "source": [
    "kk.append(sa)"
   ]
  },
  {
   "cell_type": "code",
   "execution_count": 183,
   "id": "8f9dd14c",
   "metadata": {},
   "outputs": [
    {
     "data": {
      "text/plain": [
       "[<__main__.rect at 0x7f86e06882b0>,\n",
       " <__main__.rect at 0x7f86e0688a60>,\n",
       " <__main__.rect at 0x7f86e0688e80>,\n",
       " <__main__.rect at 0x7f86e0688d30>,\n",
       " <__main__.rect at 0x7f87009a0fa0>,\n",
       " <__main__.rect at 0x7f86e06b7640>,\n",
       " <__main__.rect at 0x7f86e069bf40>,\n",
       " <__main__.rect at 0x7f86e06b76a0>,\n",
       " <__main__.rect at 0x7f86f0c569a0>]"
      ]
     },
     "execution_count": 183,
     "metadata": {},
     "output_type": "execute_result"
    }
   ],
   "source": [
    "kk[0].rect"
   ]
  },
  {
   "cell_type": "code",
   "execution_count": 103,
   "id": "9c6dd4c7",
   "metadata": {
    "scrolled": true
   },
   "outputs": [
    {
     "name": "stdout",
     "output_type": "stream",
     "text": [
      "start_x: 0.0 start_y: 0.0 start_z: 0.0\n",
      "scale_x: 0.05 scale_y: 0.45 scale_z: 0.05\n",
      " \n",
      "start_x: -0.5 start_y: 0.4 start_z: 0.0\n",
      "scale_x: 0.45 scale_y: 0.05 scale_z: 0.05\n",
      " \n",
      "start_x: -0.5 start_y: 0.4 start_z: 0.0\n",
      "scale_x: 0.95 scale_y: 0.05 scale_z: 0.05\n",
      " \n",
      "start_x: 0.4 start_y: 0.4 start_z: 0.0\n",
      "scale_x: 0.1 scale_y: 0.55 scale_z: 0.05\n",
      " \n",
      "start_x: 0.1 start_y: 0.4 start_z: 0.0\n",
      "scale_x: 0.35 scale_y: 0.05 scale_z: 0.05\n",
      " \n",
      "start_x: 0.4 start_y: 0.1 start_z: 0.0\n",
      "scale_x: 0.05 scale_y: 0.25 scale_z: 0.05\n",
      " \n",
      "start_x: 0.5 start_y: 0.1 start_z: 0.0\n",
      "scale_x: 0.35 scale_y: 0.05 scale_z: 0.05\n",
      " \n",
      "start_x: 0.8 start_y: -0.2 start_z: 0.0\n",
      "scale_x: 0.05 scale_y: 0.25 scale_z: 0.05\n",
      " \n",
      "start_x: 0.3 start_y: 0.1 start_z: 0.0\n",
      "scale_x: 0.65 scale_y: 0.05 scale_z: 0.05\n",
      " \n"
     ]
    }
   ],
   "source": [
    "for i in sa.rect:\n",
    "    i.info()"
   ]
  },
  {
   "cell_type": "code",
   "execution_count": 104,
   "id": "629598a5",
   "metadata": {},
   "outputs": [],
   "source": [
    "def parallel_score(history_a, history_b):\n",
    "    score = 0\n",
    "    parallel_pts = []\n",
    "    \n",
    "    for i in history_a:\n",
    "        for j in history_b:\n",
    "            if(i[0] == j[0] and i[1] == j[1]):\n",
    "                parallel_pts.append((i[0],i[1]))\n",
    "                score += 5\n",
    "            elif(i[0] == j[0] or i[1] == j[1]):\n",
    "                score += 1\n",
    "    return score, parallel_pts"
   ]
  },
  {
   "cell_type": "code",
   "execution_count": 139,
   "id": "8ba2012a",
   "metadata": {},
   "outputs": [],
   "source": [
    "def check_close(struct_a):\n",
    "    for i in struct_a.history:\n",
    "        print(i)"
   ]
  },
  {
   "cell_type": "code",
   "execution_count": 169,
   "id": "ec0d4bd5",
   "metadata": {},
   "outputs": [],
   "source": [
    "def occlude(front_structure,position, eye):\n",
    "    ray = eye - position\n",
    "    ray = ray / np.linalg.norm(ray)\n",
    "#     print(\"ray\", ray)\n",
    "\n",
    "    z_depth = front_structure.history[0][-1]\n",
    "    t = (eye[-1] - z_depth) / ray[-1]\n",
    "#     print(\"t\", t)\n",
    "\n",
    "    x = eye[0] + t*ray[0]\n",
    "    y = eye[1] + t*ray[1]\n",
    "    \n",
    "    for i in front_structure.history:\n",
    "        if x== i[0] and y == i[1]:\n",
    "            return True\n",
    "    \n",
    "    return False"
   ]
  },
  {
   "cell_type": "code",
   "execution_count": null,
   "id": "39546a92",
   "metadata": {},
   "outputs": [],
   "source": [
    "def off_screen():\n",
    "    "
   ]
  },
  {
   "cell_type": "code",
   "execution_count": 170,
   "id": "fdad012e",
   "metadata": {},
   "outputs": [],
   "source": [
    "eye = np.array([5.0,5.0,5.0])"
   ]
  },
  {
   "cell_type": "code",
   "execution_count": 171,
   "id": "37b61a0a",
   "metadata": {},
   "outputs": [],
   "source": [
    "position = np.array([0.3,0.4,-0.25])"
   ]
  },
  {
   "cell_type": "code",
   "execution_count": 172,
   "id": "e93519a0",
   "metadata": {
    "scrolled": true
   },
   "outputs": [
    {
     "data": {
      "text/plain": [
       "False"
      ]
     },
     "execution_count": 172,
     "metadata": {},
     "output_type": "execute_result"
    }
   ],
   "source": [
    "occlude(sa, position, eye)"
   ]
  },
  {
   "cell_type": "code",
   "execution_count": 173,
   "id": "c29ae008",
   "metadata": {},
   "outputs": [],
   "source": [
    "class connecting_structure:\n",
    "    def __init__(self, x, y, foreground_z, background_z):\n",
    "        self.x = x\n",
    "        self.y = y\n",
    "        self.foreground_z = foreground_z\n",
    "        self.background_z = background_z\n",
    "    \n",
    "    def get_object():\n",
    "        z_start = min(self.foreground_z, self.background_z)\n",
    "        z_scale = abs(self.foreground_z - self.background_z )\n",
    "        \n",
    "        startPos = np.array([x,y,z_start])\n",
    "        scale = np.array([0.07, 0.07, z_scale])\n",
    "        \n",
    "        tempt = rect(startPos, scale)\n",
    "        \n",
    "        return tempt\n",
    "    \n",
    "    def get_center():\n",
    "        z_start = min(self.foreground_z, self.background_z)\n",
    "        z_scale = abs(self.foreground_z - self.background_z )\n",
    "        \n",
    "        center = np.array([self.x+0.035, self.y+0.035, z_start + 0.5*z_scale])\n",
    "        \n",
    "        return center"
   ]
  },
  {
   "cell_type": "code",
   "execution_count": 148,
   "id": "7751dce8",
   "metadata": {},
   "outputs": [
    {
     "data": {
      "text/plain": [
       "0.0"
      ]
     },
     "execution_count": 148,
     "metadata": {},
     "output_type": "execute_result"
    }
   ],
   "source": [
    "sa.history[0][-1]"
   ]
  },
  {
   "cell_type": "code",
   "execution_count": 135,
   "id": "52379608",
   "metadata": {},
   "outputs": [],
   "source": [
    "a = round(int(random.random() * 5 % 5) * 0.1 + 0.2, 1)"
   ]
  },
  {
   "cell_type": "code",
   "execution_count": 136,
   "id": "69764bec",
   "metadata": {},
   "outputs": [],
   "source": [
    "b = random.random()"
   ]
  },
  {
   "cell_type": "code",
   "execution_count": 137,
   "id": "fecaf971",
   "metadata": {},
   "outputs": [
    {
     "ename": "SyntaxError",
     "evalue": "invalid syntax (202455723.py, line 1)",
     "output_type": "error",
     "traceback": [
      "\u001b[0;36m  Input \u001b[0;32mIn [137]\u001b[0;36m\u001b[0m\n\u001b[0;31m    b>0.5 ? -1 : 1\u001b[0m\n\u001b[0m          ^\u001b[0m\n\u001b[0;31mSyntaxError\u001b[0m\u001b[0;31m:\u001b[0m invalid syntax\n"
     ]
    }
   ],
   "source": [
    "b>0.5 ? -1 : 1"
   ]
  },
  {
   "cell_type": "code",
   "execution_count": 140,
   "id": "d6865ff4",
   "metadata": {},
   "outputs": [
    {
     "name": "stdout",
     "output_type": "stream",
     "text": [
      "[0. 0. 0.]\n",
      "[0.1 0.  0. ]\n",
      "[0.2 0.  0. ]\n",
      "[0.3 0.  0. ]\n",
      "[0.4 0.  0. ]\n",
      "[0.4 0.1 0. ]\n",
      "[0.4 0.2 0. ]\n",
      "[0.4 0.3 0. ]\n",
      "[0.4 0.4 0. ]\n",
      "[0.4 0.5 0. ]\n",
      "[0.4 0.6 0. ]\n",
      "[0.4 0.7 0. ]\n",
      "[ 0.4 -0.1  0. ]\n",
      "[ 0.4 -0.2  0. ]\n",
      "[ 0.4 -0.3  0. ]\n",
      "[ 0.4 -0.4  0. ]\n",
      "[ 0.4 -0.5  0. ]\n",
      "[ 0.4 -0.6  0. ]\n",
      "[ 0.4 -0.7  0. ]\n",
      "[ 0.3 -0.7  0. ]\n",
      "[ 0.4 -0.7  0. ]\n",
      "[ 0.5 -0.7  0. ]\n",
      "[ 0.6 -0.7  0. ]\n",
      "[ 0.7 -0.7  0. ]\n",
      "[ 0.8 -0.7  0. ]\n",
      "[ 0.8 -0.6  0. ]\n",
      "[ 0.8 -0.5  0. ]\n",
      "[ 0.8 -0.4  0. ]\n",
      "[ 0.8 -0.3  0. ]\n",
      "[ 0.8 -0.2  0. ]\n",
      "[ 0.8 -0.1  0. ]\n",
      "[ 8.00000000e-01 -2.77555756e-17  0.00000000e+00]\n",
      "[ 0.5 -0.7  0. ]\n",
      "[ 0.6 -0.7  0. ]\n",
      "[ 0.7 -0.7  0. ]\n",
      "[ 0.8 -0.7  0. ]\n",
      "[ 0.9 -0.7  0. ]\n",
      "[ 1.  -0.7  0. ]\n",
      "[ 7.00000000e-01 -2.77555756e-17  0.00000000e+00]\n",
      "[ 8.00000000e-01 -2.77555756e-17  0.00000000e+00]\n",
      "[ 9.00000000e-01 -2.77555756e-17  0.00000000e+00]\n",
      "[ 1.00000000e+00 -2.77555756e-17  0.00000000e+00]\n",
      "[ 1.10000000e+00 -2.77555756e-17  0.00000000e+00]\n",
      "[ 1.20000000e+00 -2.77555756e-17  0.00000000e+00]\n"
     ]
    }
   ],
   "source": [
    "check_close(sa2)"
   ]
  },
  {
   "cell_type": "code",
   "execution_count": 46,
   "id": "b444ad22",
   "metadata": {},
   "outputs": [
    {
     "data": {
      "text/plain": [
       "41"
      ]
     },
     "execution_count": 46,
     "metadata": {},
     "output_type": "execute_result"
    }
   ],
   "source": [
    "(score, parallel_pts)= parallel_score(sa2.history, sa.history)\n",
    "score"
   ]
  },
  {
   "cell_type": "code",
   "execution_count": 10,
   "id": "c255ff82",
   "metadata": {},
   "outputs": [
    {
     "data": {
      "text/plain": [
       "4"
      ]
     },
     "execution_count": 10,
     "metadata": {},
     "output_type": "execute_result"
    }
   ],
   "source": [
    "len(parallel_pts)"
   ]
  },
  {
   "cell_type": "code",
   "execution_count": 90,
   "id": "0b3ef1f4",
   "metadata": {},
   "outputs": [],
   "source": [
    "def block_to_rect(buffer, portion):\n",
    "    start = buffer[1]\n",
    "    end = buffer[-1]\n",
    "    x_start = min(start[0],end[0])\n",
    "    y_start = min(start[1],end[1])    \n",
    "    z_start = min(start[2],end[2])\n",
    "    \n",
    "    x_scale = max(abs(start[0] - end[0]), 0.1 * portion)\n",
    "    y_scale = max(abs(start[1] - end[1]), 0.1 * portion)\n",
    "    z_scale = max(abs(start[2] - end[2]), 0.1 * portion)\n",
    "    \n",
    "    if(x_scale > 0.1 * portion):\n",
    "        x_scale += 0.1 * portion\n",
    "        \n",
    "    if(y_scale > 0.1 * portion):\n",
    "        y_scale += 0.1 * portion\n",
    "        \n",
    "    if(z_scale > 0.1 * portion):\n",
    "        z_scale += 0.1 * portion\n",
    "\n",
    "    startPos = np.array([x_start,y_start,z_start])\n",
    "    scale = np.array([x_scale,y_scale,z_scale])\n",
    "    \n",
    "    tempt = rect(startPos, scale)\n",
    "    return tempt\n"
   ]
  },
  {
   "cell_type": "code",
   "execution_count": 107,
   "id": "9fd0dc7f",
   "metadata": {},
   "outputs": [],
   "source": [
    "class rect:\n",
    "    def __init__(self, startPos, scale): \n",
    "        self.start_x = round(startPos[0],2);\n",
    "        self.start_y = round(startPos[1],2);\n",
    "        self.start_z = round(startPos[2],2);\n",
    "        \n",
    "        self.scale_x = round(scale[0],2);\n",
    "        self.scale_y = round(scale[1],2);\n",
    "        self.scale_z = round(scale[2],2);\n",
    "    \n",
    "    def info(self):\n",
    "        print(\"start_x:\",self.start_x,\"start_y:\",self.start_y,\"start_z:\",self.start_z)\n",
    "        print(\"scale_x:\",self.scale_x,\"scale_y:\",self.scale_y,\"scale_z:\",self.scale_z)\n",
    "        print(\" \")\n",
    "    \n",
    "    def center_x(self):\n",
    "        return round(self.start_x + 0.5 * self.scale_x, 1)\n",
    "    \n",
    "    def center_y(self):\n",
    "        return round(self.start_y + 0.5 * self.scale_y,1)"
   ]
  },
  {
   "cell_type": "code",
   "execution_count": 96,
   "id": "329732eb",
   "metadata": {},
   "outputs": [],
   "source": [
    "b1 = np.array([[0,0,0], [0,1,0],[0,2,0],[0,3,0], [0,4,0]])\n",
    "b2 = np.array([[0,0,1], [0,1,1],[0,2,1],[0,3,1], [0,4,1]])"
   ]
  },
  {
   "cell_type": "code",
   "execution_count": 79,
   "id": "ffaf0422",
   "metadata": {},
   "outputs": [
    {
     "data": {
      "text/plain": [
       "array([[0, 0, 0],\n",
       "       [0, 1, 0],\n",
       "       [0, 2, 0],\n",
       "       [0, 3, 0],\n",
       "       [0, 4, 0],\n",
       "       [0, 0, 1],\n",
       "       [0, 1, 1],\n",
       "       [0, 2, 1],\n",
       "       [0, 3, 1],\n",
       "       [0, 4, 1]])"
      ]
     },
     "execution_count": 79,
     "metadata": {},
     "output_type": "execute_result"
    }
   ],
   "source": [
    "c = np.append(b1, b2, axis=0)\n",
    "c"
   ]
  },
  {
   "cell_type": "code",
   "execution_count": 64,
   "id": "dfe9e4f6",
   "metadata": {},
   "outputs": [],
   "source": [
    "rect_list = []"
   ]
  },
  {
   "cell_type": "code",
   "execution_count": 65,
   "id": "61b5f7aa",
   "metadata": {},
   "outputs": [
    {
     "data": {
      "text/plain": [
       "[<__main__.rect at 0x7fbf60789ac0>, <__main__.rect at 0x7fbf802414f0>]"
      ]
     },
     "execution_count": 65,
     "metadata": {},
     "output_type": "execute_result"
    }
   ],
   "source": [
    "rect_list.append(block_to_rect(b1))\n",
    "rect_list.append(block_to_rect(b2))\n",
    "rect_list"
   ]
  },
  {
   "cell_type": "code",
   "execution_count": 37,
   "id": "0568c045",
   "metadata": {},
   "outputs": [],
   "source": [
    "pos = np.array([2.0,2.0,4.0])\n",
    "np.array([[0.0,0.0,0.0]])"
   ]
  },
  {
   "cell_type": "code",
   "execution_count": 38,
   "id": "bd63d1ed",
   "metadata": {},
   "outputs": [
    {
     "data": {
      "text/plain": [
       "2.0"
      ]
     },
     "execution_count": 38,
     "metadata": {},
     "output_type": "execute_result"
    }
   ],
   "source": [
    "pos[0]"
   ]
  },
  {
   "cell_type": "code",
   "execution_count": 45,
   "id": "5377b50a",
   "metadata": {},
   "outputs": [],
   "source": [
    "def gen_seed(pos):\n",
    "    seed = pos\n",
    "    for i in range(1,5):\n",
    "        tempt = np.array([pos[0]+0.1*i,pos[1],pos[2]])\n",
    "        seed = np.vstack([seed, tempt])\n",
    "    return seed"
   ]
  },
  {
   "cell_type": "code",
   "execution_count": 46,
   "id": "f4f95f12",
   "metadata": {},
   "outputs": [],
   "source": [
    "a=gen_seed(pos)"
   ]
  },
  {
   "cell_type": "code",
   "execution_count": 56,
   "id": "eb1dd30b",
   "metadata": {},
   "outputs": [
    {
     "data": {
      "text/plain": [
       "2.4"
      ]
     },
     "execution_count": 56,
     "metadata": {},
     "output_type": "execute_result"
    }
   ],
   "source": [
    "a[-1][0]"
   ]
  },
  {
   "cell_type": "code",
   "execution_count": 51,
   "id": "b652e3be",
   "metadata": {},
   "outputs": [],
   "source": [
    "def get_next_possible(pos):\n",
    "    tempt1 = np.array([pos[0],pos[1]+0.1,pos[2],4])\n",
    "    tempt2 = np.array([pos[0],pos[1]-0.1,pos[2],3])\n",
    "    \n",
    "    return np.vstack([tempt1, tempt2])"
   ]
  },
  {
   "cell_type": "code",
   "execution_count": 52,
   "id": "fb9e5454",
   "metadata": {},
   "outputs": [],
   "source": [
    "pos_b = a[-1]"
   ]
  },
  {
   "cell_type": "code",
   "execution_count": 53,
   "id": "c080837d",
   "metadata": {},
   "outputs": [
    {
     "data": {
      "text/plain": [
       "array([[2.4, 2.1, 4. , 4. ],\n",
       "       [2.4, 1.9, 4. , 3. ]])"
      ]
     },
     "execution_count": 53,
     "metadata": {},
     "output_type": "execute_result"
    }
   ],
   "source": [
    "x = get_next_possible(pos_b)\n",
    "x"
   ]
  },
  {
   "cell_type": "code",
   "execution_count": null,
   "id": "9909d4a2",
   "metadata": {},
   "outputs": [],
   "source": []
  }
 ],
 "metadata": {
  "kernelspec": {
   "display_name": "Python 3 (ipykernel)",
   "language": "python",
   "name": "python3"
  },
  "language_info": {
   "codemirror_mode": {
    "name": "ipython",
    "version": 3
   },
   "file_extension": ".py",
   "mimetype": "text/x-python",
   "name": "python",
   "nbconvert_exporter": "python",
   "pygments_lexer": "ipython3",
   "version": "3.9.12"
  }
 },
 "nbformat": 4,
 "nbformat_minor": 5
}
