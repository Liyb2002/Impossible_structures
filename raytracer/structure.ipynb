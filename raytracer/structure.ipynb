{
 "cells": [
  {
   "cell_type": "code",
   "execution_count": 90,
   "id": "1207fa99",
   "metadata": {},
   "outputs": [],
   "source": [
    "import numpy as np\n",
    "import random\n",
    "\n",
    "class Structure:\n",
    "    def __init__(self, seed, seed_next_possible):\n",
    "        self.data = np.array([[0.0,0.0,0.0]])\n",
    "        self.next_possibles = seed_next_possible\n",
    "        self.rect = []\n",
    "        self.rect.append(block_to_rect(seed))\n",
    "        #print(\"initialized data: \\n\", self.data)\n",
    "\n",
    "  \n",
    "    def cost_func(self, pos):\n",
    "        return random.random()\n",
    "  \n",
    "    def add_vertex(self, next_vertex):\n",
    "        self.data = np.vstack([self.data, next_vertex])\n",
    "\n",
    "    def remove_possible(self, next_index):\n",
    "        self.next_possibles = np.delete(self.next_possibles, next_index, axis=0)\n",
    "  \n",
    "  #define direction:\n",
    "  #x=-1 -> 0, x=1 -> 1, y=-1 -> 2, y=1 -> 3, z=-1 -> 4, z=1 -> 5,\n",
    "    def get_next_possible(self, available_contact, direction):\n",
    "        result = np.array([0,0,0,0])\n",
    "\n",
    "        available_contact = np.append(available_contact, 0)\n",
    "        if direction == 0 or direction == 1:\n",
    "            result = np.vstack([result, available_contact + np.array([0.0,0.1,0.0,3])])\n",
    "            result = np.vstack([result, available_contact + np.array([0.0,-0.1,0.0,2])])\n",
    "            result = np.delete(result, 0, axis =0)\n",
    "            return result\n",
    "\n",
    "        if direction == 2 or direction == 3:\n",
    "            result = np.vstack([result, available_contact + np.array([0.1,0.0,0.0,1])])\n",
    "            result = np.vstack([result, available_contact + np.array([-0.1,0.0,0.0,1])])\n",
    "            result = np.delete(result, 0, axis =0)\n",
    "            return result\n",
    "\n",
    "    \n",
    "    def get_last_direction(self,direction):\n",
    "        count =direction[1]*1 + direction[2]*2\n",
    "        return count\n",
    "  \n",
    "    def get_vertex_forward(self, new_vertex_clean, direction):\n",
    "        if direction == 0:\n",
    "            return new_vertex_clean + np.array([-0.1,0.0,0.0])\n",
    "\n",
    "        if direction == 1:\n",
    "            return new_vertex_clean + np.array([0.1,0.0,0.0])\n",
    "\n",
    "        if direction == 2:\n",
    "            return new_vertex_clean + np.array([0.0,-0.1,0.0])\n",
    "\n",
    "        if direction == 3:\n",
    "            return new_vertex_clean + np.array([0.0,0.1,0.0])\n",
    "    \n",
    "    def generate(self, steps):\n",
    "        for i in range(steps):\n",
    "            #print(\"step \", i+1)\n",
    "            self.process()\n",
    "            self.rect.append(block_to_rect(self.data))\n",
    "            self.data = np.array([[0,0,0]])\n",
    "\n",
    "\n",
    "\n",
    "    def process(self):\n",
    "        #step 1: for all available contacts, assume they will make a turn  \n",
    "        #print(\"next_possibles\", self.next_possibles)\n",
    "\n",
    "        #step2: create a 1d array that stores cost for each possible point\n",
    "        costs = np.array([])\n",
    "        for next_possible in self.next_possibles:\n",
    "            costs = np.append(costs, self.cost_func(next_possible))\n",
    "\n",
    "        #print(\"costs\", costs)\n",
    "\n",
    "        #step3 find the next_vertex with smallest cost\n",
    "        next_index = np.argpartition(costs, -1)[-1:]\n",
    "        next_vertex = self.next_possibles[next_index] \n",
    "\n",
    "        #print(\"next_vertex\", next_vertex)\n",
    "\n",
    "        #step4 add next_vertex to data\n",
    "        new_direction = next_vertex[0][3]\n",
    "        #print(\"new_direction\", new_direction)\n",
    "        new_vertex_clean = np.array([next_vertex[0][0], next_vertex[0][1], next_vertex[0][2]])\n",
    "        #print(\"new_vertex_clean\", new_vertex_clean)\n",
    "        self.add_vertex(new_vertex_clean)\n",
    "        \n",
    "        span = 2 + int(random.random() * 5 % 5)\n",
    "        for i in range(span):\n",
    "            new_vertex_clean = self.get_vertex_forward(new_vertex_clean, new_direction)\n",
    "            self.add_vertex(new_vertex_clean)\n",
    "\n",
    "        #print(\"data: \\n\", self.data)\n",
    "\n",
    "        #step5 update next_possible\n",
    "        self.remove_possible(next_index)\n",
    "        #print(\"next_possibles, removed old\", self.next_possibles)\n",
    "        #print(\"next_vertex\", new_vertex_clean)\n",
    "        #print(\"new_direction\", new_direction)\n",
    "        new_next_possibles = self.get_next_possible(new_vertex_clean, new_direction)\n",
    "        self.next_possibles = np.append(self.next_possibles,new_next_possibles, axis=0)\n",
    "        #print(\"next_possibles, add new\", self.next_possibles)\n"
   ]
  },
  {
   "cell_type": "code",
   "execution_count": 91,
   "id": "157a827f",
   "metadata": {},
   "outputs": [],
   "source": [
    "seed = np.array([[0.0,0.0,.00], [0.0,0.1,0.0],[0.0,0.2,0.0],[0.0,0.3,0.0], [0.0,0.4,0.0]])\n",
    "seed_next_possible = np.array([[-0.1,0.4,0.0,0],[0.1,0.4,0.0,1]])\n"
   ]
  },
  {
   "cell_type": "code",
   "execution_count": 92,
   "id": "d14b4684",
   "metadata": {},
   "outputs": [],
   "source": [
    "s = Structure(seed, seed_next_possible)\n",
    "\n",
    "s.generate(5)"
   ]
  },
  {
   "cell_type": "code",
   "execution_count": 93,
   "id": "9c6dd4c7",
   "metadata": {},
   "outputs": [
    {
     "name": "stdout",
     "output_type": "stream",
     "text": [
      "start_x: 0.0 start_y: 0.1 start_z: 0.0\n",
      "scale_x: 0.1 scale_y: 0.3 scale_z: 0.1\n",
      " \n",
      "start_x: -0.5 start_y: 0.4 start_z: 0.0\n",
      "scale_x: 0.4 scale_y: 0.1 scale_z: 0.1\n",
      " \n",
      "start_x: 0.1 start_y: 0.4 start_z: 0.0\n",
      "scale_x: 0.6 scale_y: 0.1 scale_z: 0.1\n",
      " \n",
      "start_x: -0.5 start_y: -0.1 start_z: 0.0\n",
      "scale_x: 0.1 scale_y: 0.4 scale_z: 0.1\n",
      " \n",
      "start_x: -0.4 start_y: -0.1 start_z: 0.0\n",
      "scale_x: 0.3 scale_y: 0.1 scale_z: 0.1\n",
      " \n",
      "start_x: 0.7 start_y: 0.0 start_z: 0.0\n",
      "scale_x: 0.1 scale_y: 0.3 scale_z: 0.1\n",
      " \n"
     ]
    }
   ],
   "source": [
    "for i in s.rect:\n",
    "    i.info()"
   ]
  },
  {
   "cell_type": "code",
   "execution_count": 88,
   "id": "0b3ef1f4",
   "metadata": {},
   "outputs": [],
   "source": [
    "def block_to_rect(buffer):\n",
    "    start = buffer[1]\n",
    "    end = buffer[-1]\n",
    "    x_start = min(start[0],end[0])\n",
    "    y_start = min(start[1],end[1])    \n",
    "    z_start = min(start[2],end[2])\n",
    "    \n",
    "    x_scale = max(abs(start[0] - end[0]), 0.1)\n",
    "    y_scale = max(abs(start[1] - end[1]), 0.1)\n",
    "    z_scale = max(abs(start[2] - end[2]), 0.1)\n",
    "    \n",
    "    startPos = np.array([x_start,y_start,z_start])\n",
    "    scale = np.array([x_scale,y_scale,z_scale])\n",
    "    \n",
    "    tempt = rect(startPos, scale)\n",
    "    return tempt"
   ]
  },
  {
   "cell_type": "code",
   "execution_count": 89,
   "id": "9fd0dc7f",
   "metadata": {},
   "outputs": [],
   "source": [
    "class rect:\n",
    "    def __init__(self, startPos, scale): \n",
    "        self.start_x = round(startPos[0],2);\n",
    "        self.start_y = round(startPos[1],2);\n",
    "        self.start_z = round(startPos[2],2);\n",
    "        \n",
    "        self.scale_x = round(scale[0],2);\n",
    "        self.scale_y = round(scale[1],2);\n",
    "        self.scale_z = round(scale[2],2);\n",
    "    \n",
    "    def info(self):\n",
    "        print(\"start_x:\",self.start_x,\"start_y:\",self.start_y,\"start_z:\",self.start_z)\n",
    "        print(\"scale_x:\",self.scale_x,\"scale_y:\",self.scale_y,\"scale_z:\",self.scale_z)\n",
    "        print(\" \")\n",
    "    "
   ]
  },
  {
   "cell_type": "code",
   "execution_count": 81,
   "id": "329732eb",
   "metadata": {},
   "outputs": [],
   "source": [
    "b1 = np.array([[0,0,0], [0,1,0],[0,2,0],[0,3,0], [0,4,0]])\n",
    "b2 = np.array([[0,0,1], [0,1,1],[0,2,1],[0,3,1], [0,4,1]])"
   ]
  },
  {
   "cell_type": "code",
   "execution_count": 82,
   "id": "dfe9e4f6",
   "metadata": {},
   "outputs": [],
   "source": [
    "rect_list = []"
   ]
  },
  {
   "cell_type": "code",
   "execution_count": 83,
   "id": "61b5f7aa",
   "metadata": {},
   "outputs": [
    {
     "data": {
      "text/plain": [
       "[<__main__.rect at 0x7f89504b10d0>, <__main__.rect at 0x7f89504b1970>]"
      ]
     },
     "execution_count": 83,
     "metadata": {},
     "output_type": "execute_result"
    }
   ],
   "source": [
    "rect_list.append(block_to_rect(b1))\n",
    "rect_list.append(block_to_rect(b2))\n",
    "rect_list"
   ]
  },
  {
   "cell_type": "code",
   "execution_count": null,
   "id": "5377b50a",
   "metadata": {},
   "outputs": [],
   "source": []
  },
  {
   "cell_type": "code",
   "execution_count": null,
   "id": "f4f95f12",
   "metadata": {},
   "outputs": [],
   "source": []
  }
 ],
 "metadata": {
  "kernelspec": {
   "display_name": "Python 3 (ipykernel)",
   "language": "python",
   "name": "python3"
  },
  "language_info": {
   "codemirror_mode": {
    "name": "ipython",
    "version": 3
   },
   "file_extension": ".py",
   "mimetype": "text/x-python",
   "name": "python",
   "nbconvert_exporter": "python",
   "pygments_lexer": "ipython3",
   "version": "3.9.12"
  }
 },
 "nbformat": 4,
 "nbformat_minor": 5
}
