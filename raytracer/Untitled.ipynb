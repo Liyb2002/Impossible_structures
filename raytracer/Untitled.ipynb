{
 "cells": [
  {
   "cell_type": "code",
   "execution_count": null,
   "id": "e50b1f2d",
   "metadata": {},
   "outputs": [],
   "source": []
  },
  {
   "cell_type": "code",
   "execution_count": 89,
   "id": "c953117f",
   "metadata": {},
   "outputs": [],
   "source": [
    "seed = np.array([[0,0,0], [0,1,0],[0,2,0],[0,3,0], [0,4,0]])\n",
    "seed_next_possible = np.array([[-1,4,0,0],[1,4,0,1]])\n"
   ]
  },
  {
   "cell_type": "code",
   "execution_count": 90,
   "id": "cd65acc3",
   "metadata": {},
   "outputs": [
    {
     "name": "stdout",
     "output_type": "stream",
     "text": [
      "initialized data: \n",
      " [[0 0 0]\n",
      " [0 1 0]\n",
      " [0 2 0]\n",
      " [0 3 0]\n",
      " [0 4 0]]\n",
      "step  1\n",
      "data: \n",
      " [[0 0 0]\n",
      " [0 1 0]\n",
      " [0 2 0]\n",
      " [0 3 0]\n",
      " [0 4 0]\n",
      " [1 4 0]\n",
      " [2 4 0]\n",
      " [3 4 0]\n",
      " [4 4 0]\n",
      " [5 4 0]]\n",
      "step  2\n",
      "data: \n",
      " [[0 0 0]\n",
      " [0 1 0]\n",
      " [0 2 0]\n",
      " [0 3 0]\n",
      " [0 4 0]\n",
      " [1 4 0]\n",
      " [2 4 0]\n",
      " [3 4 0]\n",
      " [4 4 0]\n",
      " [5 4 0]\n",
      " [5 4 1]\n",
      " [5 4 2]\n",
      " [5 4 3]\n",
      " [5 4 4]\n",
      " [5 4 5]]\n",
      "step  3\n",
      "data: \n",
      " [[0 0 0]\n",
      " [0 1 0]\n",
      " [0 2 0]\n",
      " [0 3 0]\n",
      " [0 4 0]\n",
      " [1 4 0]\n",
      " [2 4 0]\n",
      " [3 4 0]\n",
      " [4 4 0]\n",
      " [5 4 0]\n",
      " [5 4 1]\n",
      " [5 4 2]\n",
      " [5 4 3]\n",
      " [5 4 4]\n",
      " [5 4 5]\n",
      " [5 5 5]\n",
      " [5 6 5]\n",
      " [5 7 5]\n",
      " [5 8 5]\n",
      " [5 9 5]]\n",
      "step  4\n",
      "data: \n",
      " [[ 0  0  0]\n",
      " [ 0  1  0]\n",
      " [ 0  2  0]\n",
      " [ 0  3  0]\n",
      " [ 0  4  0]\n",
      " [ 1  4  0]\n",
      " [ 2  4  0]\n",
      " [ 3  4  0]\n",
      " [ 4  4  0]\n",
      " [ 5  4  0]\n",
      " [ 5  4  1]\n",
      " [ 5  4  2]\n",
      " [ 5  4  3]\n",
      " [ 5  4  4]\n",
      " [ 5  4  5]\n",
      " [ 5  5  5]\n",
      " [ 5  6  5]\n",
      " [ 5  7  5]\n",
      " [ 5  8  5]\n",
      " [ 5  9  5]\n",
      " [ 5  9  6]\n",
      " [ 5  9  7]\n",
      " [ 5  9  8]\n",
      " [ 5  9  9]\n",
      " [ 5  9 10]]\n",
      "step  5\n",
      "data: \n",
      " [[ 0  0  0]\n",
      " [ 0  1  0]\n",
      " [ 0  2  0]\n",
      " [ 0  3  0]\n",
      " [ 0  4  0]\n",
      " [ 1  4  0]\n",
      " [ 2  4  0]\n",
      " [ 3  4  0]\n",
      " [ 4  4  0]\n",
      " [ 5  4  0]\n",
      " [ 5  4  1]\n",
      " [ 5  4  2]\n",
      " [ 5  4  3]\n",
      " [ 5  4  4]\n",
      " [ 5  4  5]\n",
      " [ 5  5  5]\n",
      " [ 5  6  5]\n",
      " [ 5  7  5]\n",
      " [ 5  8  5]\n",
      " [ 5  9  5]\n",
      " [ 5  9  6]\n",
      " [ 5  9  7]\n",
      " [ 5  9  8]\n",
      " [ 5  9  9]\n",
      " [ 5  9 10]\n",
      " [ 6  9 10]\n",
      " [ 7  9 10]\n",
      " [ 8  9 10]\n",
      " [ 9  9 10]\n",
      " [10  9 10]]\n"
     ]
    }
   ],
   "source": [
    "s = structure(seed, seed_next_possible)\n",
    "\n",
    "s.generate(5)"
   ]
  },
  {
   "cell_type": "code",
   "execution_count": 14,
   "id": "9a2e3c3f",
   "metadata": {},
   "outputs": [],
   "source": [
    "class rect:\n",
    "    def __init__(self, startPos, scale): \n",
    "        self.start_x = startPos[0];\n",
    "        self.start_y = startPos[1];\n",
    "        self.start_z = startPos[2];\n",
    "        \n",
    "        self.scale_x = scale[0];\n",
    "        self.scale_y = scale[1];\n",
    "        self.scale_z = scale[2];\n",
    "    \n",
    "    def info(self):\n",
    "        print(\"start_x:\",self.start_x,\"start_y:\",self.start_y,\"start_z:\",self.start_z)\n",
    "        print(\"scale_x:\",self.scale_x,\"scale_y:\",self.scale_y,\"scale_z:\",self.scale_z)\n",
    "\n",
    "    "
   ]
  },
  {
   "cell_type": "code",
   "execution_count": 6,
   "id": "5c42b54f",
   "metadata": {},
   "outputs": [],
   "source": [
    "a = rect(np.array([0,0,0]), np.array([1,1,1]))\n",
    "next_possible = np.array([0,1,0])"
   ]
  },
  {
   "cell_type": "code",
   "execution_count": 20,
   "id": "d16b503b",
   "metadata": {},
   "outputs": [],
   "source": [
    "b = np.array([(0,0,0), (0,-1,0), (0,-2,0),(0,-3,0)])"
   ]
  },
  {
   "cell_type": "code",
   "execution_count": 29,
   "id": "a6ba5444",
   "metadata": {},
   "outputs": [],
   "source": [
    "def block_to_rect(buffer):\n",
    "    start = buffer[0]\n",
    "    end = buffer[-1]\n",
    "    x_start = min(start[0],end[0])\n",
    "    y_start = min(start[1],end[1])    \n",
    "    z_start = min(start[2],end[2])\n",
    "    \n",
    "    x_scale = max(abs(start[0] - end[0]), 1)\n",
    "    y_scale = max(abs(start[1] - end[1]), 1)\n",
    "    z_scale = max(abs(start[2] - end[2]), 1)\n",
    "    print(x_scale)\n",
    "    \n",
    "    startPos = np.array([x_start,y_start,z_start])\n",
    "    scale = np.array([x_scale,y_scale,z_scale])\n",
    "    \n",
    "    tempt = rect(startPos, scale)\n",
    "    return tempt"
   ]
  },
  {
   "cell_type": "code",
   "execution_count": 30,
   "id": "aac4788a",
   "metadata": {},
   "outputs": [
    {
     "name": "stdout",
     "output_type": "stream",
     "text": [
      "1\n"
     ]
    }
   ],
   "source": [
    "rect_b = block_to_rect(b)"
   ]
  },
  {
   "cell_type": "code",
   "execution_count": 31,
   "id": "734c1a60",
   "metadata": {},
   "outputs": [
    {
     "name": "stdout",
     "output_type": "stream",
     "text": [
      "start_x: 0 start_y: -3 start_z: 0\n",
      "scale_x: 1 scale_y: 3 scale_z: 1\n"
     ]
    }
   ],
   "source": [
    "rect_b.info()"
   ]
  },
  {
   "cell_type": "code",
   "execution_count": 62,
   "id": "c59aece7",
   "metadata": {},
   "outputs": [],
   "source": [
    "c = np.array([[0,0,0], [0,-1,0], [0,-2,0],[0,-3,0]])"
   ]
  },
  {
   "cell_type": "code",
   "execution_count": null,
   "id": "e79d4ad6",
   "metadata": {},
   "outputs": [],
   "source": [
    "next_possibles = np.array([])"
   ]
  },
  {
   "cell_type": "code",
   "execution_count": 63,
   "id": "93e92384",
   "metadata": {},
   "outputs": [],
   "source": [
    "buffer = c[0]"
   ]
  },
  {
   "cell_type": "code",
   "execution_count": 64,
   "id": "af4eebfa",
   "metadata": {},
   "outputs": [],
   "source": [
    "for i in range(1,len(c)):\n",
    "    buffer = np.vstack([buffer, c[i]])"
   ]
  },
  {
   "cell_type": "code",
   "execution_count": 65,
   "id": "4f9ad23b",
   "metadata": {
    "scrolled": true
   },
   "outputs": [
    {
     "data": {
      "text/plain": [
       "array([[ 0,  0,  0],\n",
       "       [ 0, -1,  0],\n",
       "       [ 0, -2,  0],\n",
       "       [ 0, -3,  0]])"
      ]
     },
     "execution_count": 65,
     "metadata": {},
     "output_type": "execute_result"
    }
   ],
   "source": [
    "buffer"
   ]
  },
  {
   "cell_type": "code",
   "execution_count": 67,
   "id": "3313b941",
   "metadata": {},
   "outputs": [],
   "source": [
    "seed = np.array([[0,0,0], [0,1,0],[0,2,0],[0,3,0], [0,4,0]])\n",
    "seed_next_possible = np.array([[-1,4,0,0],[1,4,0,1],[0,4,-1,4], [0,4,1,5]])\n"
   ]
  },
  {
   "cell_type": "code",
   "execution_count": 68,
   "id": "4b1954db",
   "metadata": {},
   "outputs": [],
   "source": [
    "def cost_func(self, pos):\n",
    "    return pos[0] + pos[1] + pos[2] + random.random()"
   ]
  },
  {
   "cell_type": "code",
   "execution_count": 70,
   "id": "424fbc53",
   "metadata": {},
   "outputs": [
    {
     "ename": "TypeError",
     "evalue": "cost_func() missing 1 required positional argument: 'pos'",
     "output_type": "error",
     "traceback": [
      "\u001b[0;31m---------------------------------------------------------------------------\u001b[0m",
      "\u001b[0;31mTypeError\u001b[0m                                 Traceback (most recent call last)",
      "Input \u001b[0;32mIn [70]\u001b[0m, in \u001b[0;36m<cell line: 2>\u001b[0;34m()\u001b[0m\n\u001b[1;32m      1\u001b[0m costs \u001b[38;5;241m=\u001b[39m np\u001b[38;5;241m.\u001b[39marray([])\n\u001b[1;32m      2\u001b[0m \u001b[38;5;28;01mfor\u001b[39;00m next_possible \u001b[38;5;129;01min\u001b[39;00m seed_next_possible:\n\u001b[0;32m----> 3\u001b[0m     costs \u001b[38;5;241m=\u001b[39m np\u001b[38;5;241m.\u001b[39mappend(costs, \u001b[43mcost_func\u001b[49m\u001b[43m(\u001b[49m\u001b[43mseed_next_possible\u001b[49m\u001b[43m)\u001b[49m)\n",
      "\u001b[0;31mTypeError\u001b[0m: cost_func() missing 1 required positional argument: 'pos'"
     ]
    }
   ],
   "source": [
    "costs = np.array([])\n",
    "for next_possible in seed_next_possible:\n",
    "    costs = np.append(costs, cost_func(seed_next_possible))"
   ]
  },
  {
   "cell_type": "code",
   "execution_count": null,
   "id": "771bc9fd",
   "metadata": {},
   "outputs": [],
   "source": []
  }
 ],
 "metadata": {
  "kernelspec": {
   "display_name": "Python 3 (ipykernel)",
   "language": "python",
   "name": "python3"
  },
  "language_info": {
   "codemirror_mode": {
    "name": "ipython",
    "version": 3
   },
   "file_extension": ".py",
   "mimetype": "text/x-python",
   "name": "python",
   "nbconvert_exporter": "python",
   "pygments_lexer": "ipython3",
   "version": "3.9.12"
  }
 },
 "nbformat": 4,
 "nbformat_minor": 5
}
